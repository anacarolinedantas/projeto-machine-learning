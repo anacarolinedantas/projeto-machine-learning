{
  "nbformat": 4,
  "nbformat_minor": 0,
  "metadata": {
    "colab": {
      "name": "Checkpoint 1.ipynb",
      "provenance": [],
      "toc_visible": true
    },
    "kernelspec": {
      "name": "python3",
      "display_name": "Python 3"
    }
  },
  "cells": [
    {
      "cell_type": "code",
      "metadata": {
        "id": "m42s7X8BeE2l"
      },
      "source": [
        "import pandas as pd\n",
        "import numpy as np\n",
        "from google.colab import files"
      ],
      "execution_count": null,
      "outputs": []
    },
    {
      "cell_type": "markdown",
      "metadata": {
        "id": "94WvHTrMktaK"
      },
      "source": [
        "##**Lendo a base de dados**"
      ]
    },
    {
      "cell_type": "code",
      "metadata": {
        "id": "TkRt9Zkae4xU",
        "colab": {
          "base_uri": "https://localhost:8080/",
          "height": 351
        },
        "outputId": "001c4cbd-07b2-441d-8666-6d55d73c5155"
      },
      "source": [
        "df = pd.read_excel('satisfaction.xlsx')\n",
        "df.head()"
      ],
      "execution_count": null,
      "outputs": [
        {
          "output_type": "execute_result",
          "data": {
            "text/html": [
              "<div>\n",
              "<style scoped>\n",
              "    .dataframe tbody tr th:only-of-type {\n",
              "        vertical-align: middle;\n",
              "    }\n",
              "\n",
              "    .dataframe tbody tr th {\n",
              "        vertical-align: top;\n",
              "    }\n",
              "\n",
              "    .dataframe thead th {\n",
              "        text-align: right;\n",
              "    }\n",
              "</style>\n",
              "<table border=\"1\" class=\"dataframe\">\n",
              "  <thead>\n",
              "    <tr style=\"text-align: right;\">\n",
              "      <th></th>\n",
              "      <th>Unnamed: 0</th>\n",
              "      <th>id</th>\n",
              "      <th>satisfaction_v2</th>\n",
              "      <th>Gender</th>\n",
              "      <th>Customer Type</th>\n",
              "      <th>Age</th>\n",
              "      <th>Type of Travel</th>\n",
              "      <th>Class</th>\n",
              "      <th>Flight Distance</th>\n",
              "      <th>Seat comfort</th>\n",
              "      <th>Departure/Arrival time convenient</th>\n",
              "      <th>Food and drink</th>\n",
              "      <th>Gate location</th>\n",
              "      <th>Inflight wifi service</th>\n",
              "      <th>Inflight entertainment</th>\n",
              "      <th>Online support</th>\n",
              "      <th>Ease of Online booking</th>\n",
              "      <th>On-board service</th>\n",
              "      <th>Leg room service</th>\n",
              "      <th>Baggage handling</th>\n",
              "      <th>Checkin service</th>\n",
              "      <th>Cleanliness</th>\n",
              "      <th>Online boarding</th>\n",
              "      <th>Departure Delay in Minutes</th>\n",
              "      <th>Arrival Delay in Minutes</th>\n",
              "    </tr>\n",
              "  </thead>\n",
              "  <tbody>\n",
              "    <tr>\n",
              "      <th>0</th>\n",
              "      <td>79794</td>\n",
              "      <td>110257</td>\n",
              "      <td>satisfied</td>\n",
              "      <td>Female</td>\n",
              "      <td>Loyal Customer</td>\n",
              "      <td>60</td>\n",
              "      <td>Business travel</td>\n",
              "      <td>Business</td>\n",
              "      <td>3453</td>\n",
              "      <td>5</td>\n",
              "      <td>5</td>\n",
              "      <td>5</td>\n",
              "      <td>5</td>\n",
              "      <td>5</td>\n",
              "      <td>4</td>\n",
              "      <td>5</td>\n",
              "      <td>3</td>\n",
              "      <td>3</td>\n",
              "      <td>3</td>\n",
              "      <td>3</td>\n",
              "      <td>3</td>\n",
              "      <td>3</td>\n",
              "      <td>3</td>\n",
              "      <td>3</td>\n",
              "      <td>0.0</td>\n",
              "    </tr>\n",
              "    <tr>\n",
              "      <th>1</th>\n",
              "      <td>126187</td>\n",
              "      <td>122983</td>\n",
              "      <td>satisfied</td>\n",
              "      <td>Female</td>\n",
              "      <td>Loyal Customer</td>\n",
              "      <td>60</td>\n",
              "      <td>Business travel</td>\n",
              "      <td>Business</td>\n",
              "      <td>2761</td>\n",
              "      <td>3</td>\n",
              "      <td>3</td>\n",
              "      <td>3</td>\n",
              "      <td>3</td>\n",
              "      <td>3</td>\n",
              "      <td>4</td>\n",
              "      <td>4</td>\n",
              "      <td>5</td>\n",
              "      <td>5</td>\n",
              "      <td>5</td>\n",
              "      <td>5</td>\n",
              "      <td>4</td>\n",
              "      <td>5</td>\n",
              "      <td>3</td>\n",
              "      <td>1</td>\n",
              "      <td>0.0</td>\n",
              "    </tr>\n",
              "    <tr>\n",
              "      <th>2</th>\n",
              "      <td>12582</td>\n",
              "      <td>45936</td>\n",
              "      <td>neutral or dissatisfied</td>\n",
              "      <td>Male</td>\n",
              "      <td>Loyal Customer</td>\n",
              "      <td>29</td>\n",
              "      <td>Personal Travel</td>\n",
              "      <td>Eco</td>\n",
              "      <td>1374</td>\n",
              "      <td>2</td>\n",
              "      <td>4</td>\n",
              "      <td>2</td>\n",
              "      <td>1</td>\n",
              "      <td>3</td>\n",
              "      <td>2</td>\n",
              "      <td>3</td>\n",
              "      <td>3</td>\n",
              "      <td>5</td>\n",
              "      <td>5</td>\n",
              "      <td>5</td>\n",
              "      <td>3</td>\n",
              "      <td>5</td>\n",
              "      <td>3</td>\n",
              "      <td>0</td>\n",
              "      <td>0.0</td>\n",
              "    </tr>\n",
              "    <tr>\n",
              "      <th>3</th>\n",
              "      <td>25934</td>\n",
              "      <td>38153</td>\n",
              "      <td>neutral or dissatisfied</td>\n",
              "      <td>Male</td>\n",
              "      <td>Loyal Customer</td>\n",
              "      <td>39</td>\n",
              "      <td>Personal Travel</td>\n",
              "      <td>Eco</td>\n",
              "      <td>2108</td>\n",
              "      <td>3</td>\n",
              "      <td>4</td>\n",
              "      <td>3</td>\n",
              "      <td>3</td>\n",
              "      <td>5</td>\n",
              "      <td>3</td>\n",
              "      <td>5</td>\n",
              "      <td>5</td>\n",
              "      <td>5</td>\n",
              "      <td>3</td>\n",
              "      <td>5</td>\n",
              "      <td>5</td>\n",
              "      <td>4</td>\n",
              "      <td>5</td>\n",
              "      <td>0</td>\n",
              "      <td>0.0</td>\n",
              "    </tr>\n",
              "    <tr>\n",
              "      <th>4</th>\n",
              "      <td>115932</td>\n",
              "      <td>9820</td>\n",
              "      <td>satisfied</td>\n",
              "      <td>Female</td>\n",
              "      <td>Loyal Customer</td>\n",
              "      <td>40</td>\n",
              "      <td>Business travel</td>\n",
              "      <td>Business</td>\n",
              "      <td>2606</td>\n",
              "      <td>1</td>\n",
              "      <td>1</td>\n",
              "      <td>1</td>\n",
              "      <td>1</td>\n",
              "      <td>3</td>\n",
              "      <td>4</td>\n",
              "      <td>4</td>\n",
              "      <td>5</td>\n",
              "      <td>5</td>\n",
              "      <td>5</td>\n",
              "      <td>5</td>\n",
              "      <td>3</td>\n",
              "      <td>5</td>\n",
              "      <td>5</td>\n",
              "      <td>11</td>\n",
              "      <td>0.0</td>\n",
              "    </tr>\n",
              "  </tbody>\n",
              "</table>\n",
              "</div>"
            ],
            "text/plain": [
              "   Unnamed: 0      id  ... Departure Delay in Minutes Arrival Delay in Minutes\n",
              "0       79794  110257  ...                          3                      0.0\n",
              "1      126187  122983  ...                          1                      0.0\n",
              "2       12582   45936  ...                          0                      0.0\n",
              "3       25934   38153  ...                          0                      0.0\n",
              "4      115932    9820  ...                         11                      0.0\n",
              "\n",
              "[5 rows x 25 columns]"
            ]
          },
          "metadata": {
            "tags": []
          },
          "execution_count": 5
        }
      ]
    },
    {
      "cell_type": "code",
      "metadata": {
        "colab": {
          "base_uri": "https://localhost:8080/"
        },
        "id": "FImnjuTlKPzC",
        "outputId": "fb27f1fe-902a-40c7-eff2-4a604476962b"
      },
      "source": [
        "df.shape"
      ],
      "execution_count": null,
      "outputs": [
        {
          "output_type": "execute_result",
          "data": {
            "text/plain": [
              "(14752, 25)"
            ]
          },
          "metadata": {
            "tags": []
          },
          "execution_count": 6
        }
      ]
    },
    {
      "cell_type": "markdown",
      "metadata": {
        "id": "dL7yeXRmpqBb"
      },
      "source": [
        "## **Missing values**"
      ]
    },
    {
      "cell_type": "code",
      "metadata": {
        "colab": {
          "base_uri": "https://localhost:8080/"
        },
        "id": "eWOIEUADhT9_",
        "outputId": "f4a5b3d6-b2a1-4adf-dad8-0fc3603337c7"
      },
      "source": [
        "print(df.isna().sum())"
      ],
      "execution_count": null,
      "outputs": [
        {
          "output_type": "stream",
          "text": [
            "Unnamed: 0                            0\n",
            "id                                    0\n",
            "satisfaction_v2                       0\n",
            "Gender                                0\n",
            "Customer Type                         0\n",
            "Age                                   0\n",
            "Type of Travel                        0\n",
            "Class                                 0\n",
            "Flight Distance                       0\n",
            "Seat comfort                          0\n",
            "Departure/Arrival time convenient     0\n",
            "Food and drink                        0\n",
            "Gate location                         0\n",
            "Inflight wifi service                 0\n",
            "Inflight entertainment                0\n",
            "Online support                        0\n",
            "Ease of Online booking                0\n",
            "On-board service                      0\n",
            "Leg room service                      0\n",
            "Baggage handling                      0\n",
            "Checkin service                       0\n",
            "Cleanliness                           0\n",
            "Online boarding                       0\n",
            "Departure Delay in Minutes            0\n",
            "Arrival Delay in Minutes             43\n",
            "dtype: int64\n"
          ],
          "name": "stdout"
        }
      ]
    },
    {
      "cell_type": "code",
      "metadata": {
        "id": "_NxxayohhNVn"
      },
      "source": [
        "df = df.dropna(subset=[\"Arrival Delay in Minutes\"])"
      ],
      "execution_count": null,
      "outputs": []
    },
    {
      "cell_type": "code",
      "metadata": {
        "colab": {
          "base_uri": "https://localhost:8080/"
        },
        "id": "6wa-vMuSqtbH",
        "outputId": "753740e6-ece5-4c14-d57c-16ad44d52dfd"
      },
      "source": [
        "print(df.isna().sum())"
      ],
      "execution_count": null,
      "outputs": [
        {
          "output_type": "stream",
          "text": [
            "Unnamed: 0                           0\n",
            "id                                   0\n",
            "satisfaction_v2                      0\n",
            "Gender                               0\n",
            "Customer Type                        0\n",
            "Age                                  0\n",
            "Type of Travel                       0\n",
            "Class                                0\n",
            "Flight Distance                      0\n",
            "Seat comfort                         0\n",
            "Departure/Arrival time convenient    0\n",
            "Food and drink                       0\n",
            "Gate location                        0\n",
            "Inflight wifi service                0\n",
            "Inflight entertainment               0\n",
            "Online support                       0\n",
            "Ease of Online booking               0\n",
            "On-board service                     0\n",
            "Leg room service                     0\n",
            "Baggage handling                     0\n",
            "Checkin service                      0\n",
            "Cleanliness                          0\n",
            "Online boarding                      0\n",
            "Departure Delay in Minutes           0\n",
            "Arrival Delay in Minutes             0\n",
            "dtype: int64\n"
          ],
          "name": "stdout"
        }
      ]
    },
    {
      "cell_type": "markdown",
      "metadata": {
        "id": "CP3WcS1otJf_"
      },
      "source": [
        "## **Verificando os Outliers**"
      ]
    },
    {
      "cell_type": "code",
      "metadata": {
        "id": "ODuLuO8BwP2W",
        "colab": {
          "base_uri": "https://localhost:8080/"
        },
        "outputId": "4279bfc5-e712-477d-c490-c2a69c2be9ae"
      },
      "source": [
        "df.columns"
      ],
      "execution_count": null,
      "outputs": [
        {
          "output_type": "execute_result",
          "data": {
            "text/plain": [
              "Index(['id', 'satisfaction_v2', 'Gender', 'Customer Type', 'Age',\n",
              "       'Type of Travel', 'Class', 'Flight Distance', 'Seat comfort',\n",
              "       'Departure/Arrival time convenient', 'Food and drink', 'Gate location',\n",
              "       'Inflight wifi service', 'Inflight entertainment', 'Online support',\n",
              "       'Ease of Online booking', 'On-board service', 'Leg room service',\n",
              "       'Baggage handling', 'Checkin service', 'Cleanliness', 'Online boarding',\n",
              "       'Departure Delay in Minutes', 'Arrival Delay in Minutes'],\n",
              "      dtype='object')"
            ]
          },
          "metadata": {
            "tags": []
          },
          "execution_count": 17
        }
      ]
    },
    {
      "cell_type": "code",
      "metadata": {
        "id": "lR3yYBItskIA"
      },
      "source": [
        "numerical = ['Age', 'Flight Distance', 'Seat comfort',\n",
        "    'Departure/Arrival time convenient', 'Food and drink', 'Gate location',\n",
        "        'Inflight wifi service', 'Inflight entertainment', 'Online support',\n",
        "        'Ease of Online booking', 'On-board service', 'Leg room service',\n",
        "        'Baggage handling', 'Checkin service', 'Cleanliness', 'Online boarding',\n",
        "       'Departure Delay in Minutes', 'Arrival Delay in Minutes']"
      ],
      "execution_count": null,
      "outputs": []
    },
    {
      "cell_type": "code",
      "metadata": {
        "id": "FndN1ySDwvVd",
        "colab": {
          "base_uri": "https://localhost:8080/",
          "height": 265
        },
        "outputId": "ec5996b1-01c5-426f-f822-cd5dc5195b8e"
      },
      "source": [
        " np.random.seed(1234)\n",
        " df = pd.DataFrame(np.random.randn(10, 3),\n",
        "                   columns=['Age', 'Flight Distance', 'Seat comfort'])\n",
        "\n",
        " boxplot = df.boxplot(column=['Age', 'Flight Distance', 'Seat comfort'])"
      ],
      "execution_count": null,
      "outputs": [
        {
          "output_type": "display_data",
          "data": {
            "image/png": "[encoded data removed]",
            "text/plain": [
              "<Figure size 432x288 with 1 Axes>"
            ]
          },
          "metadata": {
            "tags": [],
            "needs_background": "light"
          }
        }
      ]
    },
    {
      "cell_type": "code",
      "metadata": {
        "id": "QVP6QjMj-RBA",
        "colab": {
          "base_uri": "https://localhost:8080/",
          "height": 265
        },
        "outputId": "3c9336be-7daa-4b47-faef-49c9839fc440"
      },
      "source": [
        " np.random.seed(1234)\n",
        "df = pd.DataFrame(np.random.randn(10, 3),\n",
        "                  columns=['Departure/Arrival time convenient', 'Food and drink', 'Gate location'])\n",
        "\n",
        "boxplot = df.boxplot(column=['Departure/Arrival time convenient', 'Food and drink', 'Gate location'])"
      ],
      "execution_count": null,
      "outputs": [
        {
          "output_type": "display_data",
          "data": {
            "image/png": "[encoded data removed]",
            "text/plain": [
              "<Figure size 432x288 with 1 Axes>"
            ]
          },
          "metadata": {
            "tags": [],
            "needs_background": "light"
          }
        }
      ]
    },
    {
      "cell_type": "code",
      "metadata": {
        "id": "nG1n8VO9-YFI",
        "colab": {
          "base_uri": "https://localhost:8080/",
          "height": 265
        },
        "outputId": "7496313a-2c35-4ec7-e203-098582a9ab0f"
      },
      "source": [
        " np.random.seed(1234)\n",
        " df = pd.DataFrame(np.random.randn(10, 3),\n",
        "                   columns=['Inflight wifi service', 'Inflight entertainment', 'Online support'])\n",
        "\n",
        " boxplot = df.boxplot(column=['Inflight wifi service', 'Inflight entertainment', 'Online support'])"
      ],
      "execution_count": null,
      "outputs": [
        {
          "output_type": "display_data",
          "data": {
            "image/png": "[encoded data removed]",
            "text/plain": [
              "<Figure size 432x288 with 1 Axes>"
            ]
          },
          "metadata": {
            "tags": [],
            "needs_background": "light"
          }
        }
      ]
    },
    {
      "cell_type": "code",
      "metadata": {
        "id": "gvgc1-1a-hVR",
        "colab": {
          "base_uri": "https://localhost:8080/",
          "height": 265
        },
        "outputId": "81132f42-1e9d-4d2f-e7a9-4378bd339991"
      },
      "source": [
        "np.random.seed(1234)\n",
        "df = pd.DataFrame(np.random.randn(10, 3),\n",
        "                   columns=['Ease of Online booking', 'On-board service', 'Leg room service'])\n",
        "\n",
        "boxplot = df.boxplot(column=['Ease of Online booking', 'On-board service', 'Leg room service'])"
      ],
      "execution_count": null,
      "outputs": [
        {
          "output_type": "display_data",
          "data": {
            "image/png": "[encoded data removed]",
            "text/plain": [
              "<Figure size 432x288 with 1 Axes>"
            ]
          },
          "metadata": {
            "tags": [],
            "needs_background": "light"
          }
        }
      ]
    },
    {
      "cell_type": "code",
      "metadata": {
        "id": "Ax6ZdBpV-1vG"
      },
      "source": [
        "np.random.seed(1234)\n",
        "df = pd.DataFrame(np.random.randn(10, 3),\n",
        "                  columns=['Baggage handling', 'Checkin service', 'Cleanliness'])\n",
        "\n",
        "boxplot = df.boxplot(column=['Baggage handling', 'Checkin service', 'Cleanliness'])"
      ],
      "execution_count": null,
      "outputs": []
    },
    {
      "cell_type": "code",
      "metadata": {
        "id": "NErcJgi--9qB",
        "colab": {
          "base_uri": "https://localhost:8080/",
          "height": 265
        },
        "outputId": "d13a5d69-e413-42b3-b5c6-7cfc275fa692"
      },
      "source": [
        " np.random.seed(1234)\n",
        "df = pd.DataFrame(np.random.randn(10, 3),\n",
        "                 columns=['Online boarding','Departure Delay in Minutes', 'Arrival Delay in Minutes'])\n",
        "\n",
        "boxplot = df.boxplot(column=['Online boarding','Departure Delay in Minutes', 'Arrival Delay in Minutes'])"
      ],
      "execution_count": null,
      "outputs": [
        {
          "output_type": "display_data",
          "data": {
            "image/png": "[encoded data removed]",
            "text/plain": [
              "<Figure size 432x288 with 1 Axes>"
            ]
          },
          "metadata": {
            "tags": [],
            "needs_background": "light"
          }
        }
      ]
    },
    {
      "cell_type": "markdown",
      "metadata": {
        "id": "-_pjhIx0v26P"
      },
      "source": [
        "## **Transformação de Dados**"
      ]
    },
    {
      "cell_type": "code",
      "metadata": {
        "id": "43zOWA6gxE2L"
      },
      "source": [
        "df = df.drop('id', axis=1)\n",
        "df = df.drop('Unnamed: 0', axis=1)"
      ],
      "execution_count": null,
      "outputs": []
    },
    {
      "cell_type": "code",
      "metadata": {
        "id": "nmlP6O9CxYyM"
      },
      "source": [
        "nominal_to_num = {\"satisfaction_v2\": {\"satisfied\": 1, \"neutral or dissatisfied\": 0},\n",
        "                \"Gender\": {\"Female\": 1, \"Male\": 0},\n",
        "                \"Customer Type\": {\"Loyal Customer\": 1, \"disloyal Customer\": 0},\n",
        "                \"Type of Travel\": {\"Business travel\": 1, \"Personal Travel\": 0},\n",
        "                \"Class\": {\"Business\": 1, \"Eco\": 2, \"Eco Plus\": 3}}"
      ],
      "execution_count": null,
      "outputs": []
    },
    {
      "cell_type": "code",
      "metadata": {
        "colab": {
          "base_uri": "https://localhost:8080/",
          "height": 267
        },
        "id": "-4gDxKuTxY5G",
        "outputId": "0f92e9f1-5198-4308-dea5-51bd9e661d91"
      },
      "source": [
        "df_transformacao = df.replace(nominal_to_num)\n",
        "df_transformacao.head()"
      ],
      "execution_count": null,
      "outputs": [
        {
          "output_type": "execute_result",
          "data": {
            "text/html": [
              "<div>\n",
              "<style scoped>\n",
              "    .dataframe tbody tr th:only-of-type {\n",
              "        vertical-align: middle;\n",
              "    }\n",
              "\n",
              "    .dataframe tbody tr th {\n",
              "        vertical-align: top;\n",
              "    }\n",
              "\n",
              "    .dataframe thead th {\n",
              "        text-align: right;\n",
              "    }\n",
              "</style>\n",
              "<table border=\"1\" class=\"dataframe\">\n",
              "  <thead>\n",
              "    <tr style=\"text-align: right;\">\n",
              "      <th></th>\n",
              "      <th>satisfaction_v2</th>\n",
              "      <th>Gender</th>\n",
              "      <th>Customer Type</th>\n",
              "      <th>Age</th>\n",
              "      <th>Type of Travel</th>\n",
              "      <th>Class</th>\n",
              "      <th>Flight Distance</th>\n",
              "      <th>Seat comfort</th>\n",
              "      <th>Departure/Arrival time convenient</th>\n",
              "      <th>Food and drink</th>\n",
              "      <th>Gate location</th>\n",
              "      <th>Inflight wifi service</th>\n",
              "      <th>Inflight entertainment</th>\n",
              "      <th>Online support</th>\n",
              "      <th>Ease of Online booking</th>\n",
              "      <th>On-board service</th>\n",
              "      <th>Leg room service</th>\n",
              "      <th>Baggage handling</th>\n",
              "      <th>Checkin service</th>\n",
              "      <th>Cleanliness</th>\n",
              "      <th>Online boarding</th>\n",
              "      <th>Departure Delay in Minutes</th>\n",
              "      <th>Arrival Delay in Minutes</th>\n",
              "    </tr>\n",
              "  </thead>\n",
              "  <tbody>\n",
              "    <tr>\n",
              "      <th>0</th>\n",
              "      <td>1</td>\n",
              "      <td>1</td>\n",
              "      <td>1</td>\n",
              "      <td>60</td>\n",
              "      <td>1</td>\n",
              "      <td>1</td>\n",
              "      <td>3453</td>\n",
              "      <td>5</td>\n",
              "      <td>5</td>\n",
              "      <td>5</td>\n",
              "      <td>5</td>\n",
              "      <td>5</td>\n",
              "      <td>4</td>\n",
              "      <td>5</td>\n",
              "      <td>3</td>\n",
              "      <td>3</td>\n",
              "      <td>3</td>\n",
              "      <td>3</td>\n",
              "      <td>3</td>\n",
              "      <td>3</td>\n",
              "      <td>3</td>\n",
              "      <td>3</td>\n",
              "      <td>0.0</td>\n",
              "    </tr>\n",
              "    <tr>\n",
              "      <th>1</th>\n",
              "      <td>1</td>\n",
              "      <td>1</td>\n",
              "      <td>1</td>\n",
              "      <td>60</td>\n",
              "      <td>1</td>\n",
              "      <td>1</td>\n",
              "      <td>2761</td>\n",
              "      <td>3</td>\n",
              "      <td>3</td>\n",
              "      <td>3</td>\n",
              "      <td>3</td>\n",
              "      <td>3</td>\n",
              "      <td>4</td>\n",
              "      <td>4</td>\n",
              "      <td>5</td>\n",
              "      <td>5</td>\n",
              "      <td>5</td>\n",
              "      <td>5</td>\n",
              "      <td>4</td>\n",
              "      <td>5</td>\n",
              "      <td>3</td>\n",
              "      <td>1</td>\n",
              "      <td>0.0</td>\n",
              "    </tr>\n",
              "    <tr>\n",
              "      <th>2</th>\n",
              "      <td>0</td>\n",
              "      <td>0</td>\n",
              "      <td>1</td>\n",
              "      <td>29</td>\n",
              "      <td>0</td>\n",
              "      <td>2</td>\n",
              "      <td>1374</td>\n",
              "      <td>2</td>\n",
              "      <td>4</td>\n",
              "      <td>2</td>\n",
              "      <td>1</td>\n",
              "      <td>3</td>\n",
              "      <td>2</td>\n",
              "      <td>3</td>\n",
              "      <td>3</td>\n",
              "      <td>5</td>\n",
              "      <td>5</td>\n",
              "      <td>5</td>\n",
              "      <td>3</td>\n",
              "      <td>5</td>\n",
              "      <td>3</td>\n",
              "      <td>0</td>\n",
              "      <td>0.0</td>\n",
              "    </tr>\n",
              "    <tr>\n",
              "      <th>3</th>\n",
              "      <td>0</td>\n",
              "      <td>0</td>\n",
              "      <td>1</td>\n",
              "      <td>39</td>\n",
              "      <td>0</td>\n",
              "      <td>2</td>\n",
              "      <td>2108</td>\n",
              "      <td>3</td>\n",
              "      <td>4</td>\n",
              "      <td>3</td>\n",
              "      <td>3</td>\n",
              "      <td>5</td>\n",
              "      <td>3</td>\n",
              "      <td>5</td>\n",
              "      <td>5</td>\n",
              "      <td>5</td>\n",
              "      <td>3</td>\n",
              "      <td>5</td>\n",
              "      <td>5</td>\n",
              "      <td>4</td>\n",
              "      <td>5</td>\n",
              "      <td>0</td>\n",
              "      <td>0.0</td>\n",
              "    </tr>\n",
              "    <tr>\n",
              "      <th>4</th>\n",
              "      <td>1</td>\n",
              "      <td>1</td>\n",
              "      <td>1</td>\n",
              "      <td>40</td>\n",
              "      <td>1</td>\n",
              "      <td>1</td>\n",
              "      <td>2606</td>\n",
              "      <td>1</td>\n",
              "      <td>1</td>\n",
              "      <td>1</td>\n",
              "      <td>1</td>\n",
              "      <td>3</td>\n",
              "      <td>4</td>\n",
              "      <td>4</td>\n",
              "      <td>5</td>\n",
              "      <td>5</td>\n",
              "      <td>5</td>\n",
              "      <td>5</td>\n",
              "      <td>3</td>\n",
              "      <td>5</td>\n",
              "      <td>5</td>\n",
              "      <td>11</td>\n",
              "      <td>0.0</td>\n",
              "    </tr>\n",
              "  </tbody>\n",
              "</table>\n",
              "</div>"
            ],
            "text/plain": [
              "   satisfaction_v2  ...  Arrival Delay in Minutes\n",
              "0                1  ...                       0.0\n",
              "1                1  ...                       0.0\n",
              "2                0  ...                       0.0\n",
              "3                0  ...                       0.0\n",
              "4                1  ...                       0.0\n",
              "\n",
              "[5 rows x 23 columns]"
            ]
          },
          "metadata": {
            "tags": []
          },
          "execution_count": 14
        }
      ]
    },
    {
      "cell_type": "code",
      "metadata": {
        "colab": {
          "base_uri": "https://localhost:8080/"
        },
        "id": "-S9XXgE_9gry",
        "outputId": "133212d5-2cab-4ab0-daae-7efec5e2e6c3"
      },
      "source": [
        "df_transformacao.shape"
      ],
      "execution_count": null,
      "outputs": [
        {
          "output_type": "execute_result",
          "data": {
            "text/plain": [
              "(14709, 23)"
            ]
          },
          "metadata": {
            "tags": []
          },
          "execution_count": 15
        }
      ]
    },
    {
      "cell_type": "markdown",
      "metadata": {
        "id": "bkG4EtJWAP9u"
      },
      "source": [
        "## **Redução de Instâncias**"
      ]
    },
    {
      "cell_type": "code",
      "metadata": {
        "id": "5FDmSxq1ATPr"
      },
      "source": [
        ""
      ],
      "execution_count": null,
      "outputs": []
    },
    {
      "cell_type": "code",
      "metadata": {
        "id": "59bxGFwTAUEI"
      },
      "source": [
        ""
      ],
      "execution_count": null,
      "outputs": []
    },
    {
      "cell_type": "code",
      "metadata": {
        "id": "6yT6srnaAUPP"
      },
      "source": [
        ""
      ],
      "execution_count": null,
      "outputs": []
    },
    {
      "cell_type": "markdown",
      "metadata": {
        "id": "Bs7cu8TPAUzK"
      },
      "source": [
        "## **Seleção de Atributos - Correlação de Pearson**"
      ]
    },
    {
      "cell_type": "code",
      "metadata": {
        "id": "gdFrnmLhAZDc",
        "colab": {
          "base_uri": "https://localhost:8080/",
          "height": 907
        },
        "outputId": "69f6b1e9-252e-4efb-c264-1f71616deda4"
      },
      "source": [
        "import matplotlib.pyplot as plt\n",
        "import seaborn as sns\n",
        "df_corr = df_transformacao.corr(method ='pearson')\n",
        "df_corr"
      ],
      "execution_count": null,
      "outputs": [
        {
          "output_type": "execute_result",
          "data": {
            "text/html": [
              "<div>\n",
              "<style scoped>\n",
              "    .dataframe tbody tr th:only-of-type {\n",
              "        vertical-align: middle;\n",
              "    }\n",
              "\n",
              "    .dataframe tbody tr th {\n",
              "        vertical-align: top;\n",
              "    }\n",
              "\n",
              "    .dataframe thead th {\n",
              "        text-align: right;\n",
              "    }\n",
              "</style>\n",
              "<table border=\"1\" class=\"dataframe\">\n",
              "  <thead>\n",
              "    <tr style=\"text-align: right;\">\n",
              "      <th></th>\n",
              "      <th>satisfaction_v2</th>\n",
              "      <th>Gender</th>\n",
              "      <th>Customer Type</th>\n",
              "      <th>Age</th>\n",
              "      <th>Type of Travel</th>\n",
              "      <th>Class</th>\n",
              "      <th>Flight Distance</th>\n",
              "      <th>Seat comfort</th>\n",
              "      <th>Departure/Arrival time convenient</th>\n",
              "      <th>Food and drink</th>\n",
              "      <th>Gate location</th>\n",
              "      <th>Inflight wifi service</th>\n",
              "      <th>Inflight entertainment</th>\n",
              "      <th>Online support</th>\n",
              "      <th>Ease of Online booking</th>\n",
              "      <th>On-board service</th>\n",
              "      <th>Leg room service</th>\n",
              "      <th>Baggage handling</th>\n",
              "      <th>Checkin service</th>\n",
              "      <th>Cleanliness</th>\n",
              "      <th>Online boarding</th>\n",
              "      <th>Departure Delay in Minutes</th>\n",
              "      <th>Arrival Delay in Minutes</th>\n",
              "    </tr>\n",
              "  </thead>\n",
              "  <tbody>\n",
              "    <tr>\n",
              "      <th>satisfaction_v2</th>\n",
              "      <td>1.000000</td>\n",
              "      <td>0.210815</td>\n",
              "      <td>0.291590</td>\n",
              "      <td>0.107200</td>\n",
              "      <td>0.111811</td>\n",
              "      <td>-0.287277</td>\n",
              "      <td>-0.039389</td>\n",
              "      <td>0.242357</td>\n",
              "      <td>-0.015980</td>\n",
              "      <td>0.121287</td>\n",
              "      <td>-0.009796</td>\n",
              "      <td>0.226262</td>\n",
              "      <td>0.527732</td>\n",
              "      <td>0.392983</td>\n",
              "      <td>0.422915</td>\n",
              "      <td>0.352357</td>\n",
              "      <td>0.295527</td>\n",
              "      <td>0.257038</td>\n",
              "      <td>0.274972</td>\n",
              "      <td>0.254400</td>\n",
              "      <td>0.339034</td>\n",
              "      <td>-0.079004</td>\n",
              "      <td>-0.085016</td>\n",
              "    </tr>\n",
              "    <tr>\n",
              "      <th>Gender</th>\n",
              "      <td>0.210815</td>\n",
              "      <td>1.000000</td>\n",
              "      <td>-0.028211</td>\n",
              "      <td>-0.015486</td>\n",
              "      <td>0.007743</td>\n",
              "      <td>0.014446</td>\n",
              "      <td>-0.119229</td>\n",
              "      <td>0.072283</td>\n",
              "      <td>-0.048439</td>\n",
              "      <td>0.057898</td>\n",
              "      <td>0.016738</td>\n",
              "      <td>0.024513</td>\n",
              "      <td>0.134444</td>\n",
              "      <td>0.085396</td>\n",
              "      <td>0.071735</td>\n",
              "      <td>0.050789</td>\n",
              "      <td>0.067858</td>\n",
              "      <td>0.015687</td>\n",
              "      <td>0.021252</td>\n",
              "      <td>0.014368</td>\n",
              "      <td>0.035103</td>\n",
              "      <td>-0.000798</td>\n",
              "      <td>0.000930</td>\n",
              "    </tr>\n",
              "    <tr>\n",
              "      <th>Customer Type</th>\n",
              "      <td>0.291590</td>\n",
              "      <td>-0.028211</td>\n",
              "      <td>1.000000</td>\n",
              "      <td>0.284860</td>\n",
              "      <td>-0.316024</td>\n",
              "      <td>-0.045395</td>\n",
              "      <td>-0.011378</td>\n",
              "      <td>0.044962</td>\n",
              "      <td>0.195410</td>\n",
              "      <td>0.051538</td>\n",
              "      <td>0.003548</td>\n",
              "      <td>0.067692</td>\n",
              "      <td>0.238521</td>\n",
              "      <td>0.173413</td>\n",
              "      <td>0.136216</td>\n",
              "      <td>0.075503</td>\n",
              "      <td>0.091397</td>\n",
              "      <td>-0.012258</td>\n",
              "      <td>0.044562</td>\n",
              "      <td>-0.004044</td>\n",
              "      <td>0.097299</td>\n",
              "      <td>-0.011824</td>\n",
              "      <td>-0.006282</td>\n",
              "    </tr>\n",
              "    <tr>\n",
              "      <th>Age</th>\n",
              "      <td>0.107200</td>\n",
              "      <td>-0.015486</td>\n",
              "      <td>0.284860</td>\n",
              "      <td>1.000000</td>\n",
              "      <td>0.039407</td>\n",
              "      <td>-0.115848</td>\n",
              "      <td>-0.243844</td>\n",
              "      <td>0.001621</td>\n",
              "      <td>0.031825</td>\n",
              "      <td>0.004034</td>\n",
              "      <td>-0.009256</td>\n",
              "      <td>0.016361</td>\n",
              "      <td>0.126517</td>\n",
              "      <td>0.110192</td>\n",
              "      <td>0.056183</td>\n",
              "      <td>0.060035</td>\n",
              "      <td>0.075664</td>\n",
              "      <td>-0.023637</td>\n",
              "      <td>0.045886</td>\n",
              "      <td>-0.036067</td>\n",
              "      <td>0.034005</td>\n",
              "      <td>-0.015434</td>\n",
              "      <td>-0.017037</td>\n",
              "    </tr>\n",
              "    <tr>\n",
              "      <th>Type of Travel</th>\n",
              "      <td>0.111811</td>\n",
              "      <td>0.007743</td>\n",
              "      <td>-0.316024</td>\n",
              "      <td>0.039407</td>\n",
              "      <td>1.000000</td>\n",
              "      <td>-0.477979</td>\n",
              "      <td>0.119877</td>\n",
              "      <td>-0.012264</td>\n",
              "      <td>-0.198688</td>\n",
              "      <td>0.035890</td>\n",
              "      <td>0.007913</td>\n",
              "      <td>0.029185</td>\n",
              "      <td>0.087420</td>\n",
              "      <td>0.047649</td>\n",
              "      <td>0.030901</td>\n",
              "      <td>-0.024355</td>\n",
              "      <td>-0.016886</td>\n",
              "      <td>-0.037614</td>\n",
              "      <td>-0.052881</td>\n",
              "      <td>-0.058348</td>\n",
              "      <td>0.018260</td>\n",
              "      <td>0.008012</td>\n",
              "      <td>0.009319</td>\n",
              "    </tr>\n",
              "    <tr>\n",
              "      <th>Class</th>\n",
              "      <td>-0.287277</td>\n",
              "      <td>0.014446</td>\n",
              "      <td>-0.045395</td>\n",
              "      <td>-0.115848</td>\n",
              "      <td>-0.477979</td>\n",
              "      <td>1.000000</td>\n",
              "      <td>-0.157016</td>\n",
              "      <td>0.040087</td>\n",
              "      <td>0.056297</td>\n",
              "      <td>-0.042090</td>\n",
              "      <td>0.002350</td>\n",
              "      <td>-0.062966</td>\n",
              "      <td>-0.225601</td>\n",
              "      <td>-0.161623</td>\n",
              "      <td>-0.120638</td>\n",
              "      <td>-0.179281</td>\n",
              "      <td>-0.116547</td>\n",
              "      <td>-0.138275</td>\n",
              "      <td>-0.142418</td>\n",
              "      <td>-0.124570</td>\n",
              "      <td>-0.099804</td>\n",
              "      <td>0.013274</td>\n",
              "      <td>0.022222</td>\n",
              "    </tr>\n",
              "    <tr>\n",
              "      <th>Flight Distance</th>\n",
              "      <td>-0.039389</td>\n",
              "      <td>-0.119229</td>\n",
              "      <td>-0.011378</td>\n",
              "      <td>-0.243844</td>\n",
              "      <td>0.119877</td>\n",
              "      <td>-0.157016</td>\n",
              "      <td>1.000000</td>\n",
              "      <td>-0.041220</td>\n",
              "      <td>0.003193</td>\n",
              "      <td>0.005023</td>\n",
              "      <td>0.002481</td>\n",
              "      <td>0.003722</td>\n",
              "      <td>-0.029069</td>\n",
              "      <td>-0.035685</td>\n",
              "      <td>-0.018041</td>\n",
              "      <td>-0.023136</td>\n",
              "      <td>-0.029494</td>\n",
              "      <td>0.029640</td>\n",
              "      <td>0.000490</td>\n",
              "      <td>0.022545</td>\n",
              "      <td>0.010082</td>\n",
              "      <td>0.110226</td>\n",
              "      <td>0.108483</td>\n",
              "    </tr>\n",
              "    <tr>\n",
              "      <th>Seat comfort</th>\n",
              "      <td>0.242357</td>\n",
              "      <td>0.072283</td>\n",
              "      <td>0.044962</td>\n",
              "      <td>0.001621</td>\n",
              "      <td>-0.012264</td>\n",
              "      <td>0.040087</td>\n",
              "      <td>-0.041220</td>\n",
              "      <td>1.000000</td>\n",
              "      <td>0.428603</td>\n",
              "      <td>0.707845</td>\n",
              "      <td>0.410865</td>\n",
              "      <td>0.123208</td>\n",
              "      <td>0.436007</td>\n",
              "      <td>0.128244</td>\n",
              "      <td>0.205705</td>\n",
              "      <td>0.116530</td>\n",
              "      <td>0.140038</td>\n",
              "      <td>0.112923</td>\n",
              "      <td>0.044449</td>\n",
              "      <td>0.096369</td>\n",
              "      <td>0.132491</td>\n",
              "      <td>-0.021326</td>\n",
              "      <td>-0.019024</td>\n",
              "    </tr>\n",
              "    <tr>\n",
              "      <th>Departure/Arrival time convenient</th>\n",
              "      <td>-0.015980</td>\n",
              "      <td>-0.048439</td>\n",
              "      <td>0.195410</td>\n",
              "      <td>0.031825</td>\n",
              "      <td>-0.198688</td>\n",
              "      <td>0.056297</td>\n",
              "      <td>0.003193</td>\n",
              "      <td>0.428603</td>\n",
              "      <td>1.000000</td>\n",
              "      <td>0.521542</td>\n",
              "      <td>0.539837</td>\n",
              "      <td>-0.016247</td>\n",
              "      <td>0.079870</td>\n",
              "      <td>-0.008501</td>\n",
              "      <td>-0.012890</td>\n",
              "      <td>0.058260</td>\n",
              "      <td>0.024275</td>\n",
              "      <td>0.060993</td>\n",
              "      <td>0.055159</td>\n",
              "      <td>0.064328</td>\n",
              "      <td>-0.006411</td>\n",
              "      <td>0.021104</td>\n",
              "      <td>0.018150</td>\n",
              "    </tr>\n",
              "    <tr>\n",
              "      <th>Food and drink</th>\n",
              "      <td>0.121287</td>\n",
              "      <td>0.057898</td>\n",
              "      <td>0.051538</td>\n",
              "      <td>0.004034</td>\n",
              "      <td>0.035890</td>\n",
              "      <td>-0.042090</td>\n",
              "      <td>0.005023</td>\n",
              "      <td>0.707845</td>\n",
              "      <td>0.521542</td>\n",
              "      <td>1.000000</td>\n",
              "      <td>0.529540</td>\n",
              "      <td>0.018759</td>\n",
              "      <td>0.370378</td>\n",
              "      <td>0.025770</td>\n",
              "      <td>0.030483</td>\n",
              "      <td>0.045712</td>\n",
              "      <td>0.082276</td>\n",
              "      <td>0.038276</td>\n",
              "      <td>0.005230</td>\n",
              "      <td>0.028154</td>\n",
              "      <td>0.011567</td>\n",
              "      <td>-0.001950</td>\n",
              "      <td>-0.001444</td>\n",
              "    </tr>\n",
              "    <tr>\n",
              "      <th>Gate location</th>\n",
              "      <td>-0.009796</td>\n",
              "      <td>0.016738</td>\n",
              "      <td>0.003548</td>\n",
              "      <td>-0.009256</td>\n",
              "      <td>0.007913</td>\n",
              "      <td>0.002350</td>\n",
              "      <td>0.002481</td>\n",
              "      <td>0.410865</td>\n",
              "      <td>0.539837</td>\n",
              "      <td>0.529540</td>\n",
              "      <td>1.000000</td>\n",
              "      <td>-0.008905</td>\n",
              "      <td>0.015923</td>\n",
              "      <td>0.000877</td>\n",
              "      <td>-0.009095</td>\n",
              "      <td>-0.028867</td>\n",
              "      <td>-0.014803</td>\n",
              "      <td>-0.006023</td>\n",
              "      <td>-0.031878</td>\n",
              "      <td>0.003946</td>\n",
              "      <td>-0.000019</td>\n",
              "      <td>0.017090</td>\n",
              "      <td>0.017139</td>\n",
              "    </tr>\n",
              "    <tr>\n",
              "      <th>Inflight wifi service</th>\n",
              "      <td>0.226262</td>\n",
              "      <td>0.024513</td>\n",
              "      <td>0.067692</td>\n",
              "      <td>0.016361</td>\n",
              "      <td>0.029185</td>\n",
              "      <td>-0.062966</td>\n",
              "      <td>0.003722</td>\n",
              "      <td>0.123208</td>\n",
              "      <td>-0.016247</td>\n",
              "      <td>0.018759</td>\n",
              "      <td>-0.008905</td>\n",
              "      <td>1.000000</td>\n",
              "      <td>0.251305</td>\n",
              "      <td>0.569313</td>\n",
              "      <td>0.605380</td>\n",
              "      <td>0.061575</td>\n",
              "      <td>0.039093</td>\n",
              "      <td>0.031447</td>\n",
              "      <td>0.094637</td>\n",
              "      <td>0.036529</td>\n",
              "      <td>0.639436</td>\n",
              "      <td>-0.031526</td>\n",
              "      <td>-0.035838</td>\n",
              "    </tr>\n",
              "    <tr>\n",
              "      <th>Inflight entertainment</th>\n",
              "      <td>0.527732</td>\n",
              "      <td>0.134444</td>\n",
              "      <td>0.238521</td>\n",
              "      <td>0.126517</td>\n",
              "      <td>0.087420</td>\n",
              "      <td>-0.225601</td>\n",
              "      <td>-0.029069</td>\n",
              "      <td>0.436007</td>\n",
              "      <td>0.079870</td>\n",
              "      <td>0.370378</td>\n",
              "      <td>0.015923</td>\n",
              "      <td>0.251305</td>\n",
              "      <td>1.000000</td>\n",
              "      <td>0.442653</td>\n",
              "      <td>0.314522</td>\n",
              "      <td>0.187708</td>\n",
              "      <td>0.162830</td>\n",
              "      <td>0.110649</td>\n",
              "      <td>0.228242</td>\n",
              "      <td>0.093251</td>\n",
              "      <td>0.358893</td>\n",
              "      <td>-0.027194</td>\n",
              "      <td>-0.025914</td>\n",
              "    </tr>\n",
              "    <tr>\n",
              "      <th>Online support</th>\n",
              "      <td>0.392983</td>\n",
              "      <td>0.085396</td>\n",
              "      <td>0.173413</td>\n",
              "      <td>0.110192</td>\n",
              "      <td>0.047649</td>\n",
              "      <td>-0.161623</td>\n",
              "      <td>-0.035685</td>\n",
              "      <td>0.128244</td>\n",
              "      <td>-0.008501</td>\n",
              "      <td>0.025770</td>\n",
              "      <td>0.000877</td>\n",
              "      <td>0.569313</td>\n",
              "      <td>0.442653</td>\n",
              "      <td>1.000000</td>\n",
              "      <td>0.623226</td>\n",
              "      <td>0.154058</td>\n",
              "      <td>0.131877</td>\n",
              "      <td>0.097288</td>\n",
              "      <td>0.207182</td>\n",
              "      <td>0.093632</td>\n",
              "      <td>0.685055</td>\n",
              "      <td>-0.033419</td>\n",
              "      <td>-0.034261</td>\n",
              "    </tr>\n",
              "    <tr>\n",
              "      <th>Ease of Online booking</th>\n",
              "      <td>0.422915</td>\n",
              "      <td>0.071735</td>\n",
              "      <td>0.136216</td>\n",
              "      <td>0.056183</td>\n",
              "      <td>0.030901</td>\n",
              "      <td>-0.120638</td>\n",
              "      <td>-0.018041</td>\n",
              "      <td>0.205705</td>\n",
              "      <td>-0.012890</td>\n",
              "      <td>0.030483</td>\n",
              "      <td>-0.009095</td>\n",
              "      <td>0.605380</td>\n",
              "      <td>0.314522</td>\n",
              "      <td>0.623226</td>\n",
              "      <td>1.000000</td>\n",
              "      <td>0.431621</td>\n",
              "      <td>0.361190</td>\n",
              "      <td>0.394769</td>\n",
              "      <td>0.137349</td>\n",
              "      <td>0.415076</td>\n",
              "      <td>0.688470</td>\n",
              "      <td>-0.036918</td>\n",
              "      <td>-0.039979</td>\n",
              "    </tr>\n",
              "    <tr>\n",
              "      <th>On-board service</th>\n",
              "      <td>0.352357</td>\n",
              "      <td>0.050789</td>\n",
              "      <td>0.075503</td>\n",
              "      <td>0.060035</td>\n",
              "      <td>-0.024355</td>\n",
              "      <td>-0.179281</td>\n",
              "      <td>-0.023136</td>\n",
              "      <td>0.116530</td>\n",
              "      <td>0.058260</td>\n",
              "      <td>0.045712</td>\n",
              "      <td>-0.028867</td>\n",
              "      <td>0.061575</td>\n",
              "      <td>0.187708</td>\n",
              "      <td>0.154058</td>\n",
              "      <td>0.431621</td>\n",
              "      <td>1.000000</td>\n",
              "      <td>0.409327</td>\n",
              "      <td>0.529203</td>\n",
              "      <td>0.247414</td>\n",
              "      <td>0.545356</td>\n",
              "      <td>0.140435</td>\n",
              "      <td>-0.032636</td>\n",
              "      <td>-0.037998</td>\n",
              "    </tr>\n",
              "    <tr>\n",
              "      <th>Leg room service</th>\n",
              "      <td>0.295527</td>\n",
              "      <td>0.067858</td>\n",
              "      <td>0.091397</td>\n",
              "      <td>0.075664</td>\n",
              "      <td>-0.016886</td>\n",
              "      <td>-0.116547</td>\n",
              "      <td>-0.029494</td>\n",
              "      <td>0.140038</td>\n",
              "      <td>0.024275</td>\n",
              "      <td>0.082276</td>\n",
              "      <td>-0.014803</td>\n",
              "      <td>0.039093</td>\n",
              "      <td>0.162830</td>\n",
              "      <td>0.131877</td>\n",
              "      <td>0.361190</td>\n",
              "      <td>0.409327</td>\n",
              "      <td>1.000000</td>\n",
              "      <td>0.417274</td>\n",
              "      <td>0.159276</td>\n",
              "      <td>0.402026</td>\n",
              "      <td>0.114866</td>\n",
              "      <td>0.000574</td>\n",
              "      <td>-0.002565</td>\n",
              "    </tr>\n",
              "    <tr>\n",
              "      <th>Baggage handling</th>\n",
              "      <td>0.257038</td>\n",
              "      <td>0.015687</td>\n",
              "      <td>-0.012258</td>\n",
              "      <td>-0.023637</td>\n",
              "      <td>-0.037614</td>\n",
              "      <td>-0.138275</td>\n",
              "      <td>0.029640</td>\n",
              "      <td>0.112923</td>\n",
              "      <td>0.060993</td>\n",
              "      <td>0.038276</td>\n",
              "      <td>-0.006023</td>\n",
              "      <td>0.031447</td>\n",
              "      <td>0.110649</td>\n",
              "      <td>0.097288</td>\n",
              "      <td>0.394769</td>\n",
              "      <td>0.529203</td>\n",
              "      <td>0.417274</td>\n",
              "      <td>1.000000</td>\n",
              "      <td>0.230382</td>\n",
              "      <td>0.622122</td>\n",
              "      <td>0.107138</td>\n",
              "      <td>-0.022803</td>\n",
              "      <td>-0.026340</td>\n",
              "    </tr>\n",
              "    <tr>\n",
              "      <th>Checkin service</th>\n",
              "      <td>0.274972</td>\n",
              "      <td>0.021252</td>\n",
              "      <td>0.044562</td>\n",
              "      <td>0.045886</td>\n",
              "      <td>-0.052881</td>\n",
              "      <td>-0.142418</td>\n",
              "      <td>0.000490</td>\n",
              "      <td>0.044449</td>\n",
              "      <td>0.055159</td>\n",
              "      <td>0.005230</td>\n",
              "      <td>-0.031878</td>\n",
              "      <td>0.094637</td>\n",
              "      <td>0.228242</td>\n",
              "      <td>0.207182</td>\n",
              "      <td>0.137349</td>\n",
              "      <td>0.247414</td>\n",
              "      <td>0.159276</td>\n",
              "      <td>0.230382</td>\n",
              "      <td>1.000000</td>\n",
              "      <td>0.236569</td>\n",
              "      <td>0.188611</td>\n",
              "      <td>-0.012842</td>\n",
              "      <td>-0.017395</td>\n",
              "    </tr>\n",
              "    <tr>\n",
              "      <th>Cleanliness</th>\n",
              "      <td>0.254400</td>\n",
              "      <td>0.014368</td>\n",
              "      <td>-0.004044</td>\n",
              "      <td>-0.036067</td>\n",
              "      <td>-0.058348</td>\n",
              "      <td>-0.124570</td>\n",
              "      <td>0.022545</td>\n",
              "      <td>0.096369</td>\n",
              "      <td>0.064328</td>\n",
              "      <td>0.028154</td>\n",
              "      <td>0.003946</td>\n",
              "      <td>0.036529</td>\n",
              "      <td>0.093251</td>\n",
              "      <td>0.093632</td>\n",
              "      <td>0.415076</td>\n",
              "      <td>0.545356</td>\n",
              "      <td>0.402026</td>\n",
              "      <td>0.622122</td>\n",
              "      <td>0.236569</td>\n",
              "      <td>1.000000</td>\n",
              "      <td>0.103861</td>\n",
              "      <td>-0.064463</td>\n",
              "      <td>-0.071021</td>\n",
              "    </tr>\n",
              "    <tr>\n",
              "      <th>Online boarding</th>\n",
              "      <td>0.339034</td>\n",
              "      <td>0.035103</td>\n",
              "      <td>0.097299</td>\n",
              "      <td>0.034005</td>\n",
              "      <td>0.018260</td>\n",
              "      <td>-0.099804</td>\n",
              "      <td>0.010082</td>\n",
              "      <td>0.132491</td>\n",
              "      <td>-0.006411</td>\n",
              "      <td>0.011567</td>\n",
              "      <td>-0.000019</td>\n",
              "      <td>0.639436</td>\n",
              "      <td>0.358893</td>\n",
              "      <td>0.685055</td>\n",
              "      <td>0.688470</td>\n",
              "      <td>0.140435</td>\n",
              "      <td>0.114866</td>\n",
              "      <td>0.107138</td>\n",
              "      <td>0.188611</td>\n",
              "      <td>0.103861</td>\n",
              "      <td>1.000000</td>\n",
              "      <td>-0.012713</td>\n",
              "      <td>-0.015498</td>\n",
              "    </tr>\n",
              "    <tr>\n",
              "      <th>Departure Delay in Minutes</th>\n",
              "      <td>-0.079004</td>\n",
              "      <td>-0.000798</td>\n",
              "      <td>-0.011824</td>\n",
              "      <td>-0.015434</td>\n",
              "      <td>0.008012</td>\n",
              "      <td>0.013274</td>\n",
              "      <td>0.110226</td>\n",
              "      <td>-0.021326</td>\n",
              "      <td>0.021104</td>\n",
              "      <td>-0.001950</td>\n",
              "      <td>0.017090</td>\n",
              "      <td>-0.031526</td>\n",
              "      <td>-0.027194</td>\n",
              "      <td>-0.033419</td>\n",
              "      <td>-0.036918</td>\n",
              "      <td>-0.032636</td>\n",
              "      <td>0.000574</td>\n",
              "      <td>-0.022803</td>\n",
              "      <td>-0.012842</td>\n",
              "      <td>-0.064463</td>\n",
              "      <td>-0.012713</td>\n",
              "      <td>1.000000</td>\n",
              "      <td>0.966012</td>\n",
              "    </tr>\n",
              "    <tr>\n",
              "      <th>Arrival Delay in Minutes</th>\n",
              "      <td>-0.085016</td>\n",
              "      <td>0.000930</td>\n",
              "      <td>-0.006282</td>\n",
              "      <td>-0.017037</td>\n",
              "      <td>0.009319</td>\n",
              "      <td>0.022222</td>\n",
              "      <td>0.108483</td>\n",
              "      <td>-0.019024</td>\n",
              "      <td>0.018150</td>\n",
              "      <td>-0.001444</td>\n",
              "      <td>0.017139</td>\n",
              "      <td>-0.035838</td>\n",
              "      <td>-0.025914</td>\n",
              "      <td>-0.034261</td>\n",
              "      <td>-0.039979</td>\n",
              "      <td>-0.037998</td>\n",
              "      <td>-0.002565</td>\n",
              "      <td>-0.026340</td>\n",
              "      <td>-0.017395</td>\n",
              "      <td>-0.071021</td>\n",
              "      <td>-0.015498</td>\n",
              "      <td>0.966012</td>\n",
              "      <td>1.000000</td>\n",
              "    </tr>\n",
              "  </tbody>\n",
              "</table>\n",
              "</div>"
            ],
            "text/plain": [
              "                                   satisfaction_v2  ...  Arrival Delay in Minutes\n",
              "satisfaction_v2                           1.000000  ...                 -0.085016\n",
              "Gender                                    0.210815  ...                  0.000930\n",
              "Customer Type                             0.291590  ...                 -0.006282\n",
              "Age                                       0.107200  ...                 -0.017037\n",
              "Type of Travel                            0.111811  ...                  0.009319\n",
              "Class                                    -0.287277  ...                  0.022222\n",
              "Flight Distance                          -0.039389  ...                  0.108483\n",
              "Seat comfort                              0.242357  ...                 -0.019024\n",
              "Departure/Arrival time convenient        -0.015980  ...                  0.018150\n",
              "Food and drink                            0.121287  ...                 -0.001444\n",
              "Gate location                            -0.009796  ...                  0.017139\n",
              "Inflight wifi service                     0.226262  ...                 -0.035838\n",
              "Inflight entertainment                    0.527732  ...                 -0.025914\n",
              "Online support                            0.392983  ...                 -0.034261\n",
              "Ease of Online booking                    0.422915  ...                 -0.039979\n",
              "On-board service                          0.352357  ...                 -0.037998\n",
              "Leg room service                          0.295527  ...                 -0.002565\n",
              "Baggage handling                          0.257038  ...                 -0.026340\n",
              "Checkin service                           0.274972  ...                 -0.017395\n",
              "Cleanliness                               0.254400  ...                 -0.071021\n",
              "Online boarding                           0.339034  ...                 -0.015498\n",
              "Departure Delay in Minutes               -0.079004  ...                  0.966012\n",
              "Arrival Delay in Minutes                 -0.085016  ...                  1.000000\n",
              "\n",
              "[23 rows x 23 columns]"
            ]
          },
          "metadata": {
            "tags": []
          },
          "execution_count": 16
        }
      ]
    },
    {
      "cell_type": "code",
      "metadata": {
        "id": "K04hQfXSAZGx",
        "colab": {
          "base_uri": "https://localhost:8080/",
          "height": 745
        },
        "outputId": "f91df02e-d7d9-4376-c2c7-9ae42356248f"
      },
      "source": [
        "plt.figure(figsize=(12,20))\n",
        "sns.clustermap(df_corr, annot=True, cmap=\"Reds\", \n",
        "               cbar_pos=None, dendrogram_ratio=0.1, fmt='.2g')\n",
        "plt.show()"
      ],
      "execution_count": null,
      "outputs": [
        {
          "output_type": "display_data",
          "data": {
            "text/plain": [
              "<Figure size 864x1440 with 0 Axes>"
            ]
          },
          "metadata": {
            "tags": []
          }
        },
        {
          "output_type": "display_data",
          "data": {
            "image/png": "[encoded data removed]",
            "text/plain": [
              "<Figure size 720x720 with 3 Axes>"
            ]
          },
          "metadata": {
            "tags": [],
            "needs_background": "light"
          }
        }
      ]
    },
    {
      "cell_type": "code",
      "metadata": {
        "id": "0sHaeuPXAZLX",
        "colab": {
          "base_uri": "https://localhost:8080/",
          "height": 197
        },
        "outputId": "3799295a-a631-4741-d054-446a46b57834"
      },
      "source": [
        "# as 5 features que tem melhores correlações com o target são: \n",
        "# Inflight entertainment (0.523364)\n",
        "# Ease of Online booking\t(0.432017)\n",
        "# Online support\t(0.389890)\n",
        "# On-board service (0.352283)\n",
        "# Online boarding\t(0.338118)\n",
        "\n",
        "df_pearson = df[['Inflight entertainment', 'Ease of Online booking', 'Online support', 'On-board service', 'Online boarding', 'satisfaction_v2']]\n",
        "df_pearson.head()"
      ],
      "execution_count": null,
      "outputs": [
        {
          "output_type": "execute_result",
          "data": {
            "text/html": [
              "<div>\n",
              "<style scoped>\n",
              "    .dataframe tbody tr th:only-of-type {\n",
              "        vertical-align: middle;\n",
              "    }\n",
              "\n",
              "    .dataframe tbody tr th {\n",
              "        vertical-align: top;\n",
              "    }\n",
              "\n",
              "    .dataframe thead th {\n",
              "        text-align: right;\n",
              "    }\n",
              "</style>\n",
              "<table border=\"1\" class=\"dataframe\">\n",
              "  <thead>\n",
              "    <tr style=\"text-align: right;\">\n",
              "      <th></th>\n",
              "      <th>Inflight entertainment</th>\n",
              "      <th>Ease of Online booking</th>\n",
              "      <th>Online support</th>\n",
              "      <th>On-board service</th>\n",
              "      <th>Online boarding</th>\n",
              "      <th>satisfaction_v2</th>\n",
              "    </tr>\n",
              "  </thead>\n",
              "  <tbody>\n",
              "    <tr>\n",
              "      <th>0</th>\n",
              "      <td>4</td>\n",
              "      <td>3</td>\n",
              "      <td>5</td>\n",
              "      <td>3</td>\n",
              "      <td>3</td>\n",
              "      <td>satisfied</td>\n",
              "    </tr>\n",
              "    <tr>\n",
              "      <th>1</th>\n",
              "      <td>4</td>\n",
              "      <td>5</td>\n",
              "      <td>4</td>\n",
              "      <td>5</td>\n",
              "      <td>3</td>\n",
              "      <td>satisfied</td>\n",
              "    </tr>\n",
              "    <tr>\n",
              "      <th>2</th>\n",
              "      <td>2</td>\n",
              "      <td>3</td>\n",
              "      <td>3</td>\n",
              "      <td>5</td>\n",
              "      <td>3</td>\n",
              "      <td>neutral or dissatisfied</td>\n",
              "    </tr>\n",
              "    <tr>\n",
              "      <th>3</th>\n",
              "      <td>3</td>\n",
              "      <td>5</td>\n",
              "      <td>5</td>\n",
              "      <td>5</td>\n",
              "      <td>5</td>\n",
              "      <td>neutral or dissatisfied</td>\n",
              "    </tr>\n",
              "    <tr>\n",
              "      <th>4</th>\n",
              "      <td>4</td>\n",
              "      <td>5</td>\n",
              "      <td>4</td>\n",
              "      <td>5</td>\n",
              "      <td>5</td>\n",
              "      <td>satisfied</td>\n",
              "    </tr>\n",
              "  </tbody>\n",
              "</table>\n",
              "</div>"
            ],
            "text/plain": [
              "   Inflight entertainment  ...          satisfaction_v2\n",
              "0                       4  ...                satisfied\n",
              "1                       4  ...                satisfied\n",
              "2                       2  ...  neutral or dissatisfied\n",
              "3                       3  ...  neutral or dissatisfied\n",
              "4                       4  ...                satisfied\n",
              "\n",
              "[5 rows x 6 columns]"
            ]
          },
          "metadata": {
            "tags": []
          },
          "execution_count": 18
        }
      ]
    },
    {
      "cell_type": "code",
      "metadata": {
        "colab": {
          "base_uri": "https://localhost:8080/",
          "height": 197
        },
        "id": "Tk8vPRrN4CfS",
        "outputId": "e91a77c6-46fb-476d-a9c4-ce8fcc0e922d"
      },
      "source": [
        "num_to_nominal = {\"satisfaction_v2\": {1: \"satisfied\", 0: \"neutral or dissatisfied\"}}\n",
        "df_pearson = df_pearson.replace(num_to_nominal)\n",
        "df_pearson.head()"
      ],
      "execution_count": null,
      "outputs": [
        {
          "output_type": "execute_result",
          "data": {
            "text/html": [
              "<div>\n",
              "<style scoped>\n",
              "    .dataframe tbody tr th:only-of-type {\n",
              "        vertical-align: middle;\n",
              "    }\n",
              "\n",
              "    .dataframe tbody tr th {\n",
              "        vertical-align: top;\n",
              "    }\n",
              "\n",
              "    .dataframe thead th {\n",
              "        text-align: right;\n",
              "    }\n",
              "</style>\n",
              "<table border=\"1\" class=\"dataframe\">\n",
              "  <thead>\n",
              "    <tr style=\"text-align: right;\">\n",
              "      <th></th>\n",
              "      <th>Inflight entertainment</th>\n",
              "      <th>Ease of Online booking</th>\n",
              "      <th>Online support</th>\n",
              "      <th>On-board service</th>\n",
              "      <th>Online boarding</th>\n",
              "      <th>satisfaction_v2</th>\n",
              "    </tr>\n",
              "  </thead>\n",
              "  <tbody>\n",
              "    <tr>\n",
              "      <th>0</th>\n",
              "      <td>4</td>\n",
              "      <td>3</td>\n",
              "      <td>5</td>\n",
              "      <td>3</td>\n",
              "      <td>3</td>\n",
              "      <td>satisfied</td>\n",
              "    </tr>\n",
              "    <tr>\n",
              "      <th>1</th>\n",
              "      <td>4</td>\n",
              "      <td>5</td>\n",
              "      <td>4</td>\n",
              "      <td>5</td>\n",
              "      <td>3</td>\n",
              "      <td>satisfied</td>\n",
              "    </tr>\n",
              "    <tr>\n",
              "      <th>2</th>\n",
              "      <td>2</td>\n",
              "      <td>3</td>\n",
              "      <td>3</td>\n",
              "      <td>5</td>\n",
              "      <td>3</td>\n",
              "      <td>neutral or dissatisfied</td>\n",
              "    </tr>\n",
              "    <tr>\n",
              "      <th>3</th>\n",
              "      <td>3</td>\n",
              "      <td>5</td>\n",
              "      <td>5</td>\n",
              "      <td>5</td>\n",
              "      <td>5</td>\n",
              "      <td>neutral or dissatisfied</td>\n",
              "    </tr>\n",
              "    <tr>\n",
              "      <th>4</th>\n",
              "      <td>4</td>\n",
              "      <td>5</td>\n",
              "      <td>4</td>\n",
              "      <td>5</td>\n",
              "      <td>5</td>\n",
              "      <td>satisfied</td>\n",
              "    </tr>\n",
              "  </tbody>\n",
              "</table>\n",
              "</div>"
            ],
            "text/plain": [
              "   Inflight entertainment  ...          satisfaction_v2\n",
              "0                       4  ...                satisfied\n",
              "1                       4  ...                satisfied\n",
              "2                       2  ...  neutral or dissatisfied\n",
              "3                       3  ...  neutral or dissatisfied\n",
              "4                       4  ...                satisfied\n",
              "\n",
              "[5 rows x 6 columns]"
            ]
          },
          "metadata": {
            "tags": []
          },
          "execution_count": 19
        }
      ]
    },
    {
      "cell_type": "code",
      "metadata": {
        "colab": {
          "base_uri": "https://localhost:8080/"
        },
        "id": "epfiWMkn5hlz",
        "outputId": "b4e21c08-a23e-4b27-dbaf-beac026dcf76"
      },
      "source": [
        "df_pearson.shape"
      ],
      "execution_count": null,
      "outputs": [
        {
          "output_type": "execute_result",
          "data": {
            "text/plain": [
              "(14709, 6)"
            ]
          },
          "metadata": {
            "tags": []
          },
          "execution_count": 20
        }
      ]
    },
    {
      "cell_type": "code",
      "metadata": {
        "id": "eCJFWb9y5Ptp"
      },
      "source": [
        "df_pearson.to_csv('BaseReduzida2.csv', sep=',', index=False) "
      ],
      "execution_count": null,
      "outputs": []
    },
    {
      "cell_type": "markdown",
      "metadata": {
        "id": "5aLWw10BAZ9_"
      },
      "source": [
        "## **Extração de Atributos - PCA**"
      ]
    },
    {
      "cell_type": "code",
      "metadata": {
        "id": "9lLTvnp68Sqv"
      },
      "source": [
        "features = ['Gender', 'Customer Type', 'Age', 'Type of Travel',\n",
        "       'Class', 'Flight Distance', 'Seat comfort',\n",
        "       'Departure/Arrival time convenient', 'Food and drink', 'Gate location',\n",
        "       'Inflight wifi service', 'Inflight entertainment', 'Online support',\n",
        "       'Ease of Online booking', 'On-board service', 'Leg room service',\n",
        "       'Baggage handling', 'Checkin service', 'Cleanliness', 'Online boarding',\n",
        "       'Departure Delay in Minutes', 'Arrival Delay in Minutes']"
      ],
      "execution_count": null,
      "outputs": []
    },
    {
      "cell_type": "code",
      "metadata": {
        "id": "cVx1gdIY8hbU"
      },
      "source": [
        "from sklearn.decomposition import PCA\n",
        "from sklearn.preprocessing import StandardScaler\n",
        "import numpy as np\n",
        "\n",
        "x = df_transformacao.loc[:, features].values\n",
        "y = df_transformacao.loc[:,['satisfaction_v2']].values\n",
        "x = StandardScaler().fit_transform(x)"
      ],
      "execution_count": null,
      "outputs": []
    },
    {
      "cell_type": "code",
      "metadata": {
        "id": "XpXHgMks8x_l"
      },
      "source": [
        "pca = PCA(n_components=3)\n",
        "componentes = pca.fit_transform(x)"
      ],
      "execution_count": null,
      "outputs": []
    },
    {
      "cell_type": "code",
      "metadata": {
        "colab": {
          "base_uri": "https://localhost:8080/",
          "height": 197
        },
        "id": "VeY6oIPF8tRn",
        "outputId": "95533992-02ca-41a7-a9c8-d1b5c24b53f7"
      },
      "source": [
        "PCAdf = pd.DataFrame(data = componentes, \n",
        "                     columns = ['componente 1', 'componente 2','componente 3'])\n",
        "\n",
        "PCAdf.head()"
      ],
      "execution_count": null,
      "outputs": [
        {
          "output_type": "execute_result",
          "data": {
            "text/html": [
              "<div>\n",
              "<style scoped>\n",
              "    .dataframe tbody tr th:only-of-type {\n",
              "        vertical-align: middle;\n",
              "    }\n",
              "\n",
              "    .dataframe tbody tr th {\n",
              "        vertical-align: top;\n",
              "    }\n",
              "\n",
              "    .dataframe thead th {\n",
              "        text-align: right;\n",
              "    }\n",
              "</style>\n",
              "<table border=\"1\" class=\"dataframe\">\n",
              "  <thead>\n",
              "    <tr style=\"text-align: right;\">\n",
              "      <th></th>\n",
              "      <th>componente 1</th>\n",
              "      <th>componente 2</th>\n",
              "      <th>componente 3</th>\n",
              "    </tr>\n",
              "  </thead>\n",
              "  <tbody>\n",
              "    <tr>\n",
              "      <th>0</th>\n",
              "      <td>-1.242236</td>\n",
              "      <td>-2.611036</td>\n",
              "      <td>1.648796</td>\n",
              "    </tr>\n",
              "    <tr>\n",
              "      <th>1</th>\n",
              "      <td>-2.317433</td>\n",
              "      <td>0.490719</td>\n",
              "      <td>-1.556811</td>\n",
              "    </tr>\n",
              "    <tr>\n",
              "      <th>2</th>\n",
              "      <td>-0.075436</td>\n",
              "      <td>1.022683</td>\n",
              "      <td>-2.431732</td>\n",
              "    </tr>\n",
              "    <tr>\n",
              "      <th>3</th>\n",
              "      <td>-2.471238</td>\n",
              "      <td>0.329657</td>\n",
              "      <td>0.083808</td>\n",
              "    </tr>\n",
              "    <tr>\n",
              "      <th>4</th>\n",
              "      <td>-1.860251</td>\n",
              "      <td>3.257834</td>\n",
              "      <td>-1.006860</td>\n",
              "    </tr>\n",
              "  </tbody>\n",
              "</table>\n",
              "</div>"
            ],
            "text/plain": [
              "   componente 1  componente 2  componente 3\n",
              "0     -1.242236     -2.611036      1.648796\n",
              "1     -2.317433      0.490719     -1.556811\n",
              "2     -0.075436      1.022683     -2.431732\n",
              "3     -2.471238      0.329657      0.083808\n",
              "4     -1.860251      3.257834     -1.006860"
            ]
          },
          "metadata": {
            "tags": []
          },
          "execution_count": 25
        }
      ]
    },
    {
      "cell_type": "code",
      "metadata": {
        "id": "XsRrWJ4mJSVT"
      },
      "source": [
        "target = df_transformacao['satisfaction_v2']"
      ],
      "execution_count": null,
      "outputs": []
    },
    {
      "cell_type": "code",
      "metadata": {
        "id": "0xldDk3HAfSu",
        "colab": {
          "base_uri": "https://localhost:8080/",
          "height": 197
        },
        "outputId": "53902f00-61bf-49bb-d6c9-f40c64c87b19"
      },
      "source": [
        "finaldf_PCA = pd.concat([PCAdf, target], axis = 1)\n",
        "finaldf_PCA.head()"
      ],
      "execution_count": null,
      "outputs": [
        {
          "output_type": "execute_result",
          "data": {
            "text/html": [
              "<div>\n",
              "<style scoped>\n",
              "    .dataframe tbody tr th:only-of-type {\n",
              "        vertical-align: middle;\n",
              "    }\n",
              "\n",
              "    .dataframe tbody tr th {\n",
              "        vertical-align: top;\n",
              "    }\n",
              "\n",
              "    .dataframe thead th {\n",
              "        text-align: right;\n",
              "    }\n",
              "</style>\n",
              "<table border=\"1\" class=\"dataframe\">\n",
              "  <thead>\n",
              "    <tr style=\"text-align: right;\">\n",
              "      <th></th>\n",
              "      <th>componente 1</th>\n",
              "      <th>componente 2</th>\n",
              "      <th>componente 3</th>\n",
              "      <th>satisfaction_v2</th>\n",
              "    </tr>\n",
              "  </thead>\n",
              "  <tbody>\n",
              "    <tr>\n",
              "      <th>0</th>\n",
              "      <td>-1.242236</td>\n",
              "      <td>-2.611036</td>\n",
              "      <td>1.648796</td>\n",
              "      <td>1.0</td>\n",
              "    </tr>\n",
              "    <tr>\n",
              "      <th>1</th>\n",
              "      <td>-2.317433</td>\n",
              "      <td>0.490719</td>\n",
              "      <td>-1.556811</td>\n",
              "      <td>1.0</td>\n",
              "    </tr>\n",
              "    <tr>\n",
              "      <th>2</th>\n",
              "      <td>-0.075436</td>\n",
              "      <td>1.022683</td>\n",
              "      <td>-2.431732</td>\n",
              "      <td>0.0</td>\n",
              "    </tr>\n",
              "    <tr>\n",
              "      <th>3</th>\n",
              "      <td>-2.471238</td>\n",
              "      <td>0.329657</td>\n",
              "      <td>0.083808</td>\n",
              "      <td>0.0</td>\n",
              "    </tr>\n",
              "    <tr>\n",
              "      <th>4</th>\n",
              "      <td>-1.860251</td>\n",
              "      <td>3.257834</td>\n",
              "      <td>-1.006860</td>\n",
              "      <td>1.0</td>\n",
              "    </tr>\n",
              "  </tbody>\n",
              "</table>\n",
              "</div>"
            ],
            "text/plain": [
              "   componente 1  componente 2  componente 3  satisfaction_v2\n",
              "0     -1.242236     -2.611036      1.648796              1.0\n",
              "1     -2.317433      0.490719     -1.556811              1.0\n",
              "2     -0.075436      1.022683     -2.431732              0.0\n",
              "3     -2.471238      0.329657      0.083808              0.0\n",
              "4     -1.860251      3.257834     -1.006860              1.0"
            ]
          },
          "metadata": {
            "tags": []
          },
          "execution_count": 27
        }
      ]
    },
    {
      "cell_type": "code",
      "metadata": {
        "id": "k1At1KDsAfXX",
        "colab": {
          "base_uri": "https://localhost:8080/",
          "height": 197
        },
        "outputId": "60830876-5882-4e62-84b9-ac9a2ef427b9"
      },
      "source": [
        "num_to_nominal = {\"satisfaction_v2\": {1: \"satisfied\", 0: \"neutral or dissatisfied\"}}\n",
        "finaldf_PCA = finaldf_PCA.replace(num_to_nominal)\n",
        "finaldf_PCA.head()"
      ],
      "execution_count": null,
      "outputs": [
        {
          "output_type": "execute_result",
          "data": {
            "text/html": [
              "<div>\n",
              "<style scoped>\n",
              "    .dataframe tbody tr th:only-of-type {\n",
              "        vertical-align: middle;\n",
              "    }\n",
              "\n",
              "    .dataframe tbody tr th {\n",
              "        vertical-align: top;\n",
              "    }\n",
              "\n",
              "    .dataframe thead th {\n",
              "        text-align: right;\n",
              "    }\n",
              "</style>\n",
              "<table border=\"1\" class=\"dataframe\">\n",
              "  <thead>\n",
              "    <tr style=\"text-align: right;\">\n",
              "      <th></th>\n",
              "      <th>componente 1</th>\n",
              "      <th>componente 2</th>\n",
              "      <th>componente 3</th>\n",
              "      <th>satisfaction_v2</th>\n",
              "    </tr>\n",
              "  </thead>\n",
              "  <tbody>\n",
              "    <tr>\n",
              "      <th>0</th>\n",
              "      <td>-1.242236</td>\n",
              "      <td>-2.611036</td>\n",
              "      <td>1.648796</td>\n",
              "      <td>satisfied</td>\n",
              "    </tr>\n",
              "    <tr>\n",
              "      <th>1</th>\n",
              "      <td>-2.317433</td>\n",
              "      <td>0.490719</td>\n",
              "      <td>-1.556811</td>\n",
              "      <td>satisfied</td>\n",
              "    </tr>\n",
              "    <tr>\n",
              "      <th>2</th>\n",
              "      <td>-0.075436</td>\n",
              "      <td>1.022683</td>\n",
              "      <td>-2.431732</td>\n",
              "      <td>neutral or dissatisfied</td>\n",
              "    </tr>\n",
              "    <tr>\n",
              "      <th>3</th>\n",
              "      <td>-2.471238</td>\n",
              "      <td>0.329657</td>\n",
              "      <td>0.083808</td>\n",
              "      <td>neutral or dissatisfied</td>\n",
              "    </tr>\n",
              "    <tr>\n",
              "      <th>4</th>\n",
              "      <td>-1.860251</td>\n",
              "      <td>3.257834</td>\n",
              "      <td>-1.006860</td>\n",
              "      <td>satisfied</td>\n",
              "    </tr>\n",
              "  </tbody>\n",
              "</table>\n",
              "</div>"
            ],
            "text/plain": [
              "   componente 1  componente 2  componente 3          satisfaction_v2\n",
              "0     -1.242236     -2.611036      1.648796                satisfied\n",
              "1     -2.317433      0.490719     -1.556811                satisfied\n",
              "2     -0.075436      1.022683     -2.431732  neutral or dissatisfied\n",
              "3     -2.471238      0.329657      0.083808  neutral or dissatisfied\n",
              "4     -1.860251      3.257834     -1.006860                satisfied"
            ]
          },
          "metadata": {
            "tags": []
          },
          "execution_count": 28
        }
      ]
    },
    {
      "cell_type": "code",
      "metadata": {
        "colab": {
          "base_uri": "https://localhost:8080/"
        },
        "id": "bZ_aIJtuJpFN",
        "outputId": "fcd8ea63-616d-4ea8-b784-843fa2472c90"
      },
      "source": [
        "finaldf_PCA.shape"
      ],
      "execution_count": null,
      "outputs": [
        {
          "output_type": "execute_result",
          "data": {
            "text/plain": [
              "(14752, 4)"
            ]
          },
          "metadata": {
            "tags": []
          },
          "execution_count": 29
        }
      ]
    },
    {
      "cell_type": "code",
      "metadata": {
        "colab": {
          "base_uri": "https://localhost:8080/",
          "height": 278
        },
        "id": "q0hyeg2U-hnQ",
        "outputId": "ad5cfcdb-307f-4611-903c-bd7f742e72d2"
      },
      "source": [
        "import seaborn as sns\n",
        "\n",
        "df_plot = pd.DataFrame({'var':pca.explained_variance_ratio_,\n",
        "             'PC':['PC1','PC2','PC3']})\n",
        "sns.barplot(x='PC',y=\"var\", \n",
        "           data=df_plot, color=\"c\");"
      ],
      "execution_count": null,
      "outputs": [
        {
          "output_type": "display_data",
          "data": {
            "image/png": "[encoded data removed]",
            "text/plain": [
              "<Figure size 432x288 with 1 Axes>"
            ]
          },
          "metadata": {
            "tags": [],
            "needs_background": "light"
          }
        }
      ]
    },
    {
      "cell_type": "code",
      "metadata": {
        "id": "kG4TPokfCwXR"
      },
      "source": [
        "finaldf_PCA.to_csv('BaseReduzida3.csv', sep=',', index=False) "
      ],
      "execution_count": null,
      "outputs": []
    }
  ]
}