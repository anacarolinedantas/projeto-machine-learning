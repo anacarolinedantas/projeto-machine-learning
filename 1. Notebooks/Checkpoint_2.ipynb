{
  "nbformat": 4,
  "nbformat_minor": 0,
  "metadata": {
    "colab": {
      "name": "Checkpoint 2.ipynb",
      "provenance": [],
      "toc_visible": true
    },
    "kernelspec": {
      "name": "python3",
      "display_name": "Python 3"
    }
  },
  "cells": [
    {
      "cell_type": "code",
      "metadata": {
        "id": "q1pLEvAVZky6"
      },
      "source": [
        "import io\n",
        "from google.colab import files\n",
        "import pandas as pd\n",
        "import numpy as np\n",
        "from numpy import mean\n",
        "from numpy import std\n",
        "import random\n",
        "from sklearn.preprocessing import MinMaxScaler, LabelEncoder\n",
        "from sklearn.metrics import roc_auc_score\n",
        "from sklearn.model_selection import RepeatedKFold\n",
        "from sklearn.metrics import accuracy_score, confusion_matrix, precision_score, recall_score, f1_score\n",
        "from sklearn.neighbors import KNeighborsClassifier\n",
        "from sklearn.tree import DecisionTreeClassifier\n",
        "from sklearn.neural_network import MLPClassifier\n",
        "from sklearn.naive_bayes import GaussianNB\n",
        "import matplotlib.pyplot as plt"
      ],
      "execution_count": null,
      "outputs": []
    },
    {
      "cell_type": "markdown",
      "metadata": {
        "id": "WZhleTtURs4U"
      },
      "source": [
        "## **Lendo as bases de dados**"
      ]
    },
    {
      "cell_type": "code",
      "metadata": {
        "id": "m42s7X8BeE2l"
      },
      "source": [
        "#uploaded = files.upload()"
      ],
      "execution_count": null,
      "outputs": []
    },
    {
      "cell_type": "code",
      "metadata": {
        "id": "TkRt9Zkae4xU"
      },
      "source": [
        "import pandas as pd\n",
        "import numpy as np\n",
        "BaseOriginal = pd.read_excel('satisfaction.xlsx')\n",
        "BaseReduzida1 = pd.read_csv('BaseReduzida1-1.csv',delimiter=';')\n",
        "BaseReduzida2 = pd.read_csv('BaseReduzida2_corrigida.csv')\n",
        "BaseReduzida3 = pd.read_csv('BaseReduzida3_corrigida.csv')"
      ],
      "execution_count": null,
      "outputs": []
    },
    {
      "cell_type": "code",
      "metadata": {
        "id": "5D9dDOiFB_rM"
      },
      "source": [
        "BaseReduzida1 = pd.read_csv('BaseReduzida1_CheckpointFinal.csv')"
      ],
      "execution_count": null,
      "outputs": []
    },
    {
      "cell_type": "code",
      "metadata": {
        "id": "LiG1lTFHV9uh",
        "colab": {
          "base_uri": "https://localhost:8080/"
        },
        "outputId": "a46ea6a1-719a-4425-8c86-615bdc611458"
      },
      "source": [
        "BaseOriginal.head()"
      ],
      "execution_count": null,
      "outputs": [
        {
          "output_type": "execute_result",
          "data": {
            "text/html": [
              "<div>\n",
              "<style scoped>\n",
              "    .dataframe tbody tr th:only-of-type {\n",
              "        vertical-align: middle;\n",
              "    }\n",
              "\n",
              "    .dataframe tbody tr th {\n",
              "        vertical-align: top;\n",
              "    }\n",
              "\n",
              "    .dataframe thead th {\n",
              "        text-align: right;\n",
              "    }\n",
              "</style>\n",
              "<table border=\"1\" class=\"dataframe\">\n",
              "  <thead>\n",
              "    <tr style=\"text-align: right;\">\n",
              "      <th></th>\n",
              "      <th>id</th>\n",
              "      <th>satisfaction_v2</th>\n",
              "      <th>Gender</th>\n",
              "      <th>Customer Type</th>\n",
              "      <th>Age</th>\n",
              "      <th>Type of Travel</th>\n",
              "      <th>Class</th>\n",
              "      <th>Flight Distance</th>\n",
              "      <th>Seat comfort</th>\n",
              "      <th>Departure/Arrival time convenient</th>\n",
              "      <th>Food and drink</th>\n",
              "      <th>Gate location</th>\n",
              "      <th>Inflight wifi service</th>\n",
              "      <th>Inflight entertainment</th>\n",
              "      <th>Online support</th>\n",
              "      <th>Ease of Online booking</th>\n",
              "      <th>On-board service</th>\n",
              "      <th>Leg room service</th>\n",
              "      <th>Baggage handling</th>\n",
              "      <th>Checkin service</th>\n",
              "      <th>Cleanliness</th>\n",
              "      <th>Online boarding</th>\n",
              "      <th>Departure Delay in Minutes</th>\n",
              "      <th>Arrival Delay in Minutes</th>\n",
              "    </tr>\n",
              "  </thead>\n",
              "  <tbody>\n",
              "    <tr>\n",
              "      <th>0</th>\n",
              "      <td>11112</td>\n",
              "      <td>satisfied</td>\n",
              "      <td>Female</td>\n",
              "      <td>Loyal Customer</td>\n",
              "      <td>65</td>\n",
              "      <td>Personal Travel</td>\n",
              "      <td>Eco</td>\n",
              "      <td>265</td>\n",
              "      <td>0</td>\n",
              "      <td>0</td>\n",
              "      <td>0</td>\n",
              "      <td>2</td>\n",
              "      <td>2</td>\n",
              "      <td>4</td>\n",
              "      <td>2</td>\n",
              "      <td>3</td>\n",
              "      <td>3</td>\n",
              "      <td>0</td>\n",
              "      <td>3</td>\n",
              "      <td>5</td>\n",
              "      <td>3</td>\n",
              "      <td>2</td>\n",
              "      <td>0</td>\n",
              "      <td>0.0</td>\n",
              "    </tr>\n",
              "    <tr>\n",
              "      <th>1</th>\n",
              "      <td>110278</td>\n",
              "      <td>satisfied</td>\n",
              "      <td>Male</td>\n",
              "      <td>Loyal Customer</td>\n",
              "      <td>47</td>\n",
              "      <td>Personal Travel</td>\n",
              "      <td>Business</td>\n",
              "      <td>2464</td>\n",
              "      <td>0</td>\n",
              "      <td>0</td>\n",
              "      <td>0</td>\n",
              "      <td>3</td>\n",
              "      <td>0</td>\n",
              "      <td>2</td>\n",
              "      <td>2</td>\n",
              "      <td>3</td>\n",
              "      <td>4</td>\n",
              "      <td>4</td>\n",
              "      <td>4</td>\n",
              "      <td>2</td>\n",
              "      <td>3</td>\n",
              "      <td>2</td>\n",
              "      <td>310</td>\n",
              "      <td>305.0</td>\n",
              "    </tr>\n",
              "    <tr>\n",
              "      <th>2</th>\n",
              "      <td>103199</td>\n",
              "      <td>satisfied</td>\n",
              "      <td>Female</td>\n",
              "      <td>Loyal Customer</td>\n",
              "      <td>15</td>\n",
              "      <td>Personal Travel</td>\n",
              "      <td>Eco</td>\n",
              "      <td>2138</td>\n",
              "      <td>0</td>\n",
              "      <td>0</td>\n",
              "      <td>0</td>\n",
              "      <td>3</td>\n",
              "      <td>2</td>\n",
              "      <td>0</td>\n",
              "      <td>2</td>\n",
              "      <td>2</td>\n",
              "      <td>3</td>\n",
              "      <td>3</td>\n",
              "      <td>4</td>\n",
              "      <td>4</td>\n",
              "      <td>4</td>\n",
              "      <td>2</td>\n",
              "      <td>0</td>\n",
              "      <td>0.0</td>\n",
              "    </tr>\n",
              "    <tr>\n",
              "      <th>3</th>\n",
              "      <td>47462</td>\n",
              "      <td>satisfied</td>\n",
              "      <td>Female</td>\n",
              "      <td>Loyal Customer</td>\n",
              "      <td>60</td>\n",
              "      <td>Personal Travel</td>\n",
              "      <td>Eco</td>\n",
              "      <td>623</td>\n",
              "      <td>0</td>\n",
              "      <td>0</td>\n",
              "      <td>0</td>\n",
              "      <td>3</td>\n",
              "      <td>3</td>\n",
              "      <td>4</td>\n",
              "      <td>3</td>\n",
              "      <td>1</td>\n",
              "      <td>1</td>\n",
              "      <td>0</td>\n",
              "      <td>1</td>\n",
              "      <td>4</td>\n",
              "      <td>1</td>\n",
              "      <td>3</td>\n",
              "      <td>0</td>\n",
              "      <td>0.0</td>\n",
              "    </tr>\n",
              "    <tr>\n",
              "      <th>4</th>\n",
              "      <td>120011</td>\n",
              "      <td>satisfied</td>\n",
              "      <td>Female</td>\n",
              "      <td>Loyal Customer</td>\n",
              "      <td>70</td>\n",
              "      <td>Personal Travel</td>\n",
              "      <td>Eco</td>\n",
              "      <td>354</td>\n",
              "      <td>0</td>\n",
              "      <td>0</td>\n",
              "      <td>0</td>\n",
              "      <td>3</td>\n",
              "      <td>4</td>\n",
              "      <td>3</td>\n",
              "      <td>4</td>\n",
              "      <td>2</td>\n",
              "      <td>2</td>\n",
              "      <td>0</td>\n",
              "      <td>2</td>\n",
              "      <td>4</td>\n",
              "      <td>2</td>\n",
              "      <td>5</td>\n",
              "      <td>0</td>\n",
              "      <td>0.0</td>\n",
              "    </tr>\n",
              "  </tbody>\n",
              "</table>\n",
              "</div>"
            ],
            "text/plain": [
              "       id satisfaction_v2  ... Departure Delay in Minutes Arrival Delay in Minutes\n",
              "0   11112       satisfied  ...                          0                      0.0\n",
              "1  110278       satisfied  ...                        310                    305.0\n",
              "2  103199       satisfied  ...                          0                      0.0\n",
              "3   47462       satisfied  ...                          0                      0.0\n",
              "4  120011       satisfied  ...                          0                      0.0\n",
              "\n",
              "[5 rows x 24 columns]"
            ]
          },
          "metadata": {
            "tags": []
          },
          "execution_count": 17
        }
      ]
    },
    {
      "cell_type": "code",
      "metadata": {
        "id": "3alKDuNSPaDF",
        "colab": {
          "base_uri": "https://localhost:8080/",
          "height": 267
        },
        "outputId": "1b3b0b08-f5e2-476b-9a8e-95942089ad5e"
      },
      "source": [
        "BaseReduzida1.head()"
      ],
      "execution_count": null,
      "outputs": [
        {
          "output_type": "execute_result",
          "data": {
            "text/html": [
              "<div>\n",
              "<style scoped>\n",
              "    .dataframe tbody tr th:only-of-type {\n",
              "        vertical-align: middle;\n",
              "    }\n",
              "\n",
              "    .dataframe tbody tr th {\n",
              "        vertical-align: top;\n",
              "    }\n",
              "\n",
              "    .dataframe thead th {\n",
              "        text-align: right;\n",
              "    }\n",
              "</style>\n",
              "<table border=\"1\" class=\"dataframe\">\n",
              "  <thead>\n",
              "    <tr style=\"text-align: right;\">\n",
              "      <th></th>\n",
              "      <th>Gender</th>\n",
              "      <th>Customer Type</th>\n",
              "      <th>Age</th>\n",
              "      <th>Type of Travel</th>\n",
              "      <th>Class</th>\n",
              "      <th>Flight Distance</th>\n",
              "      <th>Seat comfort</th>\n",
              "      <th>Departure/Arrival time convenient</th>\n",
              "      <th>Food and drink</th>\n",
              "      <th>Gate location</th>\n",
              "      <th>Inflight wifi service</th>\n",
              "      <th>Inflight entertainment</th>\n",
              "      <th>Online support</th>\n",
              "      <th>Ease of Online booking</th>\n",
              "      <th>On-board service</th>\n",
              "      <th>Leg room service</th>\n",
              "      <th>Baggage handling</th>\n",
              "      <th>Checkin service</th>\n",
              "      <th>Cleanliness</th>\n",
              "      <th>Online boarding</th>\n",
              "      <th>Departure Delay in Minutes</th>\n",
              "      <th>Arrival Delay in Minutes</th>\n",
              "      <th>satisfaction_v2</th>\n",
              "    </tr>\n",
              "  </thead>\n",
              "  <tbody>\n",
              "    <tr>\n",
              "      <th>0</th>\n",
              "      <td>1</td>\n",
              "      <td>1</td>\n",
              "      <td>60</td>\n",
              "      <td>1</td>\n",
              "      <td>1</td>\n",
              "      <td>3453</td>\n",
              "      <td>5</td>\n",
              "      <td>5</td>\n",
              "      <td>5</td>\n",
              "      <td>5</td>\n",
              "      <td>5</td>\n",
              "      <td>4</td>\n",
              "      <td>5</td>\n",
              "      <td>3</td>\n",
              "      <td>3</td>\n",
              "      <td>3</td>\n",
              "      <td>3</td>\n",
              "      <td>3</td>\n",
              "      <td>3</td>\n",
              "      <td>3</td>\n",
              "      <td>3</td>\n",
              "      <td>0.0</td>\n",
              "      <td>1</td>\n",
              "    </tr>\n",
              "    <tr>\n",
              "      <th>1</th>\n",
              "      <td>1</td>\n",
              "      <td>1</td>\n",
              "      <td>60</td>\n",
              "      <td>1</td>\n",
              "      <td>1</td>\n",
              "      <td>2761</td>\n",
              "      <td>3</td>\n",
              "      <td>3</td>\n",
              "      <td>3</td>\n",
              "      <td>3</td>\n",
              "      <td>3</td>\n",
              "      <td>4</td>\n",
              "      <td>4</td>\n",
              "      <td>5</td>\n",
              "      <td>5</td>\n",
              "      <td>5</td>\n",
              "      <td>5</td>\n",
              "      <td>4</td>\n",
              "      <td>5</td>\n",
              "      <td>3</td>\n",
              "      <td>1</td>\n",
              "      <td>0.0</td>\n",
              "      <td>1</td>\n",
              "    </tr>\n",
              "    <tr>\n",
              "      <th>2</th>\n",
              "      <td>0</td>\n",
              "      <td>1</td>\n",
              "      <td>29</td>\n",
              "      <td>0</td>\n",
              "      <td>2</td>\n",
              "      <td>1374</td>\n",
              "      <td>2</td>\n",
              "      <td>4</td>\n",
              "      <td>2</td>\n",
              "      <td>1</td>\n",
              "      <td>3</td>\n",
              "      <td>2</td>\n",
              "      <td>3</td>\n",
              "      <td>3</td>\n",
              "      <td>5</td>\n",
              "      <td>5</td>\n",
              "      <td>5</td>\n",
              "      <td>3</td>\n",
              "      <td>5</td>\n",
              "      <td>3</td>\n",
              "      <td>0</td>\n",
              "      <td>0.0</td>\n",
              "      <td>0</td>\n",
              "    </tr>\n",
              "    <tr>\n",
              "      <th>3</th>\n",
              "      <td>0</td>\n",
              "      <td>1</td>\n",
              "      <td>39</td>\n",
              "      <td>0</td>\n",
              "      <td>2</td>\n",
              "      <td>2108</td>\n",
              "      <td>3</td>\n",
              "      <td>4</td>\n",
              "      <td>3</td>\n",
              "      <td>3</td>\n",
              "      <td>5</td>\n",
              "      <td>3</td>\n",
              "      <td>5</td>\n",
              "      <td>5</td>\n",
              "      <td>5</td>\n",
              "      <td>3</td>\n",
              "      <td>5</td>\n",
              "      <td>5</td>\n",
              "      <td>4</td>\n",
              "      <td>5</td>\n",
              "      <td>0</td>\n",
              "      <td>0.0</td>\n",
              "      <td>0</td>\n",
              "    </tr>\n",
              "    <tr>\n",
              "      <th>4</th>\n",
              "      <td>1</td>\n",
              "      <td>1</td>\n",
              "      <td>40</td>\n",
              "      <td>1</td>\n",
              "      <td>1</td>\n",
              "      <td>2606</td>\n",
              "      <td>1</td>\n",
              "      <td>1</td>\n",
              "      <td>1</td>\n",
              "      <td>1</td>\n",
              "      <td>3</td>\n",
              "      <td>4</td>\n",
              "      <td>4</td>\n",
              "      <td>5</td>\n",
              "      <td>5</td>\n",
              "      <td>5</td>\n",
              "      <td>5</td>\n",
              "      <td>3</td>\n",
              "      <td>5</td>\n",
              "      <td>5</td>\n",
              "      <td>11</td>\n",
              "      <td>0.0</td>\n",
              "      <td>1</td>\n",
              "    </tr>\n",
              "  </tbody>\n",
              "</table>\n",
              "</div>"
            ],
            "text/plain": [
              "   Gender  Customer Type  ...  Arrival Delay in Minutes  satisfaction_v2\n",
              "0       1              1  ...                       0.0                1\n",
              "1       1              1  ...                       0.0                1\n",
              "2       0              1  ...                       0.0                0\n",
              "3       0              1  ...                       0.0                0\n",
              "4       1              1  ...                       0.0                1\n",
              "\n",
              "[5 rows x 23 columns]"
            ]
          },
          "metadata": {
            "tags": []
          },
          "execution_count": 4
        }
      ]
    },
    {
      "cell_type": "code",
      "metadata": {
        "colab": {
          "base_uri": "https://localhost:8080/"
        },
        "id": "66mOUTJUPcDD",
        "outputId": "0ea37507-aa0a-41b7-d0a0-dd47dc8a2cc5"
      },
      "source": [
        "BaseReduzida2.head()"
      ],
      "execution_count": null,
      "outputs": [
        {
          "output_type": "execute_result",
          "data": {
            "text/html": [
              "<div>\n",
              "<style scoped>\n",
              "    .dataframe tbody tr th:only-of-type {\n",
              "        vertical-align: middle;\n",
              "    }\n",
              "\n",
              "    .dataframe tbody tr th {\n",
              "        vertical-align: top;\n",
              "    }\n",
              "\n",
              "    .dataframe thead th {\n",
              "        text-align: right;\n",
              "    }\n",
              "</style>\n",
              "<table border=\"1\" class=\"dataframe\">\n",
              "  <thead>\n",
              "    <tr style=\"text-align: right;\">\n",
              "      <th></th>\n",
              "      <th>Unnamed: 0</th>\n",
              "      <th>Inflight entertainment</th>\n",
              "      <th>Ease of Online booking</th>\n",
              "      <th>Online support</th>\n",
              "      <th>On-board service</th>\n",
              "      <th>Online boarding</th>\n",
              "      <th>satisfaction_v2</th>\n",
              "    </tr>\n",
              "  </thead>\n",
              "  <tbody>\n",
              "    <tr>\n",
              "      <th>0</th>\n",
              "      <td>0</td>\n",
              "      <td>4</td>\n",
              "      <td>3</td>\n",
              "      <td>5</td>\n",
              "      <td>3</td>\n",
              "      <td>3</td>\n",
              "      <td>satisfied</td>\n",
              "    </tr>\n",
              "    <tr>\n",
              "      <th>1</th>\n",
              "      <td>1</td>\n",
              "      <td>4</td>\n",
              "      <td>5</td>\n",
              "      <td>4</td>\n",
              "      <td>5</td>\n",
              "      <td>3</td>\n",
              "      <td>satisfied</td>\n",
              "    </tr>\n",
              "    <tr>\n",
              "      <th>2</th>\n",
              "      <td>2</td>\n",
              "      <td>2</td>\n",
              "      <td>3</td>\n",
              "      <td>3</td>\n",
              "      <td>5</td>\n",
              "      <td>3</td>\n",
              "      <td>neutral or dissatisfied</td>\n",
              "    </tr>\n",
              "    <tr>\n",
              "      <th>3</th>\n",
              "      <td>3</td>\n",
              "      <td>3</td>\n",
              "      <td>5</td>\n",
              "      <td>5</td>\n",
              "      <td>5</td>\n",
              "      <td>5</td>\n",
              "      <td>neutral or dissatisfied</td>\n",
              "    </tr>\n",
              "    <tr>\n",
              "      <th>4</th>\n",
              "      <td>4</td>\n",
              "      <td>4</td>\n",
              "      <td>5</td>\n",
              "      <td>4</td>\n",
              "      <td>5</td>\n",
              "      <td>5</td>\n",
              "      <td>satisfied</td>\n",
              "    </tr>\n",
              "  </tbody>\n",
              "</table>\n",
              "</div>"
            ],
            "text/plain": [
              "   Unnamed: 0  Inflight entertainment  ...  Online boarding          satisfaction_v2\n",
              "0           0                       4  ...                3                satisfied\n",
              "1           1                       4  ...                3                satisfied\n",
              "2           2                       2  ...                3  neutral or dissatisfied\n",
              "3           3                       3  ...                5  neutral or dissatisfied\n",
              "4           4                       4  ...                5                satisfied\n",
              "\n",
              "[5 rows x 7 columns]"
            ]
          },
          "metadata": {
            "tags": []
          },
          "execution_count": 19
        }
      ]
    },
    {
      "cell_type": "code",
      "metadata": {
        "colab": {
          "base_uri": "https://localhost:8080/"
        },
        "id": "xvvxlwv9Pfij",
        "outputId": "6ae27f7a-be8f-4e07-bea1-90d93edaa486"
      },
      "source": [
        "BaseReduzida3.head()"
      ],
      "execution_count": null,
      "outputs": [
        {
          "output_type": "execute_result",
          "data": {
            "text/html": [
              "<div>\n",
              "<style scoped>\n",
              "    .dataframe tbody tr th:only-of-type {\n",
              "        vertical-align: middle;\n",
              "    }\n",
              "\n",
              "    .dataframe tbody tr th {\n",
              "        vertical-align: top;\n",
              "    }\n",
              "\n",
              "    .dataframe thead th {\n",
              "        text-align: right;\n",
              "    }\n",
              "</style>\n",
              "<table border=\"1\" class=\"dataframe\">\n",
              "  <thead>\n",
              "    <tr style=\"text-align: right;\">\n",
              "      <th></th>\n",
              "      <th>Unnamed: 0</th>\n",
              "      <th>componente 1</th>\n",
              "      <th>componente 2</th>\n",
              "      <th>componente 3</th>\n",
              "      <th>satisfaction_v2</th>\n",
              "    </tr>\n",
              "  </thead>\n",
              "  <tbody>\n",
              "    <tr>\n",
              "      <th>0</th>\n",
              "      <td>0</td>\n",
              "      <td>-1.242236</td>\n",
              "      <td>-2.611036</td>\n",
              "      <td>1.648796</td>\n",
              "      <td>satisfied</td>\n",
              "    </tr>\n",
              "    <tr>\n",
              "      <th>1</th>\n",
              "      <td>1</td>\n",
              "      <td>-2.317433</td>\n",
              "      <td>0.490719</td>\n",
              "      <td>-1.556811</td>\n",
              "      <td>satisfied</td>\n",
              "    </tr>\n",
              "    <tr>\n",
              "      <th>2</th>\n",
              "      <td>2</td>\n",
              "      <td>-0.075436</td>\n",
              "      <td>1.022683</td>\n",
              "      <td>-2.431732</td>\n",
              "      <td>neutral or dissatisfied</td>\n",
              "    </tr>\n",
              "    <tr>\n",
              "      <th>3</th>\n",
              "      <td>3</td>\n",
              "      <td>-2.471238</td>\n",
              "      <td>0.329657</td>\n",
              "      <td>0.083808</td>\n",
              "      <td>neutral or dissatisfied</td>\n",
              "    </tr>\n",
              "    <tr>\n",
              "      <th>4</th>\n",
              "      <td>4</td>\n",
              "      <td>-1.860251</td>\n",
              "      <td>3.257834</td>\n",
              "      <td>-1.006860</td>\n",
              "      <td>satisfied</td>\n",
              "    </tr>\n",
              "  </tbody>\n",
              "</table>\n",
              "</div>"
            ],
            "text/plain": [
              "   Unnamed: 0  componente 1  ...  componente 3          satisfaction_v2\n",
              "0           0     -1.242236  ...      1.648796                satisfied\n",
              "1           1     -2.317433  ...     -1.556811                satisfied\n",
              "2           2     -0.075436  ...     -2.431732  neutral or dissatisfied\n",
              "3           3     -2.471238  ...      0.083808  neutral or dissatisfied\n",
              "4           4     -1.860251  ...     -1.006860                satisfied\n",
              "\n",
              "[5 rows x 5 columns]"
            ]
          },
          "metadata": {
            "tags": []
          },
          "execution_count": 20
        }
      ]
    },
    {
      "cell_type": "code",
      "metadata": {
        "colab": {
          "base_uri": "https://localhost:8080/"
        },
        "id": "Vjtb6sr31rL5",
        "outputId": "46a2fa45-04f5-418e-e4d8-a91cc211b853"
      },
      "source": [
        "BaseReduzida1.shape"
      ],
      "execution_count": null,
      "outputs": [
        {
          "output_type": "execute_result",
          "data": {
            "text/plain": [
              "(14752, 25)"
            ]
          },
          "metadata": {
            "tags": []
          },
          "execution_count": 21
        }
      ]
    },
    {
      "cell_type": "code",
      "metadata": {
        "colab": {
          "base_uri": "https://localhost:8080/"
        },
        "id": "WWVq2l8a2G0X",
        "outputId": "94f2370d-5cf5-4e3b-b31d-8c6ac59d0ba1"
      },
      "source": [
        "BaseReduzida2.shape"
      ],
      "execution_count": null,
      "outputs": [
        {
          "output_type": "execute_result",
          "data": {
            "text/plain": [
              "(14709, 7)"
            ]
          },
          "metadata": {
            "tags": []
          },
          "execution_count": 22
        }
      ]
    },
    {
      "cell_type": "code",
      "metadata": {
        "colab": {
          "base_uri": "https://localhost:8080/"
        },
        "id": "aFRJ13bo2JP9",
        "outputId": "420db55d-430c-410f-9851-4e17a67b086a"
      },
      "source": [
        "BaseReduzida3.shape"
      ],
      "execution_count": null,
      "outputs": [
        {
          "output_type": "execute_result",
          "data": {
            "text/plain": [
              "(14752, 5)"
            ]
          },
          "metadata": {
            "tags": []
          },
          "execution_count": 23
        }
      ]
    },
    {
      "cell_type": "code",
      "metadata": {
        "colab": {
          "base_uri": "https://localhost:8080/"
        },
        "id": "VwCnJZr-3D3z",
        "outputId": "36b6f8a5-fdae-4fb7-fef9-8fa40d5b2600"
      },
      "source": [
        "BaseOriginal.shape"
      ],
      "execution_count": null,
      "outputs": [
        {
          "output_type": "execute_result",
          "data": {
            "text/plain": [
              "(129880, 24)"
            ]
          },
          "metadata": {
            "tags": []
          },
          "execution_count": 24
        }
      ]
    },
    {
      "cell_type": "markdown",
      "metadata": {
        "id": "aECVIzDabv6o"
      },
      "source": [
        "## **Missing values**"
      ]
    },
    {
      "cell_type": "code",
      "metadata": {
        "colab": {
          "base_uri": "https://localhost:8080/"
        },
        "id": "kMxUkQmpbv6u",
        "outputId": "39bc0b53-433b-4f79-a5a7-a7c05d861063"
      },
      "source": [
        "print(BaseOriginal.isna().sum())"
      ],
      "execution_count": null,
      "outputs": [
        {
          "output_type": "stream",
          "text": [
            "id                                     0\n",
            "satisfaction_v2                        0\n",
            "Gender                                 0\n",
            "Customer Type                          0\n",
            "Age                                    0\n",
            "Type of Travel                         0\n",
            "Class                                  0\n",
            "Flight Distance                        0\n",
            "Seat comfort                           0\n",
            "Departure/Arrival time convenient      0\n",
            "Food and drink                         0\n",
            "Gate location                          0\n",
            "Inflight wifi service                  0\n",
            "Inflight entertainment                 0\n",
            "Online support                         0\n",
            "Ease of Online booking                 0\n",
            "On-board service                       0\n",
            "Leg room service                       0\n",
            "Baggage handling                       0\n",
            "Checkin service                        0\n",
            "Cleanliness                            0\n",
            "Online boarding                        0\n",
            "Departure Delay in Minutes             0\n",
            "Arrival Delay in Minutes             393\n",
            "dtype: int64\n"
          ],
          "name": "stdout"
        }
      ]
    },
    {
      "cell_type": "code",
      "metadata": {
        "colab": {
          "base_uri": "https://localhost:8080/"
        },
        "id": "AnahJSoKPtdb",
        "outputId": "cacd6262-6240-47f0-fd4a-0e781ee07cd3"
      },
      "source": [
        "print(BaseReduzida1.isna().sum())"
      ],
      "execution_count": null,
      "outputs": [
        {
          "output_type": "stream",
          "text": [
            "Unnamed: 0                            0\n",
            "id                                    0\n",
            "satisfaction_v2                       0\n",
            "Gender                                0\n",
            "Customer Type                         0\n",
            "Age                                   0\n",
            "Type of Travel                        0\n",
            "Class                                 0\n",
            "Flight Distance                       0\n",
            "Seat comfort                          0\n",
            "Departure/Arrival time convenient     0\n",
            "Food and drink                        0\n",
            "Gate location                         0\n",
            "Inflight wifi service                 0\n",
            "Inflight entertainment                0\n",
            "Online support                        0\n",
            "Ease of Online booking                0\n",
            "On-board service                      0\n",
            "Leg room service                      0\n",
            "Baggage handling                      0\n",
            "Checkin service                       0\n",
            "Cleanliness                           0\n",
            "Online boarding                       0\n",
            "Departure Delay in Minutes            0\n",
            "Arrival Delay in Minutes             43\n",
            "dtype: int64\n"
          ],
          "name": "stdout"
        }
      ]
    },
    {
      "cell_type": "code",
      "metadata": {
        "colab": {
          "base_uri": "https://localhost:8080/"
        },
        "id": "1OhFpCM1kdnT",
        "outputId": "d6d2ed3e-1e29-4f8c-fc43-880cbd876b41"
      },
      "source": [
        "print(BaseReduzida3.isna().sum())"
      ],
      "execution_count": null,
      "outputs": [
        {
          "output_type": "stream",
          "text": [
            "Unnamed: 0          0\n",
            "componente 1       43\n",
            "componente 2       43\n",
            "componente 3       43\n",
            "satisfaction_v2    43\n",
            "dtype: int64\n"
          ],
          "name": "stdout"
        }
      ]
    },
    {
      "cell_type": "code",
      "metadata": {
        "id": "_XXigE15bv6w"
      },
      "source": [
        "BaseOriginal = BaseOriginal.dropna(subset=[\"Arrival Delay in Minutes\"])\n",
        "BaseReduzida1 = BaseReduzida1.dropna(subset=[\"Arrival Delay in Minutes\"])\n",
        "BaseReduzida3 = BaseReduzida3.dropna(subset=[\"componente 1\", \"componente 2\", \"componente 3\", \"satisfaction_v2\"])"
      ],
      "execution_count": null,
      "outputs": []
    },
    {
      "cell_type": "code",
      "metadata": {
        "id": "QrrzPN3rbv6x",
        "colab": {
          "base_uri": "https://localhost:8080/"
        },
        "outputId": "62c0dad7-bd46-437c-ca16-cb74ed8a60d2"
      },
      "source": [
        "print(BaseOriginal.isna().sum())"
      ],
      "execution_count": null,
      "outputs": [
        {
          "output_type": "stream",
          "text": [
            "id                                   0\n",
            "satisfaction_v2                      0\n",
            "Gender                               0\n",
            "Customer Type                        0\n",
            "Age                                  0\n",
            "Type of Travel                       0\n",
            "Class                                0\n",
            "Flight Distance                      0\n",
            "Seat comfort                         0\n",
            "Departure/Arrival time convenient    0\n",
            "Food and drink                       0\n",
            "Gate location                        0\n",
            "Inflight wifi service                0\n",
            "Inflight entertainment               0\n",
            "Online support                       0\n",
            "Ease of Online booking               0\n",
            "On-board service                     0\n",
            "Leg room service                     0\n",
            "Baggage handling                     0\n",
            "Checkin service                      0\n",
            "Cleanliness                          0\n",
            "Online boarding                      0\n",
            "Departure Delay in Minutes           0\n",
            "Arrival Delay in Minutes             0\n",
            "dtype: int64\n"
          ],
          "name": "stdout"
        }
      ]
    },
    {
      "cell_type": "code",
      "metadata": {
        "colab": {
          "base_uri": "https://localhost:8080/"
        },
        "id": "bzYUs1SGP2UK",
        "outputId": "fec11830-01e2-4a09-ca93-876401db872c"
      },
      "source": [
        "print(BaseReduzida1.isna().sum())"
      ],
      "execution_count": null,
      "outputs": [
        {
          "output_type": "stream",
          "text": [
            "Unnamed: 0                           0\n",
            "id                                   0\n",
            "satisfaction_v2                      0\n",
            "Gender                               0\n",
            "Customer Type                        0\n",
            "Age                                  0\n",
            "Type of Travel                       0\n",
            "Class                                0\n",
            "Flight Distance                      0\n",
            "Seat comfort                         0\n",
            "Departure/Arrival time convenient    0\n",
            "Food and drink                       0\n",
            "Gate location                        0\n",
            "Inflight wifi service                0\n",
            "Inflight entertainment               0\n",
            "Online support                       0\n",
            "Ease of Online booking               0\n",
            "On-board service                     0\n",
            "Leg room service                     0\n",
            "Baggage handling                     0\n",
            "Checkin service                      0\n",
            "Cleanliness                          0\n",
            "Online boarding                      0\n",
            "Departure Delay in Minutes           0\n",
            "Arrival Delay in Minutes             0\n",
            "dtype: int64\n"
          ],
          "name": "stdout"
        }
      ]
    },
    {
      "cell_type": "code",
      "metadata": {
        "colab": {
          "base_uri": "https://localhost:8080/"
        },
        "id": "fIhJ-dpSlEx3",
        "outputId": "7ae09982-84f6-44a3-88a5-68af67bf1c9e"
      },
      "source": [
        "print(BaseReduzida3.isna().sum())"
      ],
      "execution_count": null,
      "outputs": [
        {
          "output_type": "stream",
          "text": [
            "Unnamed: 0         0\n",
            "componente 1       0\n",
            "componente 2       0\n",
            "componente 3       0\n",
            "satisfaction_v2    0\n",
            "dtype: int64\n"
          ],
          "name": "stdout"
        }
      ]
    },
    {
      "cell_type": "code",
      "metadata": {
        "id": "K_eFD_94Vs0f"
      },
      "source": [
        "BaseReduzida1.to_csv(\"BaseReduzida1.csv\", sep=',', index=False)"
      ],
      "execution_count": null,
      "outputs": []
    },
    {
      "cell_type": "markdown",
      "metadata": {
        "id": "-_pjhIx0v26P"
      },
      "source": [
        "## **Transformação de Dados**"
      ]
    },
    {
      "cell_type": "markdown",
      "metadata": {
        "id": "IQ8wFvYMBDFY"
      },
      "source": [
        "####Base Original"
      ]
    },
    {
      "cell_type": "code",
      "metadata": {
        "id": "43zOWA6gxE2L"
      },
      "source": [
        "BaseOriginal = BaseOriginal.drop('id', axis=1)"
      ],
      "execution_count": null,
      "outputs": []
    },
    {
      "cell_type": "code",
      "metadata": {
        "id": "nmlP6O9CxYyM"
      },
      "source": [
        "#Transformando valores nominais para binários\n",
        "nominal_to_num = {\"satisfaction_v2\": {\"satisfied\": 1, \"neutral or dissatisfied\": 0},\n",
        "                \"Gender\": {\"Female\": 1, \"Male\": 0},\n",
        "                \"Customer Type\": {\"Loyal Customer\": 1, \"disloyal Customer\": 0},\n",
        "                \"Type of Travel\": {\"Business travel\": 1, \"Personal Travel\": 0},\n",
        "                \"Class\": {\"Business\": 1, \"Eco\": 2, \"Eco Plus\": 3}}\n",
        "\n",
        "BaseOriginal = BaseOriginal.replace(nominal_to_num)"
      ],
      "execution_count": null,
      "outputs": []
    },
    {
      "cell_type": "code",
      "metadata": {
        "colab": {
          "base_uri": "https://localhost:8080/"
        },
        "id": "OnL8FdLdiA_9",
        "outputId": "17fd7beb-8304-47ef-b28f-0a1b2991c530"
      },
      "source": [
        "#Colocando o target para a última coluna\n",
        "BaseOriginal = BaseOriginal[[\n",
        "       'Gender', 'Customer Type', 'Age', 'Type of Travel',\n",
        "       'Class', 'Flight Distance', 'Seat comfort',\n",
        "       'Departure/Arrival time convenient', 'Food and drink', 'Gate location',\n",
        "       'Inflight wifi service', 'Inflight entertainment', 'Online support',\n",
        "       'Ease of Online booking', 'On-board service', 'Leg room service',\n",
        "       'Baggage handling', 'Checkin service', 'Cleanliness', 'Online boarding',\n",
        "       'Departure Delay in Minutes', 'Arrival Delay in Minutes','satisfaction_v2'\n",
        "    ]]\n",
        "BaseOriginal.head()"
      ],
      "execution_count": null,
      "outputs": [
        {
          "output_type": "execute_result",
          "data": {
            "text/html": [
              "<div>\n",
              "<style scoped>\n",
              "    .dataframe tbody tr th:only-of-type {\n",
              "        vertical-align: middle;\n",
              "    }\n",
              "\n",
              "    .dataframe tbody tr th {\n",
              "        vertical-align: top;\n",
              "    }\n",
              "\n",
              "    .dataframe thead th {\n",
              "        text-align: right;\n",
              "    }\n",
              "</style>\n",
              "<table border=\"1\" class=\"dataframe\">\n",
              "  <thead>\n",
              "    <tr style=\"text-align: right;\">\n",
              "      <th></th>\n",
              "      <th>Gender</th>\n",
              "      <th>Customer Type</th>\n",
              "      <th>Age</th>\n",
              "      <th>Type of Travel</th>\n",
              "      <th>Class</th>\n",
              "      <th>Flight Distance</th>\n",
              "      <th>Seat comfort</th>\n",
              "      <th>Departure/Arrival time convenient</th>\n",
              "      <th>Food and drink</th>\n",
              "      <th>Gate location</th>\n",
              "      <th>Inflight wifi service</th>\n",
              "      <th>Inflight entertainment</th>\n",
              "      <th>Online support</th>\n",
              "      <th>Ease of Online booking</th>\n",
              "      <th>On-board service</th>\n",
              "      <th>Leg room service</th>\n",
              "      <th>Baggage handling</th>\n",
              "      <th>Checkin service</th>\n",
              "      <th>Cleanliness</th>\n",
              "      <th>Online boarding</th>\n",
              "      <th>Departure Delay in Minutes</th>\n",
              "      <th>Arrival Delay in Minutes</th>\n",
              "      <th>satisfaction_v2</th>\n",
              "    </tr>\n",
              "  </thead>\n",
              "  <tbody>\n",
              "    <tr>\n",
              "      <th>0</th>\n",
              "      <td>1</td>\n",
              "      <td>1</td>\n",
              "      <td>65</td>\n",
              "      <td>0</td>\n",
              "      <td>2</td>\n",
              "      <td>265</td>\n",
              "      <td>0</td>\n",
              "      <td>0</td>\n",
              "      <td>0</td>\n",
              "      <td>2</td>\n",
              "      <td>2</td>\n",
              "      <td>4</td>\n",
              "      <td>2</td>\n",
              "      <td>3</td>\n",
              "      <td>3</td>\n",
              "      <td>0</td>\n",
              "      <td>3</td>\n",
              "      <td>5</td>\n",
              "      <td>3</td>\n",
              "      <td>2</td>\n",
              "      <td>0</td>\n",
              "      <td>0.0</td>\n",
              "      <td>1</td>\n",
              "    </tr>\n",
              "    <tr>\n",
              "      <th>1</th>\n",
              "      <td>0</td>\n",
              "      <td>1</td>\n",
              "      <td>47</td>\n",
              "      <td>0</td>\n",
              "      <td>1</td>\n",
              "      <td>2464</td>\n",
              "      <td>0</td>\n",
              "      <td>0</td>\n",
              "      <td>0</td>\n",
              "      <td>3</td>\n",
              "      <td>0</td>\n",
              "      <td>2</td>\n",
              "      <td>2</td>\n",
              "      <td>3</td>\n",
              "      <td>4</td>\n",
              "      <td>4</td>\n",
              "      <td>4</td>\n",
              "      <td>2</td>\n",
              "      <td>3</td>\n",
              "      <td>2</td>\n",
              "      <td>310</td>\n",
              "      <td>305.0</td>\n",
              "      <td>1</td>\n",
              "    </tr>\n",
              "    <tr>\n",
              "      <th>2</th>\n",
              "      <td>1</td>\n",
              "      <td>1</td>\n",
              "      <td>15</td>\n",
              "      <td>0</td>\n",
              "      <td>2</td>\n",
              "      <td>2138</td>\n",
              "      <td>0</td>\n",
              "      <td>0</td>\n",
              "      <td>0</td>\n",
              "      <td>3</td>\n",
              "      <td>2</td>\n",
              "      <td>0</td>\n",
              "      <td>2</td>\n",
              "      <td>2</td>\n",
              "      <td>3</td>\n",
              "      <td>3</td>\n",
              "      <td>4</td>\n",
              "      <td>4</td>\n",
              "      <td>4</td>\n",
              "      <td>2</td>\n",
              "      <td>0</td>\n",
              "      <td>0.0</td>\n",
              "      <td>1</td>\n",
              "    </tr>\n",
              "    <tr>\n",
              "      <th>3</th>\n",
              "      <td>1</td>\n",
              "      <td>1</td>\n",
              "      <td>60</td>\n",
              "      <td>0</td>\n",
              "      <td>2</td>\n",
              "      <td>623</td>\n",
              "      <td>0</td>\n",
              "      <td>0</td>\n",
              "      <td>0</td>\n",
              "      <td>3</td>\n",
              "      <td>3</td>\n",
              "      <td>4</td>\n",
              "      <td>3</td>\n",
              "      <td>1</td>\n",
              "      <td>1</td>\n",
              "      <td>0</td>\n",
              "      <td>1</td>\n",
              "      <td>4</td>\n",
              "      <td>1</td>\n",
              "      <td>3</td>\n",
              "      <td>0</td>\n",
              "      <td>0.0</td>\n",
              "      <td>1</td>\n",
              "    </tr>\n",
              "    <tr>\n",
              "      <th>4</th>\n",
              "      <td>1</td>\n",
              "      <td>1</td>\n",
              "      <td>70</td>\n",
              "      <td>0</td>\n",
              "      <td>2</td>\n",
              "      <td>354</td>\n",
              "      <td>0</td>\n",
              "      <td>0</td>\n",
              "      <td>0</td>\n",
              "      <td>3</td>\n",
              "      <td>4</td>\n",
              "      <td>3</td>\n",
              "      <td>4</td>\n",
              "      <td>2</td>\n",
              "      <td>2</td>\n",
              "      <td>0</td>\n",
              "      <td>2</td>\n",
              "      <td>4</td>\n",
              "      <td>2</td>\n",
              "      <td>5</td>\n",
              "      <td>0</td>\n",
              "      <td>0.0</td>\n",
              "      <td>1</td>\n",
              "    </tr>\n",
              "  </tbody>\n",
              "</table>\n",
              "</div>"
            ],
            "text/plain": [
              "   Gender  Customer Type  ...  Arrival Delay in Minutes  satisfaction_v2\n",
              "0       1              1  ...                       0.0                1\n",
              "1       0              1  ...                     305.0                1\n",
              "2       1              1  ...                       0.0                1\n",
              "3       1              1  ...                       0.0                1\n",
              "4       1              1  ...                       0.0                1\n",
              "\n",
              "[5 rows x 23 columns]"
            ]
          },
          "metadata": {
            "tags": []
          },
          "execution_count": 35
        }
      ]
    },
    {
      "cell_type": "code",
      "metadata": {
        "colab": {
          "base_uri": "https://localhost:8080/"
        },
        "id": "-S9XXgE_9gry",
        "outputId": "c499d29c-2151-48e2-c01c-1fd8021fbfe1"
      },
      "source": [
        "BaseOriginal.shape"
      ],
      "execution_count": null,
      "outputs": [
        {
          "output_type": "execute_result",
          "data": {
            "text/plain": [
              "(129487, 23)"
            ]
          },
          "metadata": {
            "tags": []
          },
          "execution_count": 36
        }
      ]
    },
    {
      "cell_type": "markdown",
      "metadata": {
        "id": "_zNsXA6IN0Zg"
      },
      "source": [
        "####Base Reduzida 1"
      ]
    },
    {
      "cell_type": "code",
      "metadata": {
        "id": "QWpT8eIpNxR3"
      },
      "source": [
        "BaseReduzida1 = BaseReduzida1.drop('id', axis=1)\n",
        "BaseReduzida1 = BaseReduzida1.drop('Unnamed: 0', axis=1)"
      ],
      "execution_count": null,
      "outputs": []
    },
    {
      "cell_type": "code",
      "metadata": {
        "id": "HUTMc2ikNtLE"
      },
      "source": [
        "#Transformando valores nominais para binários\n",
        "nominal_to_num = {\"satisfaction_v2\": {\"satisfied\": 1, \"neutral or dissatisfied\": 0},\n",
        "                \"Gender\": {\"Female\": 1, \"Male\": 0},\n",
        "                \"Customer Type\": {\"Loyal Customer\": 1, \"disloyal Customer\": 0},\n",
        "                \"Type of Travel\": {\"Business travel\": 1, \"Personal Travel\": 0},\n",
        "                \"Class\": {\"Business\": 1, \"Eco\": 2, \"Eco Plus\": 3}}\n",
        "BaseReduzida1 = BaseReduzida1.replace(nominal_to_num)"
      ],
      "execution_count": null,
      "outputs": []
    },
    {
      "cell_type": "code",
      "metadata": {
        "colab": {
          "base_uri": "https://localhost:8080/"
        },
        "id": "0_GiuDUfNdQz",
        "outputId": "5456382e-879e-4466-ddfe-bd0ec27b9cfd"
      },
      "source": [
        "#Colocando o target para a última coluna\n",
        "BaseReduzida1 = BaseReduzida1[[\n",
        "       'Gender', 'Customer Type', 'Age', 'Type of Travel',\n",
        "       'Class', 'Flight Distance', 'Seat comfort',\n",
        "       'Departure/Arrival time convenient', 'Food and drink', 'Gate location',\n",
        "       'Inflight wifi service', 'Inflight entertainment', 'Online support',\n",
        "       'Ease of Online booking', 'On-board service', 'Leg room service',\n",
        "       'Baggage handling', 'Checkin service', 'Cleanliness', 'Online boarding',\n",
        "       'Departure Delay in Minutes', 'Arrival Delay in Minutes','satisfaction_v2'\n",
        "    ]]\n",
        "BaseReduzida1.head()"
      ],
      "execution_count": null,
      "outputs": [
        {
          "output_type": "execute_result",
          "data": {
            "text/html": [
              "<div>\n",
              "<style scoped>\n",
              "    .dataframe tbody tr th:only-of-type {\n",
              "        vertical-align: middle;\n",
              "    }\n",
              "\n",
              "    .dataframe tbody tr th {\n",
              "        vertical-align: top;\n",
              "    }\n",
              "\n",
              "    .dataframe thead th {\n",
              "        text-align: right;\n",
              "    }\n",
              "</style>\n",
              "<table border=\"1\" class=\"dataframe\">\n",
              "  <thead>\n",
              "    <tr style=\"text-align: right;\">\n",
              "      <th></th>\n",
              "      <th>Gender</th>\n",
              "      <th>Customer Type</th>\n",
              "      <th>Age</th>\n",
              "      <th>Type of Travel</th>\n",
              "      <th>Class</th>\n",
              "      <th>Flight Distance</th>\n",
              "      <th>Seat comfort</th>\n",
              "      <th>Departure/Arrival time convenient</th>\n",
              "      <th>Food and drink</th>\n",
              "      <th>Gate location</th>\n",
              "      <th>Inflight wifi service</th>\n",
              "      <th>Inflight entertainment</th>\n",
              "      <th>Online support</th>\n",
              "      <th>Ease of Online booking</th>\n",
              "      <th>On-board service</th>\n",
              "      <th>Leg room service</th>\n",
              "      <th>Baggage handling</th>\n",
              "      <th>Checkin service</th>\n",
              "      <th>Cleanliness</th>\n",
              "      <th>Online boarding</th>\n",
              "      <th>Departure Delay in Minutes</th>\n",
              "      <th>Arrival Delay in Minutes</th>\n",
              "      <th>satisfaction_v2</th>\n",
              "    </tr>\n",
              "  </thead>\n",
              "  <tbody>\n",
              "    <tr>\n",
              "      <th>0</th>\n",
              "      <td>1</td>\n",
              "      <td>1</td>\n",
              "      <td>60</td>\n",
              "      <td>1</td>\n",
              "      <td>1</td>\n",
              "      <td>3453</td>\n",
              "      <td>5</td>\n",
              "      <td>5</td>\n",
              "      <td>5</td>\n",
              "      <td>5</td>\n",
              "      <td>5</td>\n",
              "      <td>4</td>\n",
              "      <td>5</td>\n",
              "      <td>3</td>\n",
              "      <td>3</td>\n",
              "      <td>3</td>\n",
              "      <td>3</td>\n",
              "      <td>3</td>\n",
              "      <td>3</td>\n",
              "      <td>3</td>\n",
              "      <td>3</td>\n",
              "      <td>0.0</td>\n",
              "      <td>1</td>\n",
              "    </tr>\n",
              "    <tr>\n",
              "      <th>1</th>\n",
              "      <td>1</td>\n",
              "      <td>1</td>\n",
              "      <td>60</td>\n",
              "      <td>1</td>\n",
              "      <td>1</td>\n",
              "      <td>2761</td>\n",
              "      <td>3</td>\n",
              "      <td>3</td>\n",
              "      <td>3</td>\n",
              "      <td>3</td>\n",
              "      <td>3</td>\n",
              "      <td>4</td>\n",
              "      <td>4</td>\n",
              "      <td>5</td>\n",
              "      <td>5</td>\n",
              "      <td>5</td>\n",
              "      <td>5</td>\n",
              "      <td>4</td>\n",
              "      <td>5</td>\n",
              "      <td>3</td>\n",
              "      <td>1</td>\n",
              "      <td>0.0</td>\n",
              "      <td>1</td>\n",
              "    </tr>\n",
              "    <tr>\n",
              "      <th>2</th>\n",
              "      <td>0</td>\n",
              "      <td>1</td>\n",
              "      <td>29</td>\n",
              "      <td>0</td>\n",
              "      <td>2</td>\n",
              "      <td>1374</td>\n",
              "      <td>2</td>\n",
              "      <td>4</td>\n",
              "      <td>2</td>\n",
              "      <td>1</td>\n",
              "      <td>3</td>\n",
              "      <td>2</td>\n",
              "      <td>3</td>\n",
              "      <td>3</td>\n",
              "      <td>5</td>\n",
              "      <td>5</td>\n",
              "      <td>5</td>\n",
              "      <td>3</td>\n",
              "      <td>5</td>\n",
              "      <td>3</td>\n",
              "      <td>0</td>\n",
              "      <td>0.0</td>\n",
              "      <td>0</td>\n",
              "    </tr>\n",
              "    <tr>\n",
              "      <th>3</th>\n",
              "      <td>0</td>\n",
              "      <td>1</td>\n",
              "      <td>39</td>\n",
              "      <td>0</td>\n",
              "      <td>2</td>\n",
              "      <td>2108</td>\n",
              "      <td>3</td>\n",
              "      <td>4</td>\n",
              "      <td>3</td>\n",
              "      <td>3</td>\n",
              "      <td>5</td>\n",
              "      <td>3</td>\n",
              "      <td>5</td>\n",
              "      <td>5</td>\n",
              "      <td>5</td>\n",
              "      <td>3</td>\n",
              "      <td>5</td>\n",
              "      <td>5</td>\n",
              "      <td>4</td>\n",
              "      <td>5</td>\n",
              "      <td>0</td>\n",
              "      <td>0.0</td>\n",
              "      <td>0</td>\n",
              "    </tr>\n",
              "    <tr>\n",
              "      <th>4</th>\n",
              "      <td>1</td>\n",
              "      <td>1</td>\n",
              "      <td>40</td>\n",
              "      <td>1</td>\n",
              "      <td>1</td>\n",
              "      <td>2606</td>\n",
              "      <td>1</td>\n",
              "      <td>1</td>\n",
              "      <td>1</td>\n",
              "      <td>1</td>\n",
              "      <td>3</td>\n",
              "      <td>4</td>\n",
              "      <td>4</td>\n",
              "      <td>5</td>\n",
              "      <td>5</td>\n",
              "      <td>5</td>\n",
              "      <td>5</td>\n",
              "      <td>3</td>\n",
              "      <td>5</td>\n",
              "      <td>5</td>\n",
              "      <td>11</td>\n",
              "      <td>0.0</td>\n",
              "      <td>1</td>\n",
              "    </tr>\n",
              "  </tbody>\n",
              "</table>\n",
              "</div>"
            ],
            "text/plain": [
              "   Gender  Customer Type  ...  Arrival Delay in Minutes  satisfaction_v2\n",
              "0       1              1  ...                       0.0                1\n",
              "1       1              1  ...                       0.0                1\n",
              "2       0              1  ...                       0.0                0\n",
              "3       0              1  ...                       0.0                0\n",
              "4       1              1  ...                       0.0                1\n",
              "\n",
              "[5 rows x 23 columns]"
            ]
          },
          "metadata": {
            "tags": []
          },
          "execution_count": 39
        }
      ]
    },
    {
      "cell_type": "code",
      "metadata": {
        "colab": {
          "base_uri": "https://localhost:8080/"
        },
        "id": "jdLMEDpdfZpi",
        "outputId": "ef6b1d69-0c3b-4519-aabe-5687ce80d6bf"
      },
      "source": [
        "BaseReduzida1.shape"
      ],
      "execution_count": null,
      "outputs": [
        {
          "output_type": "execute_result",
          "data": {
            "text/plain": [
              "(14709, 23)"
            ]
          },
          "metadata": {
            "tags": []
          },
          "execution_count": 40
        }
      ]
    },
    {
      "cell_type": "markdown",
      "metadata": {
        "id": "7M5sj9KKUd9F"
      },
      "source": [
        "####Base Reduzida 2"
      ]
    },
    {
      "cell_type": "code",
      "metadata": {
        "id": "HkZ3bqwzUgi5"
      },
      "source": [
        "BaseReduzida2 = BaseReduzida2.drop('Unnamed: 0', axis=1)"
      ],
      "execution_count": null,
      "outputs": []
    },
    {
      "cell_type": "code",
      "metadata": {
        "id": "fED-Q9d1VGWv"
      },
      "source": [
        "#Transformando valores nominais para binários\n",
        "enconder = LabelEncoder()\n",
        "BaseReduzida2['satisfaction_v2'] = enconder.fit_transform(BaseReduzida2['satisfaction_v2'])"
      ],
      "execution_count": null,
      "outputs": []
    },
    {
      "cell_type": "code",
      "metadata": {
        "colab": {
          "base_uri": "https://localhost:8080/"
        },
        "id": "KY6vaAZXWtyj",
        "outputId": "2edf1cf5-2513-40e7-9569-d9701029e46e"
      },
      "source": [
        "BaseReduzida2.head()"
      ],
      "execution_count": null,
      "outputs": [
        {
          "output_type": "execute_result",
          "data": {
            "text/html": [
              "<div>\n",
              "<style scoped>\n",
              "    .dataframe tbody tr th:only-of-type {\n",
              "        vertical-align: middle;\n",
              "    }\n",
              "\n",
              "    .dataframe tbody tr th {\n",
              "        vertical-align: top;\n",
              "    }\n",
              "\n",
              "    .dataframe thead th {\n",
              "        text-align: right;\n",
              "    }\n",
              "</style>\n",
              "<table border=\"1\" class=\"dataframe\">\n",
              "  <thead>\n",
              "    <tr style=\"text-align: right;\">\n",
              "      <th></th>\n",
              "      <th>Inflight entertainment</th>\n",
              "      <th>Ease of Online booking</th>\n",
              "      <th>Online support</th>\n",
              "      <th>On-board service</th>\n",
              "      <th>Online boarding</th>\n",
              "      <th>satisfaction_v2</th>\n",
              "    </tr>\n",
              "  </thead>\n",
              "  <tbody>\n",
              "    <tr>\n",
              "      <th>0</th>\n",
              "      <td>4</td>\n",
              "      <td>3</td>\n",
              "      <td>5</td>\n",
              "      <td>3</td>\n",
              "      <td>3</td>\n",
              "      <td>1</td>\n",
              "    </tr>\n",
              "    <tr>\n",
              "      <th>1</th>\n",
              "      <td>4</td>\n",
              "      <td>5</td>\n",
              "      <td>4</td>\n",
              "      <td>5</td>\n",
              "      <td>3</td>\n",
              "      <td>1</td>\n",
              "    </tr>\n",
              "    <tr>\n",
              "      <th>2</th>\n",
              "      <td>2</td>\n",
              "      <td>3</td>\n",
              "      <td>3</td>\n",
              "      <td>5</td>\n",
              "      <td>3</td>\n",
              "      <td>0</td>\n",
              "    </tr>\n",
              "    <tr>\n",
              "      <th>3</th>\n",
              "      <td>3</td>\n",
              "      <td>5</td>\n",
              "      <td>5</td>\n",
              "      <td>5</td>\n",
              "      <td>5</td>\n",
              "      <td>0</td>\n",
              "    </tr>\n",
              "    <tr>\n",
              "      <th>4</th>\n",
              "      <td>4</td>\n",
              "      <td>5</td>\n",
              "      <td>4</td>\n",
              "      <td>5</td>\n",
              "      <td>5</td>\n",
              "      <td>1</td>\n",
              "    </tr>\n",
              "  </tbody>\n",
              "</table>\n",
              "</div>"
            ],
            "text/plain": [
              "   Inflight entertainment  ...  satisfaction_v2\n",
              "0                       4  ...                1\n",
              "1                       4  ...                1\n",
              "2                       2  ...                0\n",
              "3                       3  ...                0\n",
              "4                       4  ...                1\n",
              "\n",
              "[5 rows x 6 columns]"
            ]
          },
          "metadata": {
            "tags": []
          },
          "execution_count": 43
        }
      ]
    },
    {
      "cell_type": "markdown",
      "metadata": {
        "id": "SHCpKfgeWe6I"
      },
      "source": [
        "####Base Reduzida 3"
      ]
    },
    {
      "cell_type": "code",
      "metadata": {
        "id": "iAP95SIzWiik"
      },
      "source": [
        "BaseReduzida3 = BaseReduzida3.drop('Unnamed: 0', axis=1)"
      ],
      "execution_count": null,
      "outputs": []
    },
    {
      "cell_type": "code",
      "metadata": {
        "id": "1m_z96E1WUlE"
      },
      "source": [
        "#Transformando valores nominais para binários\n",
        "nominal_to_num = {\"satisfaction_v2\": {\"satisfied\": 1, \"neutral or dissatisfied\": 0}}"
      ],
      "execution_count": null,
      "outputs": []
    },
    {
      "cell_type": "code",
      "metadata": {
        "colab": {
          "base_uri": "https://localhost:8080/"
        },
        "id": "DqM219yfWbeS",
        "outputId": "b186c68b-87f2-4dd9-c711-a787e9bef7a1"
      },
      "source": [
        "BaseReduzida3 = BaseReduzida3.replace(nominal_to_num)\n",
        "BaseReduzida3.head()"
      ],
      "execution_count": null,
      "outputs": [
        {
          "output_type": "execute_result",
          "data": {
            "text/html": [
              "<div>\n",
              "<style scoped>\n",
              "    .dataframe tbody tr th:only-of-type {\n",
              "        vertical-align: middle;\n",
              "    }\n",
              "\n",
              "    .dataframe tbody tr th {\n",
              "        vertical-align: top;\n",
              "    }\n",
              "\n",
              "    .dataframe thead th {\n",
              "        text-align: right;\n",
              "    }\n",
              "</style>\n",
              "<table border=\"1\" class=\"dataframe\">\n",
              "  <thead>\n",
              "    <tr style=\"text-align: right;\">\n",
              "      <th></th>\n",
              "      <th>componente 1</th>\n",
              "      <th>componente 2</th>\n",
              "      <th>componente 3</th>\n",
              "      <th>satisfaction_v2</th>\n",
              "    </tr>\n",
              "  </thead>\n",
              "  <tbody>\n",
              "    <tr>\n",
              "      <th>0</th>\n",
              "      <td>-1.242236</td>\n",
              "      <td>-2.611036</td>\n",
              "      <td>1.648796</td>\n",
              "      <td>1</td>\n",
              "    </tr>\n",
              "    <tr>\n",
              "      <th>1</th>\n",
              "      <td>-2.317433</td>\n",
              "      <td>0.490719</td>\n",
              "      <td>-1.556811</td>\n",
              "      <td>1</td>\n",
              "    </tr>\n",
              "    <tr>\n",
              "      <th>2</th>\n",
              "      <td>-0.075436</td>\n",
              "      <td>1.022683</td>\n",
              "      <td>-2.431732</td>\n",
              "      <td>0</td>\n",
              "    </tr>\n",
              "    <tr>\n",
              "      <th>3</th>\n",
              "      <td>-2.471238</td>\n",
              "      <td>0.329657</td>\n",
              "      <td>0.083808</td>\n",
              "      <td>0</td>\n",
              "    </tr>\n",
              "    <tr>\n",
              "      <th>4</th>\n",
              "      <td>-1.860251</td>\n",
              "      <td>3.257834</td>\n",
              "      <td>-1.006860</td>\n",
              "      <td>1</td>\n",
              "    </tr>\n",
              "  </tbody>\n",
              "</table>\n",
              "</div>"
            ],
            "text/plain": [
              "   componente 1  componente 2  componente 3  satisfaction_v2\n",
              "0     -1.242236     -2.611036      1.648796                1\n",
              "1     -2.317433      0.490719     -1.556811                1\n",
              "2     -0.075436      1.022683     -2.431732                0\n",
              "3     -2.471238      0.329657      0.083808                0\n",
              "4     -1.860251      3.257834     -1.006860                1"
            ]
          },
          "metadata": {
            "tags": []
          },
          "execution_count": 46
        }
      ]
    },
    {
      "cell_type": "markdown",
      "metadata": {
        "id": "9bAqZEHOPmgs"
      },
      "source": [
        "## **k-NN**"
      ]
    },
    {
      "cell_type": "markdown",
      "metadata": {
        "id": "bzdCiMeLR6II"
      },
      "source": [
        "Para cada base de dados, serão feitos experimentos em dois cenários: uso ou não do\n",
        "escalonamento dos valores dos atributos numéricos para [0,1]. Em cada um desses contextos, o\n",
        "procedimento deve ser o seguinte. Serão feitos treinamentos usando 10-fold cross validation para\n",
        "diferentes valores de k (devem ser escolhidos, pelo menos, três valores diferentes de k). Aqui, o\n",
        "grupo deve buscar o valor de k que produza o melhor resultado para esta base de dados.\n",
        "Fazer os experimentos com e sem peso (utilizado para desempate, caso haja empate).\n",
        "Após\n",
        "realizar os experimentos com este método, o aluno deve buscar respostas para as seguintes\n",
        "perguntas:\n",
        "1. Qual foi o melhor valor de k?\n",
        "2. Foi importante escalonar os valores?\n",
        "3. E o peso teve algum impacto no desempenho do método?"
      ]
    },
    {
      "cell_type": "markdown",
      "metadata": {
        "id": "pdpaJoTBRNS5"
      },
      "source": [
        "### Cenário 1: sem escalonamento dos valores"
      ]
    },
    {
      "cell_type": "markdown",
      "metadata": {
        "id": "17RtYqCAAXGg"
      },
      "source": [
        "#### Base Original"
      ]
    },
    {
      "cell_type": "code",
      "metadata": {
        "id": "RxoVlIM4PsBi",
        "colab": {
          "base_uri": "https://localhost:8080/"
        },
        "outputId": "7aa9d8a2-d573-4f4b-8882-72df66093c30"
      },
      "source": [
        "X = BaseOriginal.iloc[:,:-1].values\n",
        "y = BaseOriginal.iloc[:,-1].values\n",
        "\n",
        "for i in range(10):\n",
        "  seed = random.randint(900,5000)\n",
        "  print(\"Seed = \", seed) \n",
        "  rkf = RepeatedKFold(n_splits=10, n_repeats=10, random_state=seed)\n",
        "  for train, test in rkf.split(X, y):\n",
        "      X_train = X[train]\n",
        "      X_test = X[test]\n",
        "      y_train = y[train]\n",
        "      y_test = y[test]\n",
        "    \n",
        "  #classificação para diferentes valores de K\n",
        "  for K in range(10):\n",
        "    K = K + 1\n",
        "    knn = KNeighborsClassifier(n_neighbors=K, metric='euclidean')\n",
        "    knn.fit(X_train, y_train)\n",
        "    y_pred = knn.predict(X_test)\n",
        "    acc = str(accuracy_score(y_test, y_pred))\n",
        "    print(\"K = \", K, \"| Acurácia: \", acc) "
      ],
      "execution_count": null,
      "outputs": [
        {
          "output_type": "stream",
          "text": [
            "Seed =  4654\n",
            "K =  1 | Acurácia:  0.6394557823129252\n",
            "K =  2 | Acurácia:  0.6285714285714286\n",
            "K =  3 | Acurácia:  0.6435374149659864\n",
            "K =  4 | Acurácia:  0.6251700680272109\n",
            "K =  5 | Acurácia:  0.645578231292517\n",
            "K =  6 | Acurácia:  0.6319727891156462\n",
            "K =  7 | Acurácia:  0.6340136054421769\n",
            "K =  8 | Acurácia:  0.6340136054421769\n",
            "K =  9 | Acurácia:  0.6394557823129252\n",
            "K =  10 | Acurácia:  0.6306122448979592\n",
            "Seed =  3194\n",
            "K =  1 | Acurácia:  0.6285714285714286\n",
            "K =  2 | Acurácia:  0.6251700680272109\n",
            "K =  3 | Acurácia:  0.64421768707483\n",
            "K =  4 | Acurácia:  0.636734693877551\n",
            "K =  5 | Acurácia:  0.6448979591836734\n",
            "K =  6 | Acurácia:  0.6238095238095238\n",
            "K =  7 | Acurácia:  0.636734693877551\n",
            "K =  8 | Acurácia:  0.6299319727891156\n",
            "K =  9 | Acurácia:  0.6312925170068027\n",
            "K =  10 | Acurácia:  0.6190476190476191\n",
            "Seed =  3384\n",
            "K =  1 | Acurácia:  0.6074829931972789\n",
            "K =  2 | Acurácia:  0.6040816326530613\n",
            "K =  3 | Acurácia:  0.6265306122448979\n",
            "K =  4 | Acurácia:  0.6210884353741497\n",
            "K =  5 | Acurácia:  0.6340136054421769\n",
            "K =  6 | Acurácia:  0.6231292517006802\n",
            "K =  7 | Acurácia:  0.6299319727891156\n",
            "K =  8 | Acurácia:  0.6170068027210884\n",
            "K =  9 | Acurácia:  0.6244897959183674\n",
            "K =  10 | Acurácia:  0.6204081632653061\n",
            "Seed =  3115\n",
            "K =  1 | Acurácia:  0.6251700680272109\n",
            "K =  2 | Acurácia:  0.5816326530612245\n",
            "K =  3 | Acurácia:  0.6292517006802721\n",
            "K =  4 | Acurácia:  0.5993197278911565\n",
            "K =  5 | Acurácia:  0.6190476190476191\n",
            "K =  6 | Acurácia:  0.6170068027210884\n",
            "K =  7 | Acurácia:  0.6265306122448979\n",
            "K =  8 | Acurácia:  0.6047619047619047\n",
            "K =  9 | Acurácia:  0.6244897959183674\n",
            "K =  10 | Acurácia:  0.6244897959183674\n",
            "Seed =  4004\n",
            "K =  1 | Acurácia:  0.6421768707482993\n",
            "K =  2 | Acurácia:  0.6108843537414966\n",
            "K =  3 | Acurácia:  0.6428571428571429\n",
            "K =  4 | Acurácia:  0.6204081632653061\n",
            "K =  5 | Acurácia:  0.645578231292517\n",
            "K =  6 | Acurácia:  0.6265306122448979\n",
            "K =  7 | Acurácia:  0.6374149659863946\n",
            "K =  8 | Acurácia:  0.6210884353741497\n",
            "K =  9 | Acurácia:  0.6306122448979592\n",
            "K =  10 | Acurácia:  0.6258503401360545\n",
            "Seed =  3745\n",
            "K =  1 | Acurácia:  0.6156462585034014\n",
            "K =  2 | Acurácia:  0.6217687074829932\n",
            "K =  3 | Acurácia:  0.6319727891156462\n",
            "K =  4 | Acurácia:  0.6204081632653061\n",
            "K =  5 | Acurácia:  0.6421768707482993\n",
            "K =  6 | Acurácia:  0.638095238095238\n",
            "K =  7 | Acurácia:  0.6326530612244898\n",
            "K =  8 | Acurácia:  0.6340136054421769\n",
            "K =  9 | Acurácia:  0.6326530612244898\n",
            "K =  10 | Acurácia:  0.6421768707482993\n",
            "Seed =  3148\n",
            "K =  1 | Acurácia:  0.6\n",
            "K =  2 | Acurácia:  0.5931972789115646\n",
            "K =  3 | Acurácia:  0.6285714285714286\n",
            "K =  4 | Acurácia:  0.6217687074829932\n",
            "K =  5 | Acurácia:  0.6197278911564625\n",
            "K =  6 | Acurácia:  0.6299319727891156\n",
            "K =  7 | Acurácia:  0.6272108843537415\n",
            "K =  8 | Acurácia:  0.6299319727891156\n",
            "K =  9 | Acurácia:  0.6306122448979592\n",
            "K =  10 | Acurácia:  0.6217687074829932\n",
            "Seed =  4313\n",
            "K =  1 | Acurácia:  0.6421768707482993\n",
            "K =  2 | Acurácia:  0.6061224489795919\n",
            "K =  3 | Acurácia:  0.6319727891156462\n",
            "K =  4 | Acurácia:  0.6149659863945578\n",
            "K =  5 | Acurácia:  0.6435374149659864\n",
            "K =  6 | Acurácia:  0.6251700680272109\n",
            "K =  7 | Acurácia:  0.6374149659863946\n",
            "K =  8 | Acurácia:  0.6265306122448979\n",
            "K =  9 | Acurácia:  0.6319727891156462\n",
            "K =  10 | Acurácia:  0.6278911564625851\n",
            "Seed =  1955\n",
            "K =  1 | Acurácia:  0.6210884353741497\n",
            "K =  2 | Acurácia:  0.591156462585034\n",
            "K =  3 | Acurácia:  0.617687074829932\n",
            "K =  4 | Acurácia:  0.6095238095238096\n",
            "K =  5 | Acurácia:  0.6163265306122448\n",
            "K =  6 | Acurácia:  0.6115646258503401\n",
            "K =  7 | Acurácia:  0.6170068027210884\n",
            "K =  8 | Acurácia:  0.6115646258503401\n",
            "K =  9 | Acurácia:  0.6156462585034014\n",
            "K =  10 | Acurácia:  0.6040816326530613\n",
            "Seed =  2991\n",
            "K =  1 | Acurácia:  0.6115646258503401\n",
            "K =  2 | Acurácia:  0.6190476190476191\n",
            "K =  3 | Acurácia:  0.6238095238095238\n",
            "K =  4 | Acurácia:  0.608843537414966\n",
            "K =  5 | Acurácia:  0.6312925170068027\n",
            "K =  6 | Acurácia:  0.6333333333333333\n",
            "K =  7 | Acurácia:  0.6340136054421769\n",
            "K =  8 | Acurácia:  0.6238095238095238\n",
            "K =  9 | Acurácia:  0.6258503401360545\n",
            "K =  10 | Acurácia:  0.6122448979591837\n"
          ],
          "name": "stdout"
        }
      ]
    },
    {
      "cell_type": "markdown",
      "metadata": {
        "id": "ryenJUL28hrH"
      },
      "source": [
        "Para os resultados acima, K = 7 obteve melhor média de acurácia = 0,709159716\n"
      ]
    },
    {
      "cell_type": "code",
      "metadata": {
        "colab": {
          "base_uri": "https://localhost:8080/"
        },
        "id": "0COnjerP8NwT",
        "outputId": "0fa26a3e-d210-4a36-cd89-29d399234045"
      },
      "source": [
        "# Analisando os resultados com pesos >> weights='uniform'\n",
        "X = BaseOriginal.iloc[:,:-1].values\n",
        "y = BaseOriginal.iloc[:,-1].values\n",
        "\n",
        "rkf = RepeatedKFold(n_splits=10, n_repeats=10, random_state=1)\n",
        "for train, test in rkf.split(X, y):\n",
        "    X_train = X[train]\n",
        "    X_test = X[test]\n",
        "    y_train = y[train]\n",
        "    y_test = y[test]\n",
        "\n",
        "knn = KNeighborsClassifier(n_neighbors=7, weights='uniform', metric='euclidean')\n",
        "knn.fit(X_train, y_train)\n",
        "y_pred = knn.predict(X_test)\n",
        "\n",
        "acc = str(accuracy_score(y_test, y_pred))\n",
        "print(\"Acurácia: \", acc) "
      ],
      "execution_count": null,
      "outputs": [
        {
          "output_type": "stream",
          "text": [
            "Acurácia:  0.7120018535681186\n"
          ],
          "name": "stdout"
        }
      ]
    },
    {
      "cell_type": "code",
      "metadata": {
        "colab": {
          "base_uri": "https://localhost:8080/"
        },
        "id": "toMjgKc49NhS",
        "outputId": "d660e5ac-4c8b-407c-df7a-58b9e99a839a"
      },
      "source": [
        "# Analisando os resultados com pesos >> weights='distance'\n",
        "X = BaseOriginal.iloc[:,:-1].values\n",
        "y = BaseOriginal.iloc[:,-1].values\n",
        "\n",
        "rkf = RepeatedKFold(n_splits=10, n_repeats=10, random_state=1)\n",
        "for train, test in rkf.split(X, y):\n",
        "    X_train = X[train]\n",
        "    X_test = X[test]\n",
        "    y_train = y[train]\n",
        "    y_test = y[test]\n",
        "\n",
        "knn = KNeighborsClassifier(n_neighbors=7, weights='distance', metric='euclidean')\n",
        "knn.fit(X_train, y_train)\n",
        "y_pred = knn.predict(X_test)\n",
        "\n",
        "acc = str(accuracy_score(y_test, y_pred))\n",
        "print(\"Acurácia: \", acc) "
      ],
      "execution_count": null,
      "outputs": [
        {
          "output_type": "stream",
          "text": [
            "Acurácia:  0.7136237256719185\n"
          ],
          "name": "stdout"
        }
      ]
    },
    {
      "cell_type": "markdown",
      "metadata": {
        "id": "42S4_U8hAb0p"
      },
      "source": [
        "####Base Reduzida 1"
      ]
    },
    {
      "cell_type": "code",
      "metadata": {
        "colab": {
          "base_uri": "https://localhost:8080/"
        },
        "id": "yfAxWJ1rAecg",
        "outputId": "9b29a9cf-cb3d-4c91-c61c-625bd2290b2b"
      },
      "source": [
        "X_br1 = BaseReduzida1.iloc[:,:-1].values\n",
        "y_br1 = BaseReduzida1.iloc[:,-1].values\n",
        "\n",
        "for i in range(10):\n",
        "  seed = random.randint(900,5000)\n",
        "  print(\"Seed = \", seed) \n",
        "  rkf = RepeatedKFold(n_splits=10, n_repeats=10, random_state=seed)\n",
        "  for train, test in rkf.split(X_br1, y_br1):\n",
        "      X_train_br1 = X_br1[train]\n",
        "      X_test_br1 = X_br1[test]\n",
        "      y_train_br1 = y_br1[train]\n",
        "      y_test_br1 = y_br1[test]\n",
        "    \n",
        "  #classificação para diferentes valores de K\n",
        "  for K in range(10):\n",
        "    K = K + 1\n",
        "    knn = KNeighborsClassifier(n_neighbors=K, metric='euclidean')\n",
        "    knn.fit(X_train_br1, y_train_br1)\n",
        "    y_pred_br1 = knn.predict(X_test_br1)\n",
        "    acc_br1 = str(accuracy_score(y_test_br1, y_pred_br1))\n",
        "    print(\"K = \", K, \"| Acurácia: \", acc_br1) "
      ],
      "execution_count": null,
      "outputs": [
        {
          "output_type": "stream",
          "text": [
            "Seed =  0\n",
            "K =  1 | Acurácia:  0.6272108843537415\n",
            "K =  2 | Acurácia:  0.6020408163265306\n",
            "K =  3 | Acurácia:  0.6306122448979592\n",
            "K =  4 | Acurácia:  0.6136054421768707\n",
            "K =  5 | Acurácia:  0.6360544217687075\n",
            "K =  6 | Acurácia:  0.6251700680272109\n",
            "K =  7 | Acurácia:  0.6462585034013606\n",
            "K =  8 | Acurácia:  0.6292517006802721\n",
            "K =  9 | Acurácia:  0.6333333333333333\n",
            "K =  10 | Acurácia:  0.6142857142857143\n",
            "Seed =  1\n",
            "K =  1 | Acurácia:  0.6374149659863946\n",
            "K =  2 | Acurácia:  0.6068027210884354\n",
            "K =  3 | Acurácia:  0.6292517006802721\n",
            "K =  4 | Acurácia:  0.6231292517006802\n",
            "K =  5 | Acurácia:  0.6238095238095238\n",
            "K =  6 | Acurácia:  0.6204081632653061\n",
            "K =  7 | Acurácia:  0.6285714285714286\n",
            "K =  8 | Acurácia:  0.6115646258503401\n",
            "K =  9 | Acurácia:  0.6265306122448979\n",
            "K =  10 | Acurácia:  0.6163265306122448\n",
            "Seed =  2\n",
            "K =  1 | Acurácia:  0.6122448979591837\n",
            "K =  2 | Acurácia:  0.5755102040816327\n",
            "K =  3 | Acurácia:  0.6238095238095238\n",
            "K =  4 | Acurácia:  0.6047619047619047\n",
            "K =  5 | Acurácia:  0.6238095238095238\n",
            "K =  6 | Acurácia:  0.6170068027210884\n",
            "K =  7 | Acurácia:  0.6333333333333333\n",
            "K =  8 | Acurácia:  0.6217687074829932\n",
            "K =  9 | Acurácia:  0.6238095238095238\n",
            "K =  10 | Acurácia:  0.6319727891156462\n",
            "Seed =  3\n",
            "K =  1 | Acurácia:  0.6312925170068027\n",
            "K =  2 | Acurácia:  0.6319727891156462\n",
            "K =  3 | Acurácia:  0.6258503401360545\n",
            "K =  4 | Acurácia:  0.6285714285714286\n",
            "K =  5 | Acurácia:  0.6251700680272109\n",
            "K =  6 | Acurácia:  0.6448979591836734\n",
            "K =  7 | Acurácia:  0.6231292517006802\n",
            "K =  8 | Acurácia:  0.6292517006802721\n",
            "K =  9 | Acurácia:  0.6183673469387755\n",
            "K =  10 | Acurácia:  0.6285714285714286\n",
            "Seed =  4\n",
            "K =  1 | Acurácia:  0.6183673469387755\n",
            "K =  2 | Acurácia:  0.5945578231292517\n",
            "K =  3 | Acurácia:  0.6170068027210884\n",
            "K =  4 | Acurácia:  0.6197278911564625\n",
            "K =  5 | Acurácia:  0.6156462585034014\n",
            "K =  6 | Acurácia:  0.6251700680272109\n",
            "K =  7 | Acurácia:  0.6204081632653061\n",
            "K =  8 | Acurácia:  0.617687074829932\n",
            "K =  9 | Acurácia:  0.6183673469387755\n",
            "K =  10 | Acurácia:  0.610204081632653\n",
            "Seed =  5\n",
            "K =  1 | Acurácia:  0.6387755102040816\n",
            "K =  2 | Acurácia:  0.6156462585034014\n",
            "K =  3 | Acurácia:  0.6278911564625851\n",
            "K =  4 | Acurácia:  0.6129251700680272\n",
            "K =  5 | Acurácia:  0.636734693877551\n",
            "K =  6 | Acurácia:  0.6299319727891156\n",
            "K =  7 | Acurácia:  0.6299319727891156\n",
            "K =  8 | Acurácia:  0.6197278911564625\n",
            "K =  9 | Acurácia:  0.636734693877551\n",
            "K =  10 | Acurácia:  0.6299319727891156\n",
            "Seed =  6\n",
            "K =  1 | Acurácia:  0.6319727891156462\n",
            "K =  2 | Acurácia:  0.610204081632653\n",
            "K =  3 | Acurácia:  0.654421768707483\n",
            "K =  4 | Acurácia:  0.6387755102040816\n",
            "K =  5 | Acurácia:  0.6673469387755102\n",
            "K =  6 | Acurácia:  0.6523809523809524\n",
            "K =  7 | Acurácia:  0.6619047619047619\n",
            "K =  8 | Acurácia:  0.6503401360544218\n",
            "K =  9 | Acurácia:  0.6517006802721088\n",
            "K =  10 | Acurácia:  0.6353741496598639\n",
            "Seed =  7\n",
            "K =  1 | Acurácia:  0.6489795918367347\n",
            "K =  2 | Acurácia:  0.6258503401360545\n",
            "K =  3 | Acurácia:  0.6387755102040816\n",
            "K =  4 | Acurácia:  0.6299319727891156\n",
            "K =  5 | Acurácia:  0.636734693877551\n",
            "K =  6 | Acurácia:  0.6278911564625851\n",
            "K =  7 | Acurácia:  0.6231292517006802\n",
            "K =  8 | Acurácia:  0.6306122448979592\n",
            "K =  9 | Acurácia:  0.6231292517006802\n",
            "K =  10 | Acurácia:  0.6265306122448979\n",
            "Seed =  8\n",
            "K =  1 | Acurácia:  0.6401360544217687\n",
            "K =  2 | Acurácia:  0.6020408163265306\n",
            "K =  3 | Acurácia:  0.6278911564625851\n",
            "K =  4 | Acurácia:  0.608843537414966\n",
            "K =  5 | Acurácia:  0.6285714285714286\n",
            "K =  6 | Acurácia:  0.617687074829932\n",
            "K =  7 | Acurácia:  0.636734693877551\n",
            "K =  8 | Acurácia:  0.6258503401360545\n",
            "K =  9 | Acurácia:  0.6258503401360545\n",
            "K =  10 | Acurácia:  0.6136054421768707\n",
            "Seed =  9\n",
            "K =  1 | Acurácia:  0.6258503401360545\n",
            "K =  2 | Acurácia:  0.6074829931972789\n",
            "K =  3 | Acurácia:  0.6346938775510204\n",
            "K =  4 | Acurácia:  0.6353741496598639\n",
            "K =  5 | Acurácia:  0.6210884353741497\n",
            "K =  6 | Acurácia:  0.6238095238095238\n",
            "K =  7 | Acurácia:  0.6265306122448979\n",
            "K =  8 | Acurácia:  0.6197278911564625\n",
            "K =  9 | Acurácia:  0.6333333333333333\n",
            "K =  10 | Acurácia:  0.6210884353741497\n"
          ],
          "name": "stdout"
        }
      ]
    },
    {
      "cell_type": "markdown",
      "metadata": {
        "id": "SQd-bEqHT1JT"
      },
      "source": [
        "Para os resultados acima, K = 7 obteve melhor média de acurácia = 0,632993197"
      ]
    },
    {
      "cell_type": "code",
      "metadata": {
        "colab": {
          "base_uri": "https://localhost:8080/"
        },
        "id": "8KNm0-KS-nsx",
        "outputId": "e11dcd7b-59f1-445a-91d5-4c7c0e8c957c"
      },
      "source": [
        "# Analisando os resultados com pesos >> weights='uniform'\n",
        "X_br1 = BaseReduzida1.iloc[:,:-1].values\n",
        "y_br1 = BaseReduzida1.iloc[:,-1].values\n",
        "\n",
        "rkf = RepeatedKFold(n_splits=10, n_repeats=10, random_state=7)\n",
        "for train, test in rkf.split(X_br1, y_br1):\n",
        "    X_train = X_br1[train]\n",
        "    X_test = X_br1[test]\n",
        "    y_train = y_br1[train]\n",
        "    y_test = y_br1[test]\n",
        "\n",
        "knn = KNeighborsClassifier(n_neighbors=7, weights='uniform', metric='euclidean')\n",
        "knn.fit(X_train, y_train)\n",
        "y_pred = knn.predict(X_test)\n",
        "\n",
        "acc = str(accuracy_score(y_test, y_pred))\n",
        "print(\"Acurácia: \", acc) "
      ],
      "execution_count": null,
      "outputs": [
        {
          "output_type": "stream",
          "text": [
            "Acurácia:  0.6231292517006802\n"
          ],
          "name": "stdout"
        }
      ]
    },
    {
      "cell_type": "code",
      "metadata": {
        "colab": {
          "base_uri": "https://localhost:8080/"
        },
        "id": "YShaYcJN-7Mm",
        "outputId": "4c4a2e3e-1c7d-454b-9ac0-cbbf21a8c7b8"
      },
      "source": [
        "# Analisando os resultados com pesos >> weights='distance'\n",
        "X_br1 = BaseReduzida1.iloc[:,:-1].values\n",
        "y_br1 = BaseReduzida1.iloc[:,-1].values\n",
        "\n",
        "rkf = RepeatedKFold(n_splits=10, n_repeats=10, random_state=7)\n",
        "for train, test in rkf.split(X_br1, y_br1):\n",
        "    X_train = X_br1[train]\n",
        "    X_test = X_br1[test]\n",
        "    y_train = y_br1[train]\n",
        "    y_test = y_br1[test]\n",
        "\n",
        "knn = KNeighborsClassifier(n_neighbors=7, weights='distance', metric='euclidean')\n",
        "knn.fit(X_train, y_train)\n",
        "y_pred = knn.predict(X_test)\n",
        "\n",
        "acc = str(accuracy_score(y_test, y_pred))\n",
        "print(\"Acurácia: \", acc) "
      ],
      "execution_count": null,
      "outputs": [
        {
          "output_type": "stream",
          "text": [
            "Acurácia:  0.6285714285714286\n"
          ],
          "name": "stdout"
        }
      ]
    },
    {
      "cell_type": "markdown",
      "metadata": {
        "id": "l5lFPJY3UIRs"
      },
      "source": [
        "####Base Reduzida 2"
      ]
    },
    {
      "cell_type": "code",
      "metadata": {
        "colab": {
          "base_uri": "https://localhost:8080/"
        },
        "id": "IeK4jmsSUISL",
        "outputId": "4ef6a760-e6b3-43b7-bdcf-c9dcb6f123b1"
      },
      "source": [
        "X_br2 = BaseReduzida2.iloc[:,:-1].values\n",
        "y_br2 = BaseReduzida2.iloc[:,-1].values\n",
        "\n",
        "for i in range(10):\n",
        "  seed = random.randint(900,5000)\n",
        "  print(\"Seed = \", seed) \n",
        "  rkf = RepeatedKFold(n_splits=10, n_repeats=10, random_state=seed)\n",
        "  for train, test in rkf.split(X_br2, y_br2):\n",
        "      X_train_br2 = X_br2[train]\n",
        "      X_test_br2 = X_br2[test]\n",
        "      y_train_br2 = y_br2[train]\n",
        "      y_test_br2 = y_br2[test]\n",
        "    \n",
        "  #classificação para diferentes valores de K\n",
        "  for K in range(10):\n",
        "    K = K + 1\n",
        "    knn = KNeighborsClassifier(n_neighbors=K, metric='euclidean')\n",
        "    knn.fit(X_train_br2, y_train_br2)\n",
        "    y_pred_br2 = knn.predict(X_test_br2)\n",
        "    acc_br2 = str(accuracy_score(y_test_br2, y_pred_br2))\n",
        "    print(\"K = \", K, \"| Acurácia: \", acc_br2) "
      ],
      "execution_count": null,
      "outputs": [
        {
          "output_type": "stream",
          "text": [
            "Seed =  0\n",
            "K =  1 | Acurácia:  0.7693080012357121\n",
            "K =  2 | Acurácia:  0.7705437133147977\n",
            "K =  3 | Acurácia:  0.8056070435588508\n",
            "K =  4 | Acurácia:  0.8149521161569354\n",
            "K =  5 | Acurácia:  0.8192771084337349\n",
            "K =  6 | Acurácia:  0.8192771084337349\n",
            "K =  7 | Acurácia:  0.8256101328390485\n",
            "K =  8 | Acurácia:  0.822829780661106\n",
            "K =  9 | Acurácia:  0.8448409020698178\n",
            "K =  10 | Acurácia:  0.8470033982082175\n",
            "Seed =  1\n",
            "K =  1 | Acurácia:  0.7747914735866543\n",
            "K =  2 | Acurácia:  0.7531665122026567\n",
            "K =  3 | Acurácia:  0.7813561940067965\n",
            "K =  4 | Acurácia:  0.7857584182885388\n",
            "K =  5 | Acurácia:  0.8066110596231079\n",
            "K =  6 | Acurácia:  0.7961847389558233\n",
            "K =  7 | Acurácia:  0.8106271238801359\n",
            "K =  8 | Acurácia:  0.8009731232622799\n",
            "K =  9 | Acurácia:  0.8105498918751931\n",
            "K =  10 | Acurácia:  0.8123262279888785\n",
            "Seed =  2\n",
            "K =  1 | Acurácia:  0.816651220265678\n",
            "K =  2 | Acurácia:  0.7839048501699104\n",
            "K =  3 | Acurácia:  0.8265369168983627\n",
            "K =  4 | Acurácia:  0.8443002780352178\n",
            "K =  5 | Acurácia:  0.8404386777880754\n",
            "K =  6 | Acurácia:  0.8449953660797034\n",
            "K =  7 | Acurácia:  0.8510966944701884\n",
            "K =  8 | Acurácia:  0.8500926784059314\n",
            "K =  9 | Acurácia:  0.8504016064257028\n",
            "K =  10 | Acurácia:  0.8500154464009886\n",
            "Seed =  3\n",
            "K =  1 | Acurácia:  0.7987333951189373\n",
            "K =  2 | Acurácia:  0.7791164658634538\n",
            "K =  3 | Acurácia:  0.8413654618473896\n",
            "K =  4 | Acurácia:  0.8331016373185048\n",
            "K =  5 | Acurácia:  0.8549582947173309\n",
            "K =  6 | Acurácia:  0.8539542786530738\n",
            "K =  7 | Acurácia:  0.8552672227371022\n",
            "K =  8 | Acurácia:  0.8479301822675317\n",
            "K =  9 | Acurácia:  0.8556533827618165\n",
            "K =  10 | Acurácia:  0.8548038307074451\n",
            "Seed =  4\n",
            "K =  1 | Acurácia:  0.8133302440531356\n",
            "K =  2 | Acurácia:  0.8256101328390485\n",
            "K =  3 | Acurácia:  0.8526413345690455\n",
            "K =  4 | Acurácia:  0.8556533827618165\n",
            "K =  5 | Acurácia:  0.8572752548656163\n",
            "K =  6 | Acurácia:  0.8599011430336732\n",
            "K =  7 | Acurácia:  0.8553444547420451\n",
            "K =  8 | Acurácia:  0.8592832869941304\n",
            "K =  9 | Acurácia:  0.8598239110287303\n",
            "K =  10 | Acurácia:  0.8613685511275873\n",
            "Seed =  5\n",
            "K =  1 | Acurácia:  0.8003552672227371\n",
            "K =  2 | Acurácia:  0.8093914118010503\n",
            "K =  3 | Acurácia:  0.8173463083101637\n",
            "K =  4 | Acurácia:  0.8290083410565339\n",
            "K =  5 | Acurácia:  0.8290083410565339\n",
            "K =  6 | Acurácia:  0.8302440531356194\n",
            "K =  7 | Acurácia:  0.8322520852641334\n",
            "K =  8 | Acurácia:  0.8331016373185048\n",
            "K =  9 | Acurácia:  0.8347235094223046\n",
            "K =  10 | Acurácia:  0.8373493975903614\n",
            "Seed =  6\n",
            "K =  1 | Acurácia:  0.8162650602409639\n",
            "K =  2 | Acurácia:  0.7875347544022243\n",
            "K =  3 | Acurácia:  0.8348779734321903\n",
            "K =  4 | Acurácia:  0.8406703738029039\n",
            "K =  5 | Acurácia:  0.8582020389249305\n",
            "K =  6 | Acurácia:  0.8553444547420451\n",
            "K =  7 | Acurácia:  0.8609051590979302\n",
            "K =  8 | Acurácia:  0.8479301822675317\n",
            "K =  9 | Acurácia:  0.8626042632066728\n",
            "K =  10 | Acurácia:  0.8610596231078159\n",
            "Seed =  7\n",
            "K =  1 | Acurácia:  0.7982700030892802\n",
            "K =  2 | Acurácia:  0.7882298424467099\n",
            "K =  3 | Acurácia:  0.822829780661106\n",
            "K =  4 | Acurácia:  0.8199721964782206\n",
            "K =  5 | Acurácia:  0.8253012048192772\n",
            "K =  6 | Acurácia:  0.8315569972196478\n",
            "K =  7 | Acurácia:  0.8352641334569045\n",
            "K =  8 | Acurácia:  0.838585109669447\n",
            "K =  9 | Acurácia:  0.8363453815261044\n",
            "K =  10 | Acurácia:  0.8416743898671609\n",
            "Seed =  8\n",
            "K =  1 | Acurácia:  0.8033673154155082\n",
            "K =  2 | Acurácia:  0.8146431881371641\n",
            "K =  3 | Acurácia:  0.8450725980846463\n",
            "K =  4 | Acurácia:  0.8378900216249614\n",
            "K =  5 | Acurácia:  0.8489341983317887\n",
            "K =  6 | Acurácia:  0.8496292863762743\n",
            "K =  7 | Acurácia:  0.8507877664504171\n",
            "K =  8 | Acurácia:  0.8488569663268458\n",
            "K =  9 | Acurácia:  0.8585109669447019\n",
            "K =  10 | Acurácia:  0.8395118937287612\n",
            "Seed =  9\n",
            "K =  1 | Acurácia:  0.8043713314797653\n",
            "K =  2 | Acurácia:  0.7781124497991968\n",
            "K =  3 | Acurácia:  0.8336422613531047\n",
            "K =  4 | Acurácia:  0.8278498609823911\n",
            "K =  5 | Acurácia:  0.8443002780352178\n",
            "K =  6 | Acurácia:  0.8394346617238183\n",
            "K =  7 | Acurácia:  0.8429101019462465\n",
            "K =  8 | Acurácia:  0.8377355576150757\n",
            "K =  9 | Acurácia:  0.8434507259808465\n",
            "K =  10 | Acurácia:  0.8524868705591597\n"
          ],
          "name": "stdout"
        }
      ]
    },
    {
      "cell_type": "markdown",
      "metadata": {
        "id": "Oh6Xxk_gUISQ"
      },
      "source": [
        "Para os resultados acima, K = 10 obteve melhor média de acurácia = 0,845759963"
      ]
    },
    {
      "cell_type": "markdown",
      "metadata": {
        "id": "nEXq-XTKj9Al"
      },
      "source": [
        "####Base Reduzida 3"
      ]
    },
    {
      "cell_type": "code",
      "metadata": {
        "colab": {
          "base_uri": "https://localhost:8080/"
        },
        "id": "xuC5JZkkj9An",
        "outputId": "0b374545-3084-49bc-e6d8-26f58c696e98"
      },
      "source": [
        "X_br3 = BaseReduzida3.iloc[:,:-1].values\n",
        "y_br3 = BaseReduzida3.iloc[:,-1].values\n",
        "\n",
        "for i in range(10):\n",
        "  seed = random.randint(900,5000)\n",
        "  print(\"Seed = \", seed) \n",
        "  rkf = RepeatedKFold(n_splits=10, n_repeats=10, random_state=seed)\n",
        "  for train, test in rkf.split(X_br3, y_br3):\n",
        "      X_train_br3 = X_br3[train]\n",
        "      X_test_br3 = X_br3[test]\n",
        "      y_train_br3 = y_br3[train]\n",
        "      y_test_br3 = y_br3[test]\n",
        "    \n",
        "  #classificação para diferentes valores de K\n",
        "  for K in range(10):\n",
        "    K = K + 1\n",
        "    knn = KNeighborsClassifier(n_neighbors=K, metric='euclidean')\n",
        "    knn.fit(X_train_br3, y_train_br3)\n",
        "    y_pred_br3 = knn.predict(X_test_br3)\n",
        "    acc_br3 = str(accuracy_score(y_test_br3, y_pred_br3))\n",
        "    print(\"K = \", K, \"| Acurácia: \", acc_br3) "
      ],
      "execution_count": null,
      "outputs": [
        {
          "output_type": "stream",
          "text": [
            "Seed =  0\n",
            "K =  1 | Acurácia:  0.4931787175989086\n",
            "K =  2 | Acurácia:  0.4747612551159618\n",
            "K =  3 | Acurácia:  0.49590723055934516\n",
            "K =  4 | Acurácia:  0.4870395634379263\n",
            "K =  5 | Acurácia:  0.5\n",
            "K =  6 | Acurácia:  0.5061391541609823\n",
            "K =  7 | Acurácia:  0.514324693042292\n",
            "K =  8 | Acurácia:  0.4931787175989086\n",
            "K =  9 | Acurácia:  0.5156889495225102\n",
            "K =  10 | Acurácia:  0.4863574351978172\n",
            "Seed =  1\n",
            "K =  1 | Acurácia:  0.5177353342428377\n",
            "K =  2 | Acurácia:  0.5109140518417462\n",
            "K =  3 | Acurácia:  0.5204638472032742\n",
            "K =  4 | Acurácia:  0.49590723055934516\n",
            "K =  5 | Acurácia:  0.519781718963165\n",
            "K =  6 | Acurácia:  0.5136425648021828\n",
            "K =  7 | Acurácia:  0.5266030013642565\n",
            "K =  8 | Acurácia:  0.5163710777626194\n",
            "K =  9 | Acurácia:  0.5218281036834925\n",
            "K =  10 | Acurácia:  0.529331514324693\n",
            "Seed =  2\n",
            "K =  1 | Acurácia:  0.5102319236016372\n",
            "K =  2 | Acurácia:  0.4897680763983629\n",
            "K =  3 | Acurácia:  0.5061391541609823\n",
            "K =  4 | Acurácia:  0.4924965893587995\n",
            "K =  5 | Acurácia:  0.5020463847203275\n",
            "K =  6 | Acurácia:  0.4972714870395634\n",
            "K =  7 | Acurácia:  0.5020463847203275\n",
            "K =  8 | Acurácia:  0.49931787175989084\n",
            "K =  9 | Acurácia:  0.504774897680764\n",
            "K =  10 | Acurácia:  0.5088676671214188\n",
            "Seed =  3\n",
            "K =  1 | Acurácia:  0.5075034106412005\n",
            "K =  2 | Acurácia:  0.48090040927694405\n",
            "K =  3 | Acurácia:  0.49863574351978174\n",
            "K =  4 | Acurácia:  0.4924965893587995\n",
            "K =  5 | Acurácia:  0.5184174624829468\n",
            "K =  6 | Acurácia:  0.5122783083219645\n",
            "K =  7 | Acurácia:  0.5156889495225102\n",
            "K =  8 | Acurácia:  0.5115961800818554\n",
            "K =  9 | Acurácia:  0.5075034106412005\n",
            "K =  10 | Acurácia:  0.5020463847203275\n",
            "Seed =  4\n",
            "K =  1 | Acurácia:  0.5306957708049114\n",
            "K =  2 | Acurácia:  0.4972714870395634\n",
            "K =  3 | Acurácia:  0.5225102319236017\n",
            "K =  4 | Acurácia:  0.5075034106412005\n",
            "K =  5 | Acurácia:  0.5334242837653479\n",
            "K =  6 | Acurácia:  0.5204638472032742\n",
            "K =  7 | Acurácia:  0.5218281036834925\n",
            "K =  8 | Acurácia:  0.5109140518417462\n",
            "K =  9 | Acurácia:  0.5279672578444747\n",
            "K =  10 | Acurácia:  0.5272851296043656\n",
            "Seed =  5\n",
            "K =  1 | Acurácia:  0.5122783083219645\n",
            "K =  2 | Acurácia:  0.4918144611186903\n",
            "K =  3 | Acurácia:  0.5225102319236017\n",
            "K =  4 | Acurácia:  0.49863574351978174\n",
            "K =  5 | Acurácia:  0.5238744884038199\n",
            "K =  6 | Acurácia:  0.49931787175989084\n",
            "K =  7 | Acurácia:  0.5211459754433834\n",
            "K =  8 | Acurácia:  0.504774897680764\n",
            "K =  9 | Acurácia:  0.5313778990450204\n",
            "K =  10 | Acurácia:  0.5156889495225102\n",
            "Seed =  6\n",
            "K =  1 | Acurácia:  0.5075034106412005\n",
            "K =  2 | Acurácia:  0.5027285129604365\n",
            "K =  3 | Acurácia:  0.5027285129604365\n",
            "K =  4 | Acurácia:  0.47544338335607095\n",
            "K =  5 | Acurácia:  0.49386084583901774\n",
            "K =  6 | Acurácia:  0.4870395634379263\n",
            "K =  7 | Acurácia:  0.47271487039563437\n",
            "K =  8 | Acurácia:  0.4863574351978172\n",
            "K =  9 | Acurácia:  0.4965893587994543\n",
            "K =  10 | Acurácia:  0.49045020463847205\n",
            "Seed =  7\n",
            "K =  1 | Acurácia:  0.4972714870395634\n",
            "K =  2 | Acurácia:  0.47885402455661663\n",
            "K =  3 | Acurácia:  0.48226466575716237\n",
            "K =  4 | Acurácia:  0.4897680763983629\n",
            "K =  5 | Acurácia:  0.4870395634379263\n",
            "K =  6 | Acurácia:  0.495225102319236\n",
            "K =  7 | Acurácia:  0.5190995907230559\n",
            "K =  8 | Acurácia:  0.5122783083219645\n",
            "K =  9 | Acurácia:  0.504774897680764\n",
            "K =  10 | Acurácia:  0.4918144611186903\n",
            "Seed =  8\n",
            "K =  1 | Acurácia:  0.4768076398362892\n",
            "K =  2 | Acurácia:  0.49045020463847205\n",
            "K =  3 | Acurácia:  0.4972714870395634\n",
            "K =  4 | Acurácia:  0.4877216916780355\n",
            "K =  5 | Acurácia:  0.5122783083219645\n",
            "K =  6 | Acurácia:  0.5109140518417462\n",
            "K =  7 | Acurácia:  0.5272851296043656\n",
            "K =  8 | Acurácia:  0.5211459754433834\n",
            "K =  9 | Acurácia:  0.5211459754433834\n",
            "K =  10 | Acurácia:  0.5156889495225102\n",
            "Seed =  9\n",
            "K =  1 | Acurácia:  0.4877216916780355\n",
            "K =  2 | Acurácia:  0.47885402455661663\n",
            "K =  3 | Acurácia:  0.48021828103683495\n",
            "K =  4 | Acurácia:  0.47748976807639837\n",
            "K =  5 | Acurácia:  0.48908594815825374\n",
            "K =  6 | Acurácia:  0.4843110504774898\n",
            "K =  7 | Acurácia:  0.5006821282401092\n",
            "K =  8 | Acurácia:  0.49590723055934516\n",
            "K =  9 | Acurácia:  0.5218281036834925\n",
            "K =  10 | Acurácia:  0.4945429740791269\n"
          ],
          "name": "stdout"
        }
      ]
    },
    {
      "cell_type": "markdown",
      "metadata": {
        "id": "dYIDiS7Dj9At"
      },
      "source": [
        "Para os resultados acima, K = 9 obteve melhor média de acurácia = 0,515347885"
      ]
    },
    {
      "cell_type": "markdown",
      "metadata": {
        "id": "i8M67fRdousZ"
      },
      "source": [
        "### Cenário 2: com escalonamento dos valores (normalização)"
      ]
    },
    {
      "cell_type": "markdown",
      "metadata": {
        "id": "UiGJoAWuousn"
      },
      "source": [
        "#### Base Original"
      ]
    },
    {
      "cell_type": "code",
      "metadata": {
        "id": "t7ZZKBPTousp"
      },
      "source": [
        "X = BaseOriginal.iloc[:,:-1].values\n",
        "y = BaseOriginal.iloc[:,-1].values"
      ],
      "execution_count": null,
      "outputs": []
    },
    {
      "cell_type": "code",
      "metadata": {
        "id": "cioCbTaco3cg"
      },
      "source": [
        "minmax = MinMaxScaler()\n",
        "X = minmax.fit_transform(X)"
      ],
      "execution_count": null,
      "outputs": []
    },
    {
      "cell_type": "code",
      "metadata": {
        "id": "RJPMAN3Qousr"
      },
      "source": [
        "for i in range(10):\n",
        "  seed = random.randint(900,5000)\n",
        "  print(\"Seed = \", seed) \n",
        "  rkf = RepeatedKFold(n_splits=10, n_repeats=10, random_state=seed)\n",
        "  for train, test in rkf.split(X, y):\n",
        "      X_train = X[train]\n",
        "      X_test = X[test]\n",
        "      y_train = y[train]\n",
        "      y_test = y[test]\n",
        "    \n",
        "  #classificação para diferentes valores de K\n",
        "  for K in range(10):\n",
        "    K = K + 1\n",
        "    knn = KNeighborsClassifier(n_neighbors=K, metric='euclidean')\n",
        "    knn.fit(X_train, y_train)\n",
        "    y_pred = knn.predict(X_test)\n",
        "    acc = str(accuracy_score(y_test, y_pred))\n",
        "    print(\"K = \", K, \"| Acurácia: \", acc) "
      ],
      "execution_count": null,
      "outputs": []
    },
    {
      "cell_type": "code",
      "metadata": {
        "colab": {
          "base_uri": "https://localhost:8080/"
        },
        "id": "wsPqE2m94T0-",
        "outputId": "b643dd5b-787c-4fc0-b1dc-b7d9ead66e0f"
      },
      "source": [
        "#Calculando o DP\n",
        "for i in range(1,31):\n",
        "  seed = random.randint(900,5000)\n",
        "  rkf = RepeatedKFold(n_splits=3, n_repeats=10, random_state=seed)\n",
        "  for train, test in rkf.split(X, y):\n",
        "      X_train = X[train]\n",
        "      X_test = X[test]\n",
        "      y_train = y[train]\n",
        "      y_test = y[test]\n",
        "    \n",
        "  #classificação para K = 7\n",
        "  knn = KNeighborsClassifier(n_neighbors=7, metric='euclidean')\n",
        "  knn.fit(X_train, y_train)\n",
        "  y_pred = knn.predict(X_test)\n",
        "  acc = str(accuracy_score(y_test, y_pred))\n",
        "  print(acc)"
      ],
      "execution_count": null,
      "outputs": [
        {
          "output_type": "stream",
          "text": [
            "0.9249339696955655\n",
            "0.927204485426996\n",
            "0.9261850702006394\n",
            "0.9255595199481025\n",
            "0.9274361707057134\n",
            "0.9266484407580742\n",
            "0.9270654742597655\n",
            "0.9273434965942264\n",
            "0.9268337889810482\n",
            "0.9273203280663547\n",
            "0.9281543950697373\n",
            "0.9263935869514851\n",
            "0.9256753625874612\n",
            "0.9266252722302025\n",
            "0.9266252722302025\n",
            "0.9276678559844308\n",
            "0.9274593392335851\n",
            "0.9273434965942264\n",
            "0.9279690468467634\n",
            "0.9267411148695612\n",
            "0.927111811315509\n",
            "0.9252351605578981\n",
            "0.9259765534497938\n",
            "0.9257216996432047\n",
            "0.926578935174459\n",
            "0.9264399240072286\n",
            "0.9272739910106111\n",
            "0.9270654742597655\n",
            "0.9278763727352765\n",
            "0.9268337889810482\n"
          ],
          "name": "stdout"
        }
      ]
    },
    {
      "cell_type": "markdown",
      "metadata": {
        "id": "4EsWTs40ousu"
      },
      "source": [
        "Para os resultados acima, K = 9 obteve melhor média de acurácia = 0,928830707\n"
      ]
    },
    {
      "cell_type": "markdown",
      "metadata": {
        "id": "NITmldmkousv"
      },
      "source": [
        "####Base Reduzida 1"
      ]
    },
    {
      "cell_type": "code",
      "metadata": {
        "id": "lSvBcX9Bousv"
      },
      "source": [
        "X_br1 = BaseReduzida1.iloc[:,:-1].values\n",
        "y_br1 = BaseReduzida1.iloc[:,-1].values\n",
        "\n",
        "minmax = MinMaxScaler()\n",
        "X_br1 = minmax.fit_transform(X_br1)"
      ],
      "execution_count": null,
      "outputs": []
    },
    {
      "cell_type": "code",
      "metadata": {
        "id": "p-GLqitWousw"
      },
      "source": [
        "for i in range(10):\n",
        "  seed = random.randint(900,5000)\n",
        "  print(\"Seed = \", seed) \n",
        "  rkf = RepeatedKFold(n_splits=10, n_repeats=10, random_state=seed)\n",
        "  for train, test in rkf.split(X_br1, y_br1):\n",
        "      X_train_br1 = X_br1[train]\n",
        "      X_test_br1 = X_br1[test]\n",
        "      y_train_br1 = y_br1[train]\n",
        "      y_test_br1 = y_br1[test]\n",
        "    \n",
        "  #classificação para diferentes valores de K\n",
        "  for K in range(10):\n",
        "    K = K + 1\n",
        "    knn = KNeighborsClassifier(n_neighbors=K, metric='euclidean')\n",
        "    knn.fit(X_train_br1, y_train_br1)\n",
        "    y_pred_br1 = knn.predict(X_test_br1)\n",
        "    acc_br1 = str(accuracy_score(y_test_br1, y_pred_br1))\n",
        "    print(\"K = \", K, \"| Acurácia: \", acc_br1) "
      ],
      "execution_count": null,
      "outputs": []
    },
    {
      "cell_type": "markdown",
      "metadata": {
        "id": "2U3zQOT6ousx"
      },
      "source": [
        "Para os resultados acima, K = 9  obteve melhor média de acurácia = 0,914489796"
      ]
    },
    {
      "cell_type": "markdown",
      "metadata": {
        "id": "7U-s86wOousy"
      },
      "source": [
        "####Base Reduzida 2"
      ]
    },
    {
      "cell_type": "code",
      "metadata": {
        "id": "UPHlV0Jsy65B"
      },
      "source": [
        "X_br2 = BaseReduzida2.iloc[:,:-1].values\n",
        "y_br2 = BaseReduzida2.iloc[:,-1].values\n",
        "\n",
        "minmax = MinMaxScaler()\n",
        "X_br2 = minmax.fit_transform(X_br2)"
      ],
      "execution_count": null,
      "outputs": []
    },
    {
      "cell_type": "code",
      "metadata": {
        "id": "9KNZm2Lkousy"
      },
      "source": [
        "for i in range(10):\n",
        "  seed = random.randint(900,5000)\n",
        "  print(\"Seed = \", seed) \n",
        "  rkf = RepeatedKFold(n_splits=10, n_repeats=10, random_state=seed)\n",
        "  for train, test in rkf.split(X_br2, y_br2):\n",
        "      X_train_br2 = X_br2[train]\n",
        "      X_test_br2 = X_br2[test]\n",
        "      y_train_br2 = y_br2[train]\n",
        "      y_test_br2 = y_br2[test]\n",
        "    \n",
        "  #classificação para diferentes valores de K\n",
        "  for K in range(10):\n",
        "    K = K + 1\n",
        "    knn = KNeighborsClassifier(n_neighbors=K, metric='euclidean')\n",
        "    knn.fit(X_train_br2, y_train_br2)\n",
        "    y_pred_br2 = knn.predict(X_test_br2)\n",
        "    acc_br2 = str(accuracy_score(y_test_br2, y_pred_br2))\n",
        "    print(\"K = \", K, \"| Acurácia: \", acc_br2) "
      ],
      "execution_count": null,
      "outputs": []
    },
    {
      "cell_type": "markdown",
      "metadata": {
        "id": "WnVSQKg4ousz"
      },
      "source": [
        "Para os resultados acima, K = 9 obteve melhor média de acurácia = 0,859931973"
      ]
    },
    {
      "cell_type": "markdown",
      "metadata": {
        "id": "hELvKRfDous0"
      },
      "source": [
        "####Base Reduzida 3"
      ]
    },
    {
      "cell_type": "code",
      "metadata": {
        "id": "YE9x2pPFzJRM"
      },
      "source": [
        "X_br3 = BaseReduzida3.iloc[:,:-1].values\n",
        "y_br3 = BaseReduzida3.iloc[:,-1].values\n",
        "\n",
        "minmax = MinMaxScaler()\n",
        "X_br3 = minmax.fit_transform(X_br3)"
      ],
      "execution_count": null,
      "outputs": []
    },
    {
      "cell_type": "code",
      "metadata": {
        "id": "1V9bEQy_ous0"
      },
      "source": [
        "for i in range(10):\n",
        "  seed = random.randint(900,5000)\n",
        "  print(\"Seed = \", seed) \n",
        "  rkf = RepeatedKFold(n_splits=10, n_repeats=10, random_state=seed)\n",
        "  for train, test in rkf.split(X_br3, y_br3):\n",
        "      X_train_br3 = X_br3[train]\n",
        "      X_test_br3 = X_br3[test]\n",
        "      y_train_br3 = y_br3[train]\n",
        "      y_test_br3 = y_br3[test]\n",
        "    \n",
        "  #classificação para diferentes valores de K\n",
        "  for K in range(10):\n",
        "    K = K + 1\n",
        "    knn = KNeighborsClassifier(n_neighbors=K, metric='euclidean')\n",
        "    knn.fit(X_train_br3, y_train_br3)\n",
        "    y_pred_br3 = knn.predict(X_test_br3)\n",
        "    acc_br3 = str(accuracy_score(y_test_br3, y_pred_br3))\n",
        "    print(\"K = \", K, \"| Acurácia: \", acc_br3) "
      ],
      "execution_count": null,
      "outputs": []
    },
    {
      "cell_type": "markdown",
      "metadata": {
        "id": "yOQB8HYJous1"
      },
      "source": [
        "Para os resultados acima, K = 9 obteve melhor média de acurácia = 0,515075034"
      ]
    },
    {
      "cell_type": "markdown",
      "metadata": {
        "id": "shkioNjfPuLx"
      },
      "source": [
        "## **Árvore de Decisão**"
      ]
    },
    {
      "cell_type": "markdown",
      "metadata": {
        "id": "fAxDouMYSRmt"
      },
      "source": [
        "Para cada base de dados, serão feitos treinamentos usando 10-fold cross validation,variando-se apenas o parâmetro poda (ou seja, construir árvore com poda e sem poda). Aqui, as perguntas a serem respondidas são as seguintes:\n",
        "1. A árvore (Árvore de Decisão) apresentou overfitting antes da poda?\n",
        "2. Com o uso da poda é possível afirmar se a AD estava ou não com overfitting?"
      ]
    },
    {
      "cell_type": "markdown",
      "metadata": {
        "id": "emm2On676pyR"
      },
      "source": [
        "### Sem poda"
      ]
    },
    {
      "cell_type": "markdown",
      "metadata": {
        "id": "CqA7nvRYRS8M"
      },
      "source": [
        "Base Original"
      ]
    },
    {
      "cell_type": "code",
      "metadata": {
        "id": "Q5hyISugPuLz",
        "colab": {
          "base_uri": "https://localhost:8080/"
        },
        "outputId": "21fee3d7-a5c4-4d01-dd7c-468767773e2b"
      },
      "source": [
        "X = BaseOriginal.iloc[:,:-1].values\n",
        "y = BaseOriginal.iloc[:,-1].values\n",
        "\n",
        "rkf = RepeatedKFold(n_splits=10, n_repeats=10, random_state=1)\n",
        "for train, test in rkf.split(X, y):\n",
        "    X_train = X[train]\n",
        "    X_test = X[test]\n",
        "    y_train = y[train]\n",
        "    y_test = y[test]\n",
        "  \n",
        "DTC = DecisionTreeClassifier()\n",
        "DTC.fit(X_train, y_train) \n",
        "y_pred = DTC.predict(X_test)\n",
        "\n",
        "acc = str(accuracy_score(y_test, y_pred))\n",
        "print(\"Acurácia: \", acc) \n",
        "\n",
        "#Verifica se ocorre overfiting\n",
        "test_AUC = roc_auc_score(y_test, y_pred)\n",
        "print(\"Test AUC: \", test_AUC)\n",
        "\n",
        "y_pred = DTC.predict(X_train)\n",
        "train_AUC = roc_auc_score(y_train, y_pred) \n",
        "print(\"Train AUC: \", train_AUC) "
      ],
      "execution_count": null,
      "outputs": [
        {
          "output_type": "stream",
          "text": [
            "Acurácia:  0.9389867160951498\n",
            "Test AUC:  0.9384333579101832\n",
            "Train AUC:  1.0\n"
          ],
          "name": "stdout"
        }
      ]
    },
    {
      "cell_type": "markdown",
      "metadata": {
        "id": "Y5KNWCwaSY_w"
      },
      "source": [
        "Train AUC = 1.0 significa que o modelo está se ajustando perfeitamente ao treino, ou seja, está ocorrendo overfiting."
      ]
    },
    {
      "cell_type": "markdown",
      "metadata": {
        "id": "nV1hxlPAgwCQ"
      },
      "source": [
        "Base Reduzida 1"
      ]
    },
    {
      "cell_type": "code",
      "metadata": {
        "colab": {
          "base_uri": "https://localhost:8080/"
        },
        "id": "Tje56Bz5gwCf",
        "outputId": "bdc9e75d-220c-4fe7-cf96-698a8efd8117"
      },
      "source": [
        "X = BaseReduzida1.iloc[:,:-1].values\n",
        "y = BaseReduzida1.iloc[:,-1].values\n",
        "\n",
        "rkf = RepeatedKFold(n_splits=10, n_repeats=10, random_state=1)\n",
        "for train, test in rkf.split(X, y):\n",
        "    X_train = X[train]\n",
        "    X_test = X[test]\n",
        "    y_train = y[train]\n",
        "    y_test = y[test]\n",
        "  \n",
        "DTC = DecisionTreeClassifier()\n",
        "DTC.fit(X_train, y_train) \n",
        "y_pred = DTC.predict(X_test)\n",
        "\n",
        "acc = str(accuracy_score(y_test, y_pred))\n",
        "print(\"Acurácia: \", acc) \n",
        "\n",
        "#Verifica se ocorre overfiting\n",
        "test_AUC = roc_auc_score(y_test, y_pred)\n",
        "print(\"Test AUC: \", test_AUC)\n",
        "\n",
        "y_pred = DTC.predict(X_train)\n",
        "train_AUC = roc_auc_score(y_train, y_pred) \n",
        "print(\"Train AUC: \", train_AUC) "
      ],
      "execution_count": null,
      "outputs": [
        {
          "output_type": "stream",
          "text": [
            "Acurácia:  0.9210884353741496\n",
            "Test AUC:  0.9199169799498748\n",
            "Train AUC:  1.0\n"
          ],
          "name": "stdout"
        }
      ]
    },
    {
      "cell_type": "markdown",
      "metadata": {
        "id": "9cUgEHxEh-_6"
      },
      "source": [
        "Base Reduzida 2"
      ]
    },
    {
      "cell_type": "code",
      "metadata": {
        "colab": {
          "base_uri": "https://localhost:8080/"
        },
        "id": "MTtGnjfjh_Ab",
        "outputId": "ea26066b-e062-4c22-c86e-c211433f2531"
      },
      "source": [
        "X = BaseReduzida2.iloc[:,:-1].values\n",
        "y = BaseReduzida2.iloc[:,-1].values\n",
        "\n",
        "rkf = RepeatedKFold(n_splits=10, n_repeats=10, random_state=1)\n",
        "for train, test in rkf.split(X, y):\n",
        "    X_train = X[train]\n",
        "    X_test = X[test]\n",
        "    y_train = y[train]\n",
        "    y_test = y[test]\n",
        "  \n",
        "DTC = DecisionTreeClassifier()\n",
        "DTC.fit(X_train, y_train) \n",
        "y_pred = DTC.predict(X_test)\n",
        "\n",
        "acc = str(accuracy_score(y_test, y_pred))\n",
        "print(\"Acurácia: \", acc) \n",
        "\n",
        "#Verifica se ocorre overfiting\n",
        "test_AUC = roc_auc_score(y_test, y_pred)\n",
        "print(\"Test AUC: \", test_AUC)\n",
        "\n",
        "y_pred = DTC.predict(X_train)\n",
        "train_AUC = roc_auc_score(y_train, y_pred) \n",
        "print(\"Train AUC: \", train_AUC) "
      ],
      "execution_count": null,
      "outputs": [
        {
          "output_type": "stream",
          "text": [
            "Acurácia:  0.8680272108843538\n",
            "Test AUC:  0.8666979949874687\n",
            "Train AUC:  0.890750194489358\n"
          ],
          "name": "stdout"
        }
      ]
    },
    {
      "cell_type": "markdown",
      "metadata": {
        "id": "8OxoAczJjHsx"
      },
      "source": [
        "Base Reduzida 3"
      ]
    },
    {
      "cell_type": "code",
      "metadata": {
        "colab": {
          "base_uri": "https://localhost:8080/"
        },
        "id": "bTh0SOZXjHtR",
        "outputId": "802b4a1a-553a-4e47-e48b-bb6d7dd51b61"
      },
      "source": [
        "X = BaseReduzida3.iloc[:,:-1].values\n",
        "y = BaseReduzida3.iloc[:,-1].values\n",
        "\n",
        "rkf = RepeatedKFold(n_splits=10, n_repeats=10, random_state=1)\n",
        "for train, test in rkf.split(X, y):\n",
        "    X_train = X[train]\n",
        "    X_test = X[test]\n",
        "    y_train = y[train]\n",
        "    y_test = y[test]\n",
        "  \n",
        "DTC = DecisionTreeClassifier()\n",
        "DTC.fit(X_train, y_train) \n",
        "y_pred = DTC.predict(X_test)\n",
        "\n",
        "acc = str(accuracy_score(y_test, y_pred))\n",
        "print(\"Acurácia: \", acc) \n",
        "\n",
        "#Verifica se ocorre overfiting\n",
        "test_AUC = roc_auc_score(y_test, y_pred)\n",
        "print(\"Test AUC: \", test_AUC)\n",
        "\n",
        "y_pred = DTC.predict(X_train)\n",
        "train_AUC = roc_auc_score(y_train, y_pred) \n",
        "print(\"Train AUC: \", train_AUC) "
      ],
      "execution_count": null,
      "outputs": [
        {
          "output_type": "stream",
          "text": [
            "Acurácia:  0.5088676671214188\n",
            "Test AUC:  0.5063518837103743\n",
            "Train AUC:  1.0\n"
          ],
          "name": "stdout"
        }
      ]
    },
    {
      "cell_type": "markdown",
      "metadata": {
        "id": "TKgZ6hwv6vCj"
      },
      "source": [
        "### Com poda"
      ]
    },
    {
      "cell_type": "markdown",
      "metadata": {
        "id": "gqneW6NqRJtf"
      },
      "source": [
        "####Base Original"
      ]
    },
    {
      "cell_type": "code",
      "metadata": {
        "id": "cYO32ArGPuL2",
        "colab": {
          "base_uri": "https://localhost:8080/"
        },
        "outputId": "19920d9f-9583-42f7-f631-b5bcb3f61b90"
      },
      "source": [
        "X = BaseOriginal.iloc[:,:-1].values\n",
        "y = BaseOriginal.iloc[:,-1].values\n",
        "\n",
        "rkf = RepeatedKFold(n_splits=10, n_repeats=10, random_state=1)\n",
        "for train, test in rkf.split(X, y):\n",
        "    X_train = X[train]\n",
        "    X_test = X[test]\n",
        "    y_train = y[train]\n",
        "    y_test = y[test]\n",
        "\n",
        "# Utilizando o grid search pra buscar os melhores parâmetros pra fazer a poda\n",
        "\n",
        "# parametros pro modelo\n",
        "from sklearn.model_selection import GridSearchCV\n",
        "params = {'max_leaf_nodes': list(range(2, 20)), \n",
        "          'min_samples_split': [2, 3, 4, 5, 10],\n",
        "          'max_depth': [2, 5, 7]}\n",
        "\n",
        "# chamada grid\n",
        "grid_search_cv = GridSearchCV(DecisionTreeClassifier(random_state=42), params, verbose=1, cv=3)\n",
        "\n",
        "#treinamento\n",
        "grid_search_cv.fit(X_train, y_train)\n",
        "\n",
        "#predição\n",
        "y_pred = grid_search_cv.predict(X_test)\n",
        "\n",
        "#avalia o modelo\n",
        "acc = str(accuracy_score(y_test, y_pred))\n",
        "print(\"Acurácia: \", acc)"
      ],
      "execution_count": null,
      "outputs": [
        {
          "output_type": "stream",
          "text": [
            "Fitting 3 folds for each of 270 candidates, totalling 810 fits\n"
          ],
          "name": "stdout"
        },
        {
          "output_type": "stream",
          "text": [
            "[Parallel(n_jobs=1)]: Using backend SequentialBackend with 1 concurrent workers.\n",
            "[Parallel(n_jobs=1)]: Done 810 out of 810 | elapsed:  2.9min finished\n"
          ],
          "name": "stderr"
        },
        {
          "output_type": "stream",
          "text": [
            "Acurácia:  0.8423694779116466\n"
          ],
          "name": "stdout"
        }
      ]
    },
    {
      "cell_type": "code",
      "metadata": {
        "colab": {
          "base_uri": "https://localhost:8080/"
        },
        "id": "OK4TFHiqPsh5",
        "outputId": "ff501f0c-2763-47e6-f6e2-abd25426acf3"
      },
      "source": [
        "# ver os melhores parametros\n",
        "grid_search_cv.best_params_"
      ],
      "execution_count": null,
      "outputs": [
        {
          "output_type": "execute_result",
          "data": {
            "text/plain": [
              "{'max_depth': 5, 'max_leaf_nodes': 4, 'min_samples_split': 2}"
            ]
          },
          "metadata": {
            "tags": []
          },
          "execution_count": 29
        }
      ]
    },
    {
      "cell_type": "code",
      "metadata": {
        "colab": {
          "base_uri": "https://localhost:8080/"
        },
        "id": "HU1D8UkUfPy1",
        "outputId": "b2172f62-1aa1-47d6-8e3c-dcba87240ec1"
      },
      "source": [
        "#Recall do modelo\n",
        "rec = str(recall_score(y_test, y_pred, average = 'macro'))\n",
        "print(\"Recall: \", rec)\n",
        "\n",
        "#Matriz de confusão\n",
        "cm = confusion_matrix(y_test, y_pred)\n",
        "print(\"Matriz de confusão\")\n",
        "print(cm)"
      ],
      "execution_count": null,
      "outputs": [
        {
          "output_type": "stream",
          "text": [
            "Recall:  0.8344021701278397\n",
            "Matriz de confusão\n",
            "[[4379 1571]\n",
            " [ 470 6528]]\n"
          ],
          "name": "stdout"
        }
      ]
    },
    {
      "cell_type": "code",
      "metadata": {
        "colab": {
          "base_uri": "https://localhost:8080/"
        },
        "id": "Fh5rh2b23P9X",
        "outputId": "bfb9d9b3-5b7f-4e24-b191-2edcabbc8e8f"
      },
      "source": [
        "#Verifica se ocorre overfiting\n",
        "test_AUC = roc_auc_score(y_test, y_pred)\n",
        "print(\"Test AUC: \", test_AUC)\n",
        "\n",
        "y_pred = grid_search_cv.predict(X_train)\n",
        "train_AUC = roc_auc_score(y_train, y_pred) \n",
        "print(\"Train AUC: \", train_AUC) "
      ],
      "execution_count": null,
      "outputs": [
        {
          "output_type": "stream",
          "text": [
            "Test AUC:  0.8344021701278397\n",
            "Train AUC:  0.8370769059800197\n"
          ],
          "name": "stdout"
        }
      ]
    },
    {
      "cell_type": "markdown",
      "metadata": {
        "id": "bxADzJ8SBJ11"
      },
      "source": [
        "####Base Reduzida 1"
      ]
    },
    {
      "cell_type": "code",
      "metadata": {
        "colab": {
          "base_uri": "https://localhost:8080/"
        },
        "id": "80PLpB4BBJ2b",
        "outputId": "7712c269-f707-4f8e-f988-7b173a02cc20"
      },
      "source": [
        "X = BaseReduzida1.iloc[:,:-1].values\n",
        "y = BaseReduzida1.iloc[:,-1].values\n",
        "\n",
        "rkf = RepeatedKFold(n_splits=10, n_repeats=10, random_state=1)\n",
        "for train, test in rkf.split(X, y):\n",
        "    X_train = X[train]\n",
        "    X_test = X[test]\n",
        "    y_train = y[train]\n",
        "    y_test = y[test]\n",
        "\n",
        "# Utilizando o grid search pra buscar os melhores parâmetros pra fazer a poda\n",
        "\n",
        "# parametros pro modelo\n",
        "from sklearn.model_selection import GridSearchCV\n",
        "params = {'max_leaf_nodes': list(range(2, 20)), \n",
        "          'min_samples_split': [2, 3, 4, 5, 10],\n",
        "          'max_depth': [2, 5, 7]}\n",
        "\n",
        "# chamada grid\n",
        "grid_search_cv = GridSearchCV(DecisionTreeClassifier(random_state=42), params, verbose=1, cv=3)\n",
        "\n",
        "#treinamento\n",
        "grid_search_cv.fit(X_train, y_train)\n",
        "\n",
        "#predição\n",
        "y_pred = grid_search_cv.predict(X_test)\n",
        "\n",
        "#avalia o modelo\n",
        "acc = str(accuracy_score(y_test, y_pred))\n",
        "print(\"Acurácia: \", acc)"
      ],
      "execution_count": null,
      "outputs": [
        {
          "output_type": "stream",
          "text": [
            "Fitting 3 folds for each of 270 candidates, totalling 810 fits\n"
          ],
          "name": "stdout"
        },
        {
          "output_type": "stream",
          "text": [
            "[Parallel(n_jobs=1)]: Using backend SequentialBackend with 1 concurrent workers.\n"
          ],
          "name": "stderr"
        },
        {
          "output_type": "stream",
          "text": [
            "Acurácia:  0.8979591836734694\n"
          ],
          "name": "stdout"
        },
        {
          "output_type": "stream",
          "text": [
            "[Parallel(n_jobs=1)]: Done 810 out of 810 | elapsed:   17.3s finished\n"
          ],
          "name": "stderr"
        }
      ]
    },
    {
      "cell_type": "code",
      "metadata": {
        "colab": {
          "base_uri": "https://localhost:8080/"
        },
        "id": "kONNux2BBJ2g",
        "outputId": "246a5809-f148-4627-8471-ad0d674a2981"
      },
      "source": [
        "# ver os melhores parametros\n",
        "grid_search_cv.best_params_"
      ],
      "execution_count": null,
      "outputs": [
        {
          "output_type": "execute_result",
          "data": {
            "text/plain": [
              "{'max_depth': 7, 'max_leaf_nodes': 19, 'min_samples_split': 2}"
            ]
          },
          "metadata": {
            "tags": []
          },
          "execution_count": 60
        }
      ]
    },
    {
      "cell_type": "code",
      "metadata": {
        "colab": {
          "base_uri": "https://localhost:8080/"
        },
        "id": "pOs7JBLGBJ2i",
        "outputId": "dab11748-b837-4278-cf4c-1855bd32eb14"
      },
      "source": [
        "#Recall do modelo\n",
        "rec = str(recall_score(y_test, y_pred, average = 'macro'))\n",
        "print(\"Recall: \", rec)\n",
        "\n",
        "#Matriz de confusão\n",
        "cm = confusion_matrix(y_test, y_pred)\n",
        "print(\"Matriz de confusão\")\n",
        "print(cm)"
      ],
      "execution_count": null,
      "outputs": [
        {
          "output_type": "stream",
          "text": [
            "Recall:  0.8963815789473684\n",
            "Matriz de confusão\n",
            "[[590  82]\n",
            " [ 68 730]]\n"
          ],
          "name": "stdout"
        }
      ]
    },
    {
      "cell_type": "code",
      "metadata": {
        "colab": {
          "base_uri": "https://localhost:8080/"
        },
        "id": "_MavBufBBJ2l",
        "outputId": "5b60d603-59eb-4fdd-ed6c-dc9575d667fc"
      },
      "source": [
        "#Verifica se ocorre overfiting\n",
        "test_AUC = roc_auc_score(y_test, y_pred)\n",
        "print(\"Test AUC: \", test_AUC)\n",
        "\n",
        "y_pred = DTC.predict(X_train)\n",
        "train_AUC = roc_auc_score(y_train, y_pred) \n",
        "print(\"Train AUC: \", train_AUC) "
      ],
      "execution_count": null,
      "outputs": [
        {
          "output_type": "stream",
          "text": [
            "Error Test:  0.8963815789473685\n",
            "Error Train:  0.8931714515517644\n"
          ],
          "name": "stdout"
        }
      ]
    },
    {
      "cell_type": "markdown",
      "metadata": {
        "id": "bOXsyWLaDXI1"
      },
      "source": [
        "####Base Reduzida 2"
      ]
    },
    {
      "cell_type": "code",
      "metadata": {
        "colab": {
          "base_uri": "https://localhost:8080/"
        },
        "id": "TZEbeoZyDXJd",
        "outputId": "98c1a02e-0dff-4e96-eaaa-4621415f65a8"
      },
      "source": [
        "X = BaseReduzida2.iloc[:,:-1].values\n",
        "y = BaseReduzida2.iloc[:,-1].values\n",
        "\n",
        "rkf = RepeatedKFold(n_splits=10, n_repeats=10, random_state=1)\n",
        "for train, test in rkf.split(X, y):\n",
        "    X_train = X[train]\n",
        "    X_test = X[test]\n",
        "    y_train = y[train]\n",
        "    y_test = y[test]\n",
        "\n",
        "# Utilizando o grid search pra buscar os melhores parâmetros pra fazer a poda\n",
        "\n",
        "# parametros pro modelo\n",
        "from sklearn.model_selection import GridSearchCV\n",
        "params = {'max_leaf_nodes': list(range(2, 20)), \n",
        "          'min_samples_split': [2, 3, 4, 5, 10],\n",
        "          'max_depth': [2, 5, 7]}\n",
        "\n",
        "# chamada grid\n",
        "grid_search_cv = GridSearchCV(DecisionTreeClassifier(random_state=42), params, verbose=1, cv=3)\n",
        "\n",
        "#treinamento\n",
        "grid_search_cv.fit(X_train, y_train)\n",
        "\n",
        "#predição\n",
        "y_pred = grid_search_cv.predict(X_test)\n",
        "\n",
        "#avalia o modelo\n",
        "acc = str(accuracy_score(y_test, y_pred))\n",
        "print(\"Acurácia: \", acc)"
      ],
      "execution_count": null,
      "outputs": [
        {
          "output_type": "stream",
          "text": [
            "Fitting 3 folds for each of 270 candidates, totalling 810 fits\n"
          ],
          "name": "stdout"
        },
        {
          "output_type": "stream",
          "text": [
            "[Parallel(n_jobs=1)]: Using backend SequentialBackend with 1 concurrent workers.\n"
          ],
          "name": "stderr"
        },
        {
          "output_type": "stream",
          "text": [
            "Acurácia:  0.8496598639455782\n"
          ],
          "name": "stdout"
        },
        {
          "output_type": "stream",
          "text": [
            "[Parallel(n_jobs=1)]: Done 810 out of 810 | elapsed:    4.8s finished\n"
          ],
          "name": "stderr"
        }
      ]
    },
    {
      "cell_type": "code",
      "metadata": {
        "colab": {
          "base_uri": "https://localhost:8080/"
        },
        "id": "m-ac2TbfDXJh",
        "outputId": "6808475b-134e-44bb-86b6-c2a2c73c0051"
      },
      "source": [
        "# ver os melhores parametros\n",
        "grid_search_cv.best_params_"
      ],
      "execution_count": null,
      "outputs": [
        {
          "output_type": "execute_result",
          "data": {
            "text/plain": [
              "{'max_depth': 7, 'max_leaf_nodes': 19, 'min_samples_split': 2}"
            ]
          },
          "metadata": {
            "tags": []
          },
          "execution_count": 64
        }
      ]
    },
    {
      "cell_type": "code",
      "metadata": {
        "colab": {
          "base_uri": "https://localhost:8080/"
        },
        "id": "JLCqkyxADXJi",
        "outputId": "2c315f67-830e-4e60-f552-25e5b5becfe3"
      },
      "source": [
        "#Recall do modelo\n",
        "rec = str(recall_score(y_test, y_pred, average = 'macro'))\n",
        "print(\"Recall: \", rec)\n",
        "\n",
        "#Matriz de confusão\n",
        "cm = confusion_matrix(y_test, y_pred)\n",
        "print(\"Matriz de confusão\")\n",
        "print(cm)"
      ],
      "execution_count": null,
      "outputs": [
        {
          "output_type": "stream",
          "text": [
            "Recall:  0.8497807017543859\n",
            "Matriz de confusão\n",
            "[[572 100]\n",
            " [121 677]]\n"
          ],
          "name": "stdout"
        }
      ]
    },
    {
      "cell_type": "code",
      "metadata": {
        "colab": {
          "base_uri": "https://localhost:8080/"
        },
        "id": "z7sZHNyXDXJk",
        "outputId": "dc22fbc2-0c28-47f6-ce80-e8e579f70b5f"
      },
      "source": [
        "#Verifica se ocorre overfiting\n",
        "test_AUC = roc_auc_score(y_test, y_pred)\n",
        "print(\"Test AUC: \", test_AUC)\n",
        "\n",
        "y_pred = DTC.predict(X_train)\n",
        "train_AUC = roc_auc_score(y_train, y_pred) \n",
        "print(\"Train AUC: \", train_AUC) "
      ],
      "execution_count": null,
      "outputs": [
        {
          "output_type": "stream",
          "text": [
            "Error Test:  0.8497807017543859\n",
            "Error Train:  0.865297076984728\n"
          ],
          "name": "stdout"
        }
      ]
    },
    {
      "cell_type": "markdown",
      "metadata": {
        "id": "UTCPzMdqDeNf"
      },
      "source": [
        "####Base Reduzida 3"
      ]
    },
    {
      "cell_type": "code",
      "metadata": {
        "colab": {
          "base_uri": "https://localhost:8080/"
        },
        "id": "IDZBMviEDeNh",
        "outputId": "a4c438be-85f1-41f8-9b6e-771462197a90"
      },
      "source": [
        "X = BaseReduzida3.iloc[:,:-1].values\n",
        "y = BaseReduzida3.iloc[:,-1].values\n",
        "\n",
        "rkf = RepeatedKFold(n_splits=10, n_repeats=10, random_state=1)\n",
        "for train, test in rkf.split(X, y):\n",
        "    X_train = X[train]\n",
        "    X_test = X[test]\n",
        "    y_train = y[train]\n",
        "    y_test = y[test]\n",
        "\n",
        "# Utilizando o grid search pra buscar os melhores parâmetros pra fazer a poda\n",
        "\n",
        "# parametros pro modelo\n",
        "from sklearn.model_selection import GridSearchCV\n",
        "params = {'max_leaf_nodes': list(range(2, 20)), \n",
        "          'min_samples_split': [2, 3, 4, 5, 10],\n",
        "          'max_depth': [2, 5, 7]}\n",
        "\n",
        "# chamada grid\n",
        "grid_search_cv = GridSearchCV(DecisionTreeClassifier(random_state=42), params, verbose=1, cv=3)\n",
        "\n",
        "#treinamento\n",
        "grid_search_cv.fit(X_train, y_train)\n",
        "\n",
        "#predição\n",
        "y_pred = grid_search_cv.predict(X_test)\n",
        "\n",
        "#avalia o modelo\n",
        "acc = str(accuracy_score(y_test, y_pred))\n",
        "print(\"Acurácia: \", acc)"
      ],
      "execution_count": null,
      "outputs": [
        {
          "output_type": "stream",
          "text": [
            "Fitting 3 folds for each of 270 candidates, totalling 810 fits\n"
          ],
          "name": "stdout"
        },
        {
          "output_type": "stream",
          "text": [
            "[Parallel(n_jobs=1)]: Using backend SequentialBackend with 1 concurrent workers.\n"
          ],
          "name": "stderr"
        },
        {
          "output_type": "stream",
          "text": [
            "Acurácia:  0.5300136425648022\n"
          ],
          "name": "stdout"
        },
        {
          "output_type": "stream",
          "text": [
            "[Parallel(n_jobs=1)]: Done 810 out of 810 | elapsed:   12.8s finished\n"
          ],
          "name": "stderr"
        }
      ]
    },
    {
      "cell_type": "code",
      "metadata": {
        "colab": {
          "base_uri": "https://localhost:8080/"
        },
        "id": "QaXJIFu_DeNj",
        "outputId": "72297927-a668-47ee-8d77-c73fab42b9b6"
      },
      "source": [
        "# ver os melhores parametros\n",
        "grid_search_cv.best_params_"
      ],
      "execution_count": null,
      "outputs": [
        {
          "output_type": "execute_result",
          "data": {
            "text/plain": [
              "{'max_depth': 2, 'max_leaf_nodes': 2, 'min_samples_split': 2}"
            ]
          },
          "metadata": {
            "tags": []
          },
          "execution_count": 68
        }
      ]
    },
    {
      "cell_type": "code",
      "metadata": {
        "colab": {
          "base_uri": "https://localhost:8080/"
        },
        "id": "8Nj-7habDeNk",
        "outputId": "18e46718-89b5-4e20-9f98-b827960b23e3"
      },
      "source": [
        "#Recall do modelo\n",
        "rec = str(recall_score(y_test, y_pred, average = 'macro'))\n",
        "print(\"Recall: \", rec)\n",
        "\n",
        "#Matriz de confusão\n",
        "cm = confusion_matrix(y_test, y_pred)\n",
        "print(\"Matriz de confusão\")\n",
        "print(cm)"
      ],
      "execution_count": null,
      "outputs": [
        {
          "output_type": "stream",
          "text": [
            "Recall:  0.5\n",
            "Matriz de confusão\n",
            "[[  0 689]\n",
            " [  0 777]]\n"
          ],
          "name": "stdout"
        }
      ]
    },
    {
      "cell_type": "code",
      "metadata": {
        "colab": {
          "base_uri": "https://localhost:8080/"
        },
        "id": "uSdpueRzDeNm",
        "outputId": "ecffc98b-ba39-468b-df9e-66c59d068030"
      },
      "source": [
        "#Verifica se ocorre overfiting\n",
        "test_AUC = roc_auc_score(y_test, y_pred)\n",
        "print(\"Test AUC: \", test_AUC)\n",
        "\n",
        "y_pred = DTC.predict(X_train)\n",
        "train_AUC = roc_auc_score(y_train, y_pred) \n",
        "print(\"Train AUC: \", train_AUC) "
      ],
      "execution_count": null,
      "outputs": [
        {
          "output_type": "stream",
          "text": [
            "Error Test:  0.5\n",
            "Error Train:  0.5\n"
          ],
          "name": "stdout"
        }
      ]
    },
    {
      "cell_type": "markdown",
      "metadata": {
        "id": "k5RPPySbP7XR"
      },
      "source": [
        "## **Naive Bayes**"
      ]
    },
    {
      "cell_type": "markdown",
      "metadata": {
        "id": "QaLK9W5JSn_d"
      },
      "source": [
        "Os experimentos serão feitos usando 10-fold cross validation. Para cada base de dados, as\n",
        "perguntas a serem respondidas para o NB são as seguintes:\n",
        "1. Os meus dados numéricos estavam obedecendo uma distribuição normal?\n",
        "2. Os meus dados possuem alguma relação?"
      ]
    },
    {
      "cell_type": "markdown",
      "metadata": {
        "id": "jihPJPFcrysI"
      },
      "source": [
        "####Base Original"
      ]
    },
    {
      "cell_type": "code",
      "metadata": {
        "id": "mnAVvrZuP7XT",
        "colab": {
          "base_uri": "https://localhost:8080/"
        },
        "outputId": "b268918f-1c9e-46e3-fbbe-0c1fcd937b47"
      },
      "source": [
        "acuracia = []\n",
        "for i in range(10):\n",
        "  seed = random.randint(900,5000)\n",
        "  \n",
        "  X = BaseOriginal.iloc[:,:-1].values\n",
        "  y = BaseOriginal.iloc[:,-1].values\n",
        "\n",
        "  rkf = RepeatedKFold(n_splits=10, n_repeats=10, random_state=seed)\n",
        "  for train, test in rkf.split(X, y):\n",
        "      X_train = X[train]\n",
        "      X_test = X[test]\n",
        "      y_train = y[train]\n",
        "      y_test = y[test]\n",
        "\n",
        "  nb = GaussianNB()\n",
        "  nb.fit(X_train, y_train)\n",
        "  y_pred = nb.predict(X_test)\n",
        "\n",
        "  acc = accuracy_score(y_test, y_pred)\n",
        "  acuracia.append(acc)\n",
        "print('Acurácia:', mean(acuracia))"
      ],
      "execution_count": null,
      "outputs": [
        {
          "output_type": "stream",
          "text": [
            "Acurácia: 0.8169833178869323\n"
          ],
          "name": "stdout"
        }
      ]
    },
    {
      "cell_type": "markdown",
      "metadata": {
        "id": "X0zb5Ocxr4yK"
      },
      "source": [
        "####Base Reduzida 1"
      ]
    },
    {
      "cell_type": "code",
      "metadata": {
        "id": "M5oqyxLTP7XU",
        "colab": {
          "base_uri": "https://localhost:8080/"
        },
        "outputId": "89b742d8-d5ed-494d-c522-68f1c76cd4ef"
      },
      "source": [
        "acuracia = []\n",
        "for i in range(10):\n",
        "  seed = random.randint(900,5000)\n",
        "  \n",
        "  X = BaseReduzida1.iloc[:,:-1].values\n",
        "  y = BaseReduzida1.iloc[:,-1].values\n",
        "\n",
        "  rkf = RepeatedKFold(n_splits=10, n_repeats=10, random_state=seed)\n",
        "  for train, test in rkf.split(X, y):\n",
        "      X_train = X[train]\n",
        "      X_test = X[test]\n",
        "      y_train = y[train]\n",
        "      y_test = y[test]\n",
        "\n",
        "  nb = GaussianNB()\n",
        "  nb.fit(X_train, y_train)\n",
        "  y_pred = nb.predict(X_test)\n",
        "\n",
        "  acc = accuracy_score(y_test, y_pred)\n",
        "  acuracia.append(acc)\n",
        "print('Acurácia:', mean(acuracia))"
      ],
      "execution_count": null,
      "outputs": [
        {
          "output_type": "stream",
          "text": [
            "Acurácia: 0.8187755102040816\n"
          ],
          "name": "stdout"
        }
      ]
    },
    {
      "cell_type": "markdown",
      "metadata": {
        "id": "otRIDGlNr7DI"
      },
      "source": [
        "####Base Reduzida 2"
      ]
    },
    {
      "cell_type": "code",
      "metadata": {
        "id": "nllrkerQP7XV",
        "colab": {
          "base_uri": "https://localhost:8080/"
        },
        "outputId": "191f508b-9cba-480a-fd38-6daa7fa9ee79"
      },
      "source": [
        "acuracia = []\n",
        "for i in range(10):\n",
        "  seed = random.randint(900,5000)\n",
        "  \n",
        "  X = BaseReduzida2.iloc[:,:-1].values\n",
        "  y = BaseReduzida2.iloc[:,-1].values\n",
        "\n",
        "  rkf = RepeatedKFold(n_splits=10, n_repeats=10, random_state=seed)\n",
        "  for train, test in rkf.split(X, y):\n",
        "      X_train = X[train]\n",
        "      X_test = X[test]\n",
        "      y_train = y[train]\n",
        "      y_test = y[test]\n",
        "\n",
        "  nb = GaussianNB()\n",
        "  nb.fit(X_train, y_train)\n",
        "  y_pred = nb.predict(X_test)\n",
        "\n",
        "  acc = accuracy_score(y_test, y_pred)\n",
        "  acuracia.append(acc)\n",
        "print('Acurácia:', mean(acuracia))"
      ],
      "execution_count": null,
      "outputs": [
        {
          "output_type": "stream",
          "text": [
            "Acurácia: 0.7672108843537415\n"
          ],
          "name": "stdout"
        }
      ]
    },
    {
      "cell_type": "markdown",
      "metadata": {
        "id": "DSFWXXRkr8t2"
      },
      "source": [
        "####Base Reduzida 3"
      ]
    },
    {
      "cell_type": "code",
      "metadata": {
        "colab": {
          "base_uri": "https://localhost:8080/"
        },
        "id": "7NfTnAyWQtoD",
        "outputId": "e0d4bbc1-9071-49b7-9150-69a3f7744a2f"
      },
      "source": [
        "acuracia = []\n",
        "for i in range(10):\n",
        "  seed = random.randint(900,5000)\n",
        "  \n",
        "  X = BaseReduzida3.iloc[:,:-1].values\n",
        "  y = BaseReduzida3.iloc[:,-1].values\n",
        "\n",
        "  rkf = RepeatedKFold(n_splits=10, n_repeats=10, random_state=seed)\n",
        "  for train, test in rkf.split(X, y):\n",
        "      X_train = X[train]\n",
        "      X_test = X[test]\n",
        "      y_train = y[train]\n",
        "      y_test = y[test]\n",
        "\n",
        "  nb = GaussianNB()\n",
        "  nb.fit(X_train, y_train)\n",
        "  y_pred = nb.predict(X_test)\n",
        "\n",
        "  acc = accuracy_score(y_test, y_pred)\n",
        "  acuracia.append(acc)\n",
        "print('Acurácia:', mean(acuracia))"
      ],
      "execution_count": null,
      "outputs": [
        {
          "output_type": "stream",
          "text": [
            "Acurácia: 0.534106412005457\n"
          ],
          "name": "stdout"
        }
      ]
    },
    {
      "cell_type": "markdown",
      "metadata": {
        "id": "Mq04my1AQGGI"
      },
      "source": [
        "## **Redes Neurais**"
      ]
    },
    {
      "cell_type": "markdown",
      "metadata": {
        "id": "lHZOA_WES6Vf"
      },
      "source": [
        "Para cada base de dados, serão feitos treinamentos de redes MLP usando o backpropagation\n",
        "padrão (com o termo momentum fixo de 0.8), variando-se os seguintes parâmetros:\n",
        "\n",
        "a. Quantidade máxima de iterações (ou ciclos).\n",
        "\n",
        "b. Quantidade de neurônios intermediários (ou escondidos) da rede --- serão usadas redes com apenas uma camada intermediária.\n",
        "\n",
        "c. Taxa de aprendizado."
      ]
    },
    {
      "cell_type": "markdown",
      "metadata": {
        "id": "EiXbfcMDA__a"
      },
      "source": [
        "P/ neurônios:\n",
        "Ponto de partida = \n",
        "(num. Att + num. classes)/2 = (23+1)/2 = 12"
      ]
    },
    {
      "cell_type": "markdown",
      "metadata": {
        "id": "671kdUBsxm-8"
      },
      "source": [
        "####Base Original"
      ]
    },
    {
      "cell_type": "code",
      "metadata": {
        "id": "so2ygxnD9tGa"
      },
      "source": [
        "for taxa_aprendizado in [0.1, 0.01, 0.001]:\n",
        "  for iteracoes in [100, 1000, 10000]:  \n",
        "    for neuronios in [12,16,20]:    \n",
        "\n",
        "      print(\"Taxa aprendizado =\", taxa_aprendizado, \"| Neurônios =\", neuronios, \"| Iteracoes =\", iteracoes)\n",
        "\n",
        "      X = BaseOriginal.iloc[:,:-1].values\n",
        "      y = BaseOriginal.iloc[:,-1].values\n",
        "\n",
        "      rkf = RepeatedKFold(n_splits=2, n_repeats=10, random_state=990)\n",
        "      for train, test in rkf.split(X, y):\n",
        "          X_train = X[train]\n",
        "          X_test = X[test]\n",
        "          y_train = y[train]\n",
        "          y_test = y[test]\n",
        "\n",
        "      minmax = MinMaxScaler()\n",
        "      X_train = minmax.fit_transform(X_train)\n",
        "      X_test = minmax.fit_transform(X_test)\n",
        "\n",
        "      mlp = MLPClassifier(solver='sgd', momentum=0.8, \n",
        "                          hidden_layer_sizes=neuronios, \n",
        "                          learning_rate='constant', \n",
        "                          learning_rate_init=taxa_aprendizado,\n",
        "                          max_iter=iteracoes, \n",
        "                          random_state=1)\n",
        "\n",
        "      mlp.fit(X_train, y_train)\n",
        "      y_pred = mlp.predict(X_test)\n",
        "\n",
        "      acc = str(accuracy_score(y_test, y_pred))\n",
        "      print(\"Acurácia:\", acc)\n",
        "\n",
        "      # cm = confusion_matrix(y_test, y_pred)\n",
        "      # print(\"Matriz de confusão\")\n",
        "      # print(cm)\n",
        "\n",
        "      #Análise do MLP\n",
        "      print(\"Loss:\", mlp.loss_)\n",
        "      print (\"Score treino:\", mlp.score(X_train,y_train))\n",
        "      print (\"Score teste:\",mlp.score(X_test,y_test))\n",
        "\n",
        "      #Análise AUC\n",
        "      test_AUC = roc_auc_score(y_test, y_pred)\n",
        "      print(\"Test AUC: \", test_AUC)\n",
        "\n",
        "      y_pred = mlp.predict(X_train)\n",
        "      train_AUC = roc_auc_score(y_train, y_pred) \n",
        "      print(\"Train AUC: \", train_AUC) "
      ],
      "execution_count": null,
      "outputs": []
    },
    {
      "cell_type": "code",
      "metadata": {
        "colab": {
          "base_uri": "https://localhost:8080/"
        },
        "id": "2gPzBOpjx9Pq",
        "outputId": "23981fb6-726e-4476-810e-4548d7240e87"
      },
      "source": [
        "#Para o melhor resultado (Taxa aprendizado = 0.1 | Neurônios = 16 | Iteracoes = 100), aplica-se para 10-fold cross validation\n",
        "\n",
        "X = BaseOriginal.iloc[:,:-1].values\n",
        "y = BaseOriginal.iloc[:,-1].values\n",
        "\n",
        "rkf = RepeatedKFold(n_splits=10, n_repeats=10, random_state=990)\n",
        "for train, test in rkf.split(X, y):\n",
        "    X_train = X[train]\n",
        "    X_test = X[test]\n",
        "    y_train = y[train]\n",
        "    y_test = y[test]\n",
        "\n",
        "minmax = MinMaxScaler()\n",
        "X_train = minmax.fit_transform(X_train)\n",
        "X_test = minmax.fit_transform(X_test)\n",
        "\n",
        "mlp = MLPClassifier(solver='sgd', momentum=0.8, \n",
        "                    hidden_layer_sizes=16, \n",
        "                    learning_rate='constant', \n",
        "                    learning_rate_init=0.1,\n",
        "                    max_iter=100, \n",
        "                    random_state=1)\n",
        "\n",
        "mlp.fit(X_train, y_train)\n",
        "y_pred = mlp.predict(X_test)\n",
        "\n",
        "#Acurácia\n",
        "acc = str(accuracy_score(y_test, y_pred))\n",
        "print(\"Acurácia:\", acc)\n",
        "\n",
        "#Matriz de Confusão\n",
        "cm = confusion_matrix(y_test, y_pred)\n",
        "print(\"Matriz de confusão\")\n",
        "print(cm)\n",
        "\n",
        "#Análise do MLP\n",
        "print(\"Loss:\", mlp.loss_)\n",
        "print (\"Score treino:\", mlp.score(X_train,y_train))\n",
        "print (\"Score teste:\",mlp.score(X_test,y_test))\n",
        "\n",
        "#Análise AUC\n",
        "test_AUC = roc_auc_score(y_test, y_pred)\n",
        "print(\"Test AUC: \", test_AUC)\n",
        "\n",
        "y_pred = mlp.predict(X_train)\n",
        "train_AUC = roc_auc_score(y_train, y_pred) \n",
        "print(\"Train AUC: \", train_AUC)"
      ],
      "execution_count": null,
      "outputs": [
        {
          "output_type": "stream",
          "text": [
            "Acurácia: 0.9345844918134075\n",
            "Matriz de confusão\n",
            "[[5616  263]\n",
            " [ 584 6485]]\n",
            "Loss: 0.14533962694976302\n",
            "Score treino: 0.9389045727181459\n",
            "Score teste: 0.9345844918134075\n",
            "Test AUC:  0.9363251348076722\n",
            "Train AUC:  0.9393268797576781\n"
          ],
          "name": "stdout"
        },
        {
          "output_type": "stream",
          "text": [
            "/usr/local/lib/python3.7/dist-packages/sklearn/neural_network/_multilayer_perceptron.py:571: ConvergenceWarning: Stochastic Optimizer: Maximum iterations (100) reached and the optimization hasn't converged yet.\n",
            "  % self.max_iter, ConvergenceWarning)\n"
          ],
          "name": "stderr"
        }
      ]
    },
    {
      "cell_type": "markdown",
      "metadata": {
        "id": "P6z9paEIx1Nt"
      },
      "source": [
        "####Base Reduzida 1"
      ]
    },
    {
      "cell_type": "code",
      "metadata": {
        "colab": {
          "base_uri": "https://localhost:8080/"
        },
        "id": "xyyW9Chex1N5",
        "outputId": "b165765f-2043-4d71-9612-3172df578bf8"
      },
      "source": [
        "for taxa_aprendizado in [0.1, 0.01, 0.001]:\n",
        "  for iteracoes in [100, 1000, 10000]:  \n",
        "    for neuronios in [12,16,20]:    \n",
        "\n",
        "      print(\"Taxa aprendizado =\", taxa_aprendizado, \"| Neurônios =\", neuronios, \"| Iteracoes =\", iteracoes)\n",
        "\n",
        "      X = BaseReduzida1.iloc[:,:-1].values\n",
        "      y = BaseReduzida1.iloc[:,-1].values\n",
        "\n",
        "      rkf = RepeatedKFold(n_splits=2, n_repeats=10, random_state=990)\n",
        "      for train, test in rkf.split(X, y):\n",
        "          X_train = X[train]\n",
        "          X_test = X[test]\n",
        "          y_train = y[train]\n",
        "          y_test = y[test]\n",
        "\n",
        "      minmax = MinMaxScaler()\n",
        "      X_train = minmax.fit_transform(X_train)\n",
        "      X_test = minmax.fit_transform(X_test)\n",
        "\n",
        "      mlp = MLPClassifier(solver='sgd', momentum=0.8, \n",
        "                          hidden_layer_sizes=neuronios, \n",
        "                          learning_rate='constant', \n",
        "                          learning_rate_init=taxa_aprendizado,\n",
        "                          max_iter=iteracoes, \n",
        "                          random_state=1)\n",
        "\n",
        "      mlp.fit(X_train, y_train)\n",
        "      y_pred = mlp.predict(X_test)\n",
        "\n",
        "      acc = str(accuracy_score(y_test, y_pred))\n",
        "      print(\"Acurácia:\", acc)\n",
        "\n",
        "      # cm = confusion_matrix(y_test, y_pred)\n",
        "      # print(\"Matriz de confusão\")\n",
        "      # print(cm)\n",
        "\n",
        "      #Análise do MLP\n",
        "      print(\"Loss:\", mlp.loss_)\n",
        "      print (\"Score treino:\", mlp.score(X_train,y_train))\n",
        "      print (\"Score teste:\",mlp.score(X_test,y_test))\n",
        "\n",
        "      #Análise AUC\n",
        "      test_AUC = roc_auc_score(y_test, y_pred)\n",
        "      print(\"Test AUC: \", test_AUC)\n",
        "\n",
        "      y_pred = mlp.predict(X_train)\n",
        "      train_AUC = roc_auc_score(y_train, y_pred) \n",
        "      print(\"Train AUC: \", train_AUC) "
      ],
      "execution_count": null,
      "outputs": [
        {
          "output_type": "stream",
          "text": [
            "Taxa aprendizado = 0.1 | Neurônios = 12 | Iteracoes = 100\n"
          ],
          "name": "stdout"
        },
        {
          "output_type": "stream",
          "text": [
            "/usr/local/lib/python3.7/dist-packages/sklearn/neural_network/_multilayer_perceptron.py:571: ConvergenceWarning: Stochastic Optimizer: Maximum iterations (100) reached and the optimization hasn't converged yet.\n",
            "  % self.max_iter, ConvergenceWarning)\n"
          ],
          "name": "stderr"
        },
        {
          "output_type": "stream",
          "text": [
            "Acurácia: 0.9082132172967092\n",
            "Loss: 0.18190316837010595\n",
            "Score treino: 0.9250849762066621\n",
            "Score teste: 0.9082132172967092\n",
            "Test AUC:  0.9020816818958751\n",
            "Train AUC:  0.9223066713176657\n",
            "Taxa aprendizado = 0.1 | Neurônios = 16 | Iteracoes = 100\n"
          ],
          "name": "stdout"
        },
        {
          "output_type": "stream",
          "text": [
            "/usr/local/lib/python3.7/dist-packages/sklearn/neural_network/_multilayer_perceptron.py:571: ConvergenceWarning: Stochastic Optimizer: Maximum iterations (100) reached and the optimization hasn't converged yet.\n",
            "  % self.max_iter, ConvergenceWarning)\n"
          ],
          "name": "stderr"
        },
        {
          "output_type": "stream",
          "text": [
            "Acurácia: 0.9228991025292358\n",
            "Loss: 0.15630544469371743\n",
            "Score treino: 0.9367777022433719\n",
            "Score teste: 0.9228991025292358\n",
            "Test AUC:  0.9191315640886755\n",
            "Train AUC:  0.9353649601271866\n",
            "Taxa aprendizado = 0.1 | Neurônios = 20 | Iteracoes = 100\n"
          ],
          "name": "stdout"
        },
        {
          "output_type": "stream",
          "text": [
            "/usr/local/lib/python3.7/dist-packages/sklearn/neural_network/_multilayer_perceptron.py:571: ConvergenceWarning: Stochastic Optimizer: Maximum iterations (100) reached and the optimization hasn't converged yet.\n",
            "  % self.max_iter, ConvergenceWarning)\n"
          ],
          "name": "stderr"
        },
        {
          "output_type": "stream",
          "text": [
            "Acurácia: 0.9200435137340223\n",
            "Loss: 0.16794482017281154\n",
            "Score treino: 0.9336505778382053\n",
            "Score teste: 0.9200435137340223\n",
            "Test AUC:  0.9191043058153048\n",
            "Train AUC:  0.9342179141575848\n",
            "Taxa aprendizado = 0.1 | Neurônios = 12 | Iteracoes = 1000\n",
            "Acurácia: 0.9171879249388089\n",
            "Loss: 0.18242110909436987\n",
            "Score treino: 0.9317471108089734\n",
            "Score teste: 0.9171879249388089\n",
            "Test AUC:  0.9157143237490858\n",
            "Train AUC:  0.9321660617546353\n",
            "Taxa aprendizado = 0.1 | Neurônios = 16 | Iteracoes = 1000\n",
            "Acurácia: 0.9287462605384824\n",
            "Loss: 0.1491001579016954\n",
            "Score treino: 0.9426240652617267\n",
            "Score teste: 0.9287462605384824\n",
            "Test AUC:  0.9282780012757319\n",
            "Train AUC:  0.9436149890474316\n",
            "Taxa aprendizado = 0.1 | Neurônios = 20 | Iteracoes = 1000\n",
            "Acurácia: 0.9173239053576285\n",
            "Loss: 0.1636526877795353\n",
            "Score treino: 0.9359619306594154\n",
            "Score teste: 0.9173239053576285\n",
            "Test AUC:  0.9139209829266258\n",
            "Train AUC:  0.9355116032180993\n",
            "Taxa aprendizado = 0.1 | Neurônios = 12 | Iteracoes = 10000\n",
            "Acurácia: 0.9171879249388089\n",
            "Loss: 0.18242110909436987\n",
            "Score treino: 0.9317471108089734\n",
            "Score teste: 0.9171879249388089\n",
            "Test AUC:  0.9157143237490858\n",
            "Train AUC:  0.9321660617546353\n",
            "Taxa aprendizado = 0.1 | Neurônios = 16 | Iteracoes = 10000\n",
            "Acurácia: 0.9287462605384824\n",
            "Loss: 0.1491001579016954\n",
            "Score treino: 0.9426240652617267\n",
            "Score teste: 0.9287462605384824\n",
            "Test AUC:  0.9282780012757319\n",
            "Train AUC:  0.9436149890474316\n",
            "Taxa aprendizado = 0.1 | Neurônios = 20 | Iteracoes = 10000\n",
            "Acurácia: 0.9173239053576285\n",
            "Loss: 0.1636526877795353\n",
            "Score treino: 0.9359619306594154\n",
            "Score teste: 0.9173239053576285\n",
            "Test AUC:  0.9139209829266258\n",
            "Train AUC:  0.9355116032180993\n",
            "Taxa aprendizado = 0.01 | Neurônios = 12 | Iteracoes = 100\n"
          ],
          "name": "stdout"
        },
        {
          "output_type": "stream",
          "text": [
            "/usr/local/lib/python3.7/dist-packages/sklearn/neural_network/_multilayer_perceptron.py:571: ConvergenceWarning: Stochastic Optimizer: Maximum iterations (100) reached and the optimization hasn't converged yet.\n",
            "  % self.max_iter, ConvergenceWarning)\n"
          ],
          "name": "stderr"
        },
        {
          "output_type": "stream",
          "text": [
            "Acurácia: 0.8836007614903454\n",
            "Loss: 0.2777505182251637\n",
            "Score treino: 0.8887831407205983\n",
            "Score teste: 0.8836007614903454\n",
            "Test AUC:  0.8803656382280466\n",
            "Train AUC:  0.8886022233023073\n",
            "Taxa aprendizado = 0.01 | Neurônios = 16 | Iteracoes = 100\n"
          ],
          "name": "stdout"
        },
        {
          "output_type": "stream",
          "text": [
            "/usr/local/lib/python3.7/dist-packages/sklearn/neural_network/_multilayer_perceptron.py:571: ConvergenceWarning: Stochastic Optimizer: Maximum iterations (100) reached and the optimization hasn't converged yet.\n",
            "  % self.max_iter, ConvergenceWarning)\n"
          ],
          "name": "stderr"
        },
        {
          "output_type": "stream",
          "text": [
            "Acurácia: 0.8806091922763122\n",
            "Loss: 0.27047090546363056\n",
            "Score treino: 0.8910944935418083\n",
            "Score teste: 0.8806091922763122\n",
            "Test AUC:  0.8749080918887955\n",
            "Train AUC:  0.8897378719481344\n",
            "Taxa aprendizado = 0.01 | Neurônios = 20 | Iteracoes = 100\n"
          ],
          "name": "stdout"
        },
        {
          "output_type": "stream",
          "text": [
            "/usr/local/lib/python3.7/dist-packages/sklearn/neural_network/_multilayer_perceptron.py:571: ConvergenceWarning: Stochastic Optimizer: Maximum iterations (100) reached and the optimization hasn't converged yet.\n",
            "  % self.max_iter, ConvergenceWarning)\n"
          ],
          "name": "stderr"
        },
        {
          "output_type": "stream",
          "text": [
            "Acurácia: 0.892983410388904\n",
            "Loss: 0.25438463617152174\n",
            "Score treino: 0.9003399048266485\n",
            "Score teste: 0.892983410388904\n",
            "Test AUC:  0.8892908023724466\n",
            "Train AUC:  0.90005772169057\n",
            "Taxa aprendizado = 0.01 | Neurônios = 12 | Iteracoes = 1000\n",
            "Acurácia: 0.9155561599129726\n",
            "Loss: 0.19197576218436016\n",
            "Score treino: 0.9225016995241332\n",
            "Score teste: 0.9155561599129726\n",
            "Test AUC:  0.9124000756817943\n",
            "Train AUC:  0.9216179314132072\n",
            "Taxa aprendizado = 0.01 | Neurônios = 16 | Iteracoes = 1000\n",
            "Acurácia: 0.9219472395974979\n",
            "Loss: 0.167598137864414\n",
            "Score treino: 0.9335146159075459\n",
            "Score teste: 0.9219472395974979\n",
            "Test AUC:  0.9203015070804762\n",
            "Train AUC:  0.9334228858558395\n",
            "Taxa aprendizado = 0.01 | Neurônios = 20 | Iteracoes = 1000\n",
            "Acurácia: 0.9170519445199892\n",
            "Loss: 0.1812616505942357\n",
            "Score treino: 0.9288919102651257\n",
            "Score teste: 0.9170519445199892\n",
            "Test AUC:  0.914294395169491\n",
            "Train AUC:  0.9282893010537363\n",
            "Taxa aprendizado = 0.01 | Neurônios = 12 | Iteracoes = 10000\n",
            "Acurácia: 0.9155561599129726\n",
            "Loss: 0.19197576218436016\n",
            "Score treino: 0.9225016995241332\n",
            "Score teste: 0.9155561599129726\n",
            "Test AUC:  0.9124000756817943\n",
            "Train AUC:  0.9216179314132072\n",
            "Taxa aprendizado = 0.01 | Neurônios = 16 | Iteracoes = 10000\n",
            "Acurácia: 0.9219472395974979\n",
            "Loss: 0.167598137864414\n",
            "Score treino: 0.9335146159075459\n",
            "Score teste: 0.9219472395974979\n",
            "Test AUC:  0.9203015070804762\n",
            "Train AUC:  0.9334228858558395\n",
            "Taxa aprendizado = 0.01 | Neurônios = 20 | Iteracoes = 10000\n",
            "Acurácia: 0.9170519445199892\n",
            "Loss: 0.1812616505942357\n",
            "Score treino: 0.9288919102651257\n",
            "Score teste: 0.9170519445199892\n",
            "Test AUC:  0.914294395169491\n",
            "Train AUC:  0.9282893010537363\n",
            "Taxa aprendizado = 0.001 | Neurônios = 12 | Iteracoes = 100\n"
          ],
          "name": "stdout"
        },
        {
          "output_type": "stream",
          "text": [
            "/usr/local/lib/python3.7/dist-packages/sklearn/neural_network/_multilayer_perceptron.py:571: ConvergenceWarning: Stochastic Optimizer: Maximum iterations (100) reached and the optimization hasn't converged yet.\n",
            "  % self.max_iter, ConvergenceWarning)\n"
          ],
          "name": "stderr"
        },
        {
          "output_type": "stream",
          "text": [
            "Acurácia: 0.7884144683165624\n",
            "Loss: 0.4495889300765385\n",
            "Score treino: 0.8082936777702243\n",
            "Score teste: 0.7884144683165624\n",
            "Test AUC:  0.7775623466815345\n",
            "Train AUC:  0.8045123229943643\n",
            "Taxa aprendizado = 0.001 | Neurônios = 16 | Iteracoes = 100\n"
          ],
          "name": "stdout"
        },
        {
          "output_type": "stream",
          "text": [
            "/usr/local/lib/python3.7/dist-packages/sklearn/neural_network/_multilayer_perceptron.py:571: ConvergenceWarning: Stochastic Optimizer: Maximum iterations (100) reached and the optimization hasn't converged yet.\n",
            "  % self.max_iter, ConvergenceWarning)\n"
          ],
          "name": "stderr"
        },
        {
          "output_type": "stream",
          "text": [
            "Acurácia: 0.813162904541746\n",
            "Loss: 0.4239978435098454\n",
            "Score treino: 0.8206662134602312\n",
            "Score teste: 0.813162904541746\n",
            "Test AUC:  0.8072494030587288\n",
            "Train AUC:  0.8183498249267119\n",
            "Taxa aprendizado = 0.001 | Neurônios = 20 | Iteracoes = 100\n"
          ],
          "name": "stdout"
        },
        {
          "output_type": "stream",
          "text": [
            "/usr/local/lib/python3.7/dist-packages/sklearn/neural_network/_multilayer_perceptron.py:571: ConvergenceWarning: Stochastic Optimizer: Maximum iterations (100) reached and the optimization hasn't converged yet.\n",
            "  % self.max_iter, ConvergenceWarning)\n"
          ],
          "name": "stderr"
        },
        {
          "output_type": "stream",
          "text": [
            "Acurácia: 0.812754963285287\n",
            "Loss: 0.42737478236770454\n",
            "Score treino: 0.8182188987083616\n",
            "Score teste: 0.812754963285287\n",
            "Test AUC:  0.8071245221318908\n",
            "Train AUC:  0.8162786676105285\n",
            "Taxa aprendizado = 0.001 | Neurônios = 12 | Iteracoes = 1000\n",
            "Acurácia: 0.8802012510198531\n",
            "Loss: 0.27991491088334103\n",
            "Score treino: 0.887423521414004\n",
            "Score teste: 0.8802012510198531\n",
            "Test AUC:  0.8763524820652867\n",
            "Train AUC:  0.8868681965958904\n",
            "Taxa aprendizado = 0.001 | Neurônios = 16 | Iteracoes = 1000\n"
          ],
          "name": "stdout"
        },
        {
          "output_type": "stream",
          "text": [
            "/usr/local/lib/python3.7/dist-packages/sklearn/neural_network/_multilayer_perceptron.py:571: ConvergenceWarning: Stochastic Optimizer: Maximum iterations (1000) reached and the optimization hasn't converged yet.\n",
            "  % self.max_iter, ConvergenceWarning)\n"
          ],
          "name": "stderr"
        },
        {
          "output_type": "stream",
          "text": [
            "Acurácia: 0.8859124286102801\n",
            "Loss: 0.26855155391086044\n",
            "Score treino: 0.8934058463630183\n",
            "Score teste: 0.8859124286102801\n",
            "Test AUC:  0.8817873566805852\n",
            "Train AUC:  0.8932090067221193\n",
            "Taxa aprendizado = 0.001 | Neurônios = 20 | Iteracoes = 1000\n"
          ],
          "name": "stdout"
        },
        {
          "output_type": "stream",
          "text": [
            "/usr/local/lib/python3.7/dist-packages/sklearn/neural_network/_multilayer_perceptron.py:571: ConvergenceWarning: Stochastic Optimizer: Maximum iterations (1000) reached and the optimization hasn't converged yet.\n",
            "  % self.max_iter, ConvergenceWarning)\n"
          ],
          "name": "stderr"
        },
        {
          "output_type": "stream",
          "text": [
            "Acurácia: 0.8921675278759859\n",
            "Loss: 0.2533676965396594\n",
            "Score treino: 0.900475866757308\n",
            "Score teste: 0.8921675278759859\n",
            "Test AUC:  0.8881443141740113\n",
            "Train AUC:  0.9000274278267256\n",
            "Taxa aprendizado = 0.001 | Neurônios = 12 | Iteracoes = 10000\n",
            "Acurácia: 0.8802012510198531\n",
            "Loss: 0.27991491088334103\n",
            "Score treino: 0.887423521414004\n",
            "Score teste: 0.8802012510198531\n",
            "Test AUC:  0.8763524820652867\n",
            "Train AUC:  0.8868681965958904\n",
            "Taxa aprendizado = 0.001 | Neurônios = 16 | Iteracoes = 10000\n",
            "Acurácia: 0.889039978243133\n",
            "Loss: 0.26009571296343903\n",
            "Score treino: 0.8966689326988443\n",
            "Score teste: 0.889039978243133\n",
            "Test AUC:  0.8850281080901288\n",
            "Train AUC:  0.8963627241727362\n",
            "Taxa aprendizado = 0.001 | Neurônios = 20 | Iteracoes = 10000\n",
            "Acurácia: 0.8961109600217568\n",
            "Loss: 0.24576218551188958\n",
            "Score treino: 0.9042828008157716\n",
            "Score teste: 0.8961109600217568\n",
            "Test AUC:  0.8922824631306683\n",
            "Train AUC:  0.9038852919875552\n"
          ],
          "name": "stdout"
        }
      ]
    },
    {
      "cell_type": "markdown",
      "metadata": {
        "id": "O08hw5K42m31"
      },
      "source": [
        "Melhor resultado\n",
        "Taxa aprendizado = 0,1 | Neurônios = 16 | Iteracoes = 100\n",
        "\n",
        "Acurácia = 0,9385107270284047"
      ]
    },
    {
      "cell_type": "code",
      "metadata": {
        "colab": {
          "base_uri": "https://localhost:8080/"
        },
        "id": "XR6PoU2k24jA",
        "outputId": "7fe1d412-cd15-47d5-8336-9bfc1f396cb9"
      },
      "source": [
        "#Para o melhor resultado (Taxa aprendizado = 0.1 | Neurônios = 16 | Iteracoes = 100), aplica-se para 10-fold cross validation\n",
        "\n",
        "X = BaseReduzida1.iloc[:,:-1].values\n",
        "y = BaseReduzida1.iloc[:,-1].values\n",
        "\n",
        "rkf = RepeatedKFold(n_splits=10, n_repeats=10, random_state=990)\n",
        "for train, test in rkf.split(X, y):\n",
        "    X_train = X[train]\n",
        "    X_test = X[test]\n",
        "    y_train = y[train]\n",
        "    y_test = y[test]\n",
        "\n",
        "minmax = MinMaxScaler()\n",
        "X_train = minmax.fit_transform(X_train)\n",
        "X_test = minmax.fit_transform(X_test)\n",
        "\n",
        "mlp = MLPClassifier(solver='sgd', momentum=0.8, \n",
        "                    hidden_layer_sizes=16, \n",
        "                    learning_rate='constant', \n",
        "                    learning_rate_init=0.1,\n",
        "                    max_iter=100, \n",
        "                    random_state=1)\n",
        "\n",
        "mlp.fit(X_train, y_train)\n",
        "y_pred = mlp.predict(X_test)\n",
        "\n",
        "#Acurácia\n",
        "acc = str(accuracy_score(y_test, y_pred))\n",
        "print(\"Acurácia:\", acc)\n",
        "\n",
        "#Matriz de Confusão\n",
        "cm = confusion_matrix(y_test, y_pred)\n",
        "print(\"Matriz de confusão\")\n",
        "print(cm)\n",
        "\n",
        "#Análise do MLP\n",
        "print(\"Loss:\", mlp.loss_)\n",
        "print (\"Score treino:\", mlp.score(X_train,y_train))\n",
        "print (\"Score teste:\",mlp.score(X_test,y_test))\n",
        "\n",
        "#Análise AUC\n",
        "test_AUC = roc_auc_score(y_test, y_pred)\n",
        "print(\"Test AUC: \", test_AUC)\n",
        "\n",
        "y_pred = mlp.predict(X_train)\n",
        "train_AUC = roc_auc_score(y_train, y_pred) \n",
        "print(\"Train AUC: \", train_AUC)"
      ],
      "execution_count": null,
      "outputs": [
        {
          "output_type": "stream",
          "text": [
            "Acurácia: 0.9285714285714286\n",
            "Matriz de confusão\n",
            "[[600  72]\n",
            " [ 33 765]]\n",
            "Loss: 0.1529415117615957\n",
            "Score treino: 0.9358712893723091\n",
            "Score teste: 0.9285714285714286\n",
            "Test AUC:  0.9257518796992482\n",
            "Train AUC:  0.9337154120235929\n"
          ],
          "name": "stdout"
        },
        {
          "output_type": "stream",
          "text": [
            "/usr/local/lib/python3.7/dist-packages/sklearn/neural_network/_multilayer_perceptron.py:571: ConvergenceWarning: Stochastic Optimizer: Maximum iterations (100) reached and the optimization hasn't converged yet.\n",
            "  % self.max_iter, ConvergenceWarning)\n"
          ],
          "name": "stderr"
        }
      ]
    },
    {
      "cell_type": "markdown",
      "metadata": {
        "id": "wssJTnT4zodH"
      },
      "source": [
        "####Base Reduzida 2"
      ]
    },
    {
      "cell_type": "code",
      "metadata": {
        "colab": {
          "base_uri": "https://localhost:8080/"
        },
        "id": "hL9cfzSczodf",
        "outputId": "01316045-f86a-4bd0-9299-6e6cc1ed63bd"
      },
      "source": [
        "for taxa_aprendizado in [0.1, 0.01, 0.001]:\n",
        "  for iteracoes in [100, 1000, 10000]:  \n",
        "    for neuronios in [12,16,20]:    \n",
        "\n",
        "      print(\"Taxa aprendizado =\", taxa_aprendizado, \"| Neurônios =\", neuronios, \"| Iteracoes =\", iteracoes)\n",
        "\n",
        "      X = BaseReduzida2.iloc[:,:-1].values\n",
        "      y = BaseReduzida2.iloc[:,-1].values\n",
        "\n",
        "      rkf = RepeatedKFold(n_splits=2, n_repeats=10, random_state=990)\n",
        "      for train, test in rkf.split(X, y):\n",
        "          X_train = X[train]\n",
        "          X_test = X[test]\n",
        "          y_train = y[train]\n",
        "          y_test = y[test]\n",
        "\n",
        "      minmax = MinMaxScaler()\n",
        "      X_train = minmax.fit_transform(X_train)\n",
        "      X_test = minmax.fit_transform(X_test)\n",
        "\n",
        "      mlp = MLPClassifier(solver='sgd', momentum=0.8, \n",
        "                          hidden_layer_sizes=neuronios, \n",
        "                          learning_rate='constant', \n",
        "                          learning_rate_init=taxa_aprendizado,\n",
        "                          max_iter=iteracoes, \n",
        "                          random_state=1)\n",
        "\n",
        "      mlp.fit(X_train, y_train)\n",
        "      y_pred = mlp.predict(X_test)\n",
        "\n",
        "      acc = str(accuracy_score(y_test, y_pred))\n",
        "      print(\"Acurácia:\", acc)\n",
        "\n",
        "      # cm = confusion_matrix(y_test, y_pred)\n",
        "      # print(\"Matriz de confusão\")\n",
        "      # print(cm)\n",
        "\n",
        "      #Análise do MLP\n",
        "      print(\"Loss:\", mlp.loss_)\n",
        "      print (\"Score treino:\", mlp.score(X_train,y_train))\n",
        "      print (\"Score teste:\",mlp.score(X_test,y_test))\n",
        "\n",
        "      #Análise AUC\n",
        "      test_AUC = roc_auc_score(y_test, y_pred)\n",
        "      print(\"Test AUC: \", test_AUC)\n",
        "\n",
        "      y_pred = mlp.predict(X_train)\n",
        "      train_AUC = roc_auc_score(y_train, y_pred) \n",
        "      print(\"Train AUC: \", train_AUC) "
      ],
      "execution_count": null,
      "outputs": [
        {
          "output_type": "stream",
          "text": [
            "Taxa aprendizado = 0.1 | Neurônios = 12 | Iteracoes = 100\n"
          ],
          "name": "stdout"
        },
        {
          "output_type": "stream",
          "text": [
            "/usr/local/lib/python3.7/dist-packages/sklearn/neural_network/_multilayer_perceptron.py:571: ConvergenceWarning: Stochastic Optimizer: Maximum iterations (100) reached and the optimization hasn't converged yet.\n",
            "  % self.max_iter, ConvergenceWarning)\n"
          ],
          "name": "stderr"
        },
        {
          "output_type": "stream",
          "text": [
            "Acurácia: 0.8433505575197172\n",
            "Loss: 0.35167493402645444\n",
            "Score treino: 0.8606390210740993\n",
            "Score teste: 0.8433505575197172\n",
            "Test AUC:  0.8376383879419839\n",
            "Train AUC:  0.8604378027622955\n",
            "Taxa aprendizado = 0.1 | Neurônios = 16 | Iteracoes = 100\n"
          ],
          "name": "stdout"
        },
        {
          "output_type": "stream",
          "text": [
            "/usr/local/lib/python3.7/dist-packages/sklearn/neural_network/_multilayer_perceptron.py:571: ConvergenceWarning: Stochastic Optimizer: Maximum iterations (100) reached and the optimization hasn't converged yet.\n",
            "  % self.max_iter, ConvergenceWarning)\n"
          ],
          "name": "stderr"
        },
        {
          "output_type": "stream",
          "text": [
            "Acurácia: 0.8553168343758499\n",
            "Loss: 0.33941415081038206\n",
            "Score treino: 0.868388851121686\n",
            "Score teste: 0.8553168343758499\n",
            "Test AUC:  0.8502771282652036\n",
            "Train AUC:  0.8679827568514995\n",
            "Taxa aprendizado = 0.1 | Neurônios = 20 | Iteracoes = 100\n"
          ],
          "name": "stdout"
        },
        {
          "output_type": "stream",
          "text": [
            "/usr/local/lib/python3.7/dist-packages/sklearn/neural_network/_multilayer_perceptron.py:571: ConvergenceWarning: Stochastic Optimizer: Maximum iterations (100) reached and the optimization hasn't converged yet.\n",
            "  % self.max_iter, ConvergenceWarning)\n"
          ],
          "name": "stderr"
        },
        {
          "output_type": "stream",
          "text": [
            "Acurácia: 0.8505575197171608\n",
            "Loss: 0.3501428873400526\n",
            "Score treino: 0.8630863358259687\n",
            "Score teste: 0.8505575197171608\n",
            "Test AUC:  0.846287762496986\n",
            "Train AUC:  0.8625792002627843\n",
            "Taxa aprendizado = 0.1 | Neurônios = 12 | Iteracoes = 1000\n",
            "Acurácia: 0.8517813434865379\n",
            "Loss: 0.3484401865683953\n",
            "Score treino: 0.8591434398368457\n",
            "Score teste: 0.8517813434865379\n",
            "Test AUC:  0.8485305851624158\n",
            "Train AUC:  0.8601037535136798\n",
            "Taxa aprendizado = 0.1 | Neurônios = 16 | Iteracoes = 1000\n",
            "Acurácia: 0.8479738917595866\n",
            "Loss: 0.3389405425389025\n",
            "Score treino: 0.8663494221617947\n",
            "Score teste: 0.8479738917595866\n",
            "Test AUC:  0.8417521871688036\n",
            "Train AUC:  0.865293916561492\n",
            "Taxa aprendizado = 0.1 | Neurônios = 20 | Iteracoes = 1000\n",
            "Acurácia: 0.8525972259994561\n",
            "Loss: 0.3448367517415922\n",
            "Score treino: 0.8628144119646499\n",
            "Score teste: 0.8525972259994561\n",
            "Test AUC:  0.8480330750621254\n",
            "Train AUC:  0.8629558688198475\n",
            "Taxa aprendizado = 0.1 | Neurônios = 12 | Iteracoes = 10000\n",
            "Acurácia: 0.8517813434865379\n",
            "Loss: 0.3484401865683953\n",
            "Score treino: 0.8591434398368457\n",
            "Score teste: 0.8517813434865379\n",
            "Test AUC:  0.8485305851624158\n",
            "Train AUC:  0.8601037535136798\n",
            "Taxa aprendizado = 0.1 | Neurônios = 16 | Iteracoes = 10000\n",
            "Acurácia: 0.8479738917595866\n",
            "Loss: 0.3389405425389025\n",
            "Score treino: 0.8663494221617947\n",
            "Score teste: 0.8479738917595866\n",
            "Test AUC:  0.8417521871688036\n",
            "Train AUC:  0.865293916561492\n",
            "Taxa aprendizado = 0.1 | Neurônios = 20 | Iteracoes = 10000\n",
            "Acurácia: 0.8525972259994561\n",
            "Loss: 0.3448367517415922\n",
            "Score treino: 0.8628144119646499\n",
            "Score teste: 0.8525972259994561\n",
            "Test AUC:  0.8480330750621254\n",
            "Train AUC:  0.8629558688198475\n",
            "Taxa aprendizado = 0.01 | Neurônios = 12 | Iteracoes = 100\n"
          ],
          "name": "stdout"
        },
        {
          "output_type": "stream",
          "text": [
            "/usr/local/lib/python3.7/dist-packages/sklearn/neural_network/_multilayer_perceptron.py:571: ConvergenceWarning: Stochastic Optimizer: Maximum iterations (100) reached and the optimization hasn't converged yet.\n",
            "  % self.max_iter, ConvergenceWarning)\n"
          ],
          "name": "stderr"
        },
        {
          "output_type": "stream",
          "text": [
            "Acurácia: 0.8220016317650258\n",
            "Loss: 0.39883020674777303\n",
            "Score treino: 0.8240652617267166\n",
            "Score teste: 0.8220016317650258\n",
            "Test AUC:  0.820234297351443\n",
            "Train AUC:  0.8250554979130647\n",
            "Taxa aprendizado = 0.01 | Neurônios = 16 | Iteracoes = 100\n"
          ],
          "name": "stdout"
        },
        {
          "output_type": "stream",
          "text": [
            "/usr/local/lib/python3.7/dist-packages/sklearn/neural_network/_multilayer_perceptron.py:571: ConvergenceWarning: Stochastic Optimizer: Maximum iterations (100) reached and the optimization hasn't converged yet.\n",
            "  % self.max_iter, ConvergenceWarning)\n"
          ],
          "name": "stderr"
        },
        {
          "output_type": "stream",
          "text": [
            "Acurácia: 0.8196899646450911\n",
            "Loss: 0.403226372827071\n",
            "Score treino: 0.8255608429639701\n",
            "Score teste: 0.8196899646450911\n",
            "Test AUC:  0.815549491366585\n",
            "Train AUC:  0.8258636684057423\n",
            "Taxa aprendizado = 0.01 | Neurônios = 20 | Iteracoes = 100\n"
          ],
          "name": "stdout"
        },
        {
          "output_type": "stream",
          "text": [
            "/usr/local/lib/python3.7/dist-packages/sklearn/neural_network/_multilayer_perceptron.py:571: ConvergenceWarning: Stochastic Optimizer: Maximum iterations (100) reached and the optimization hasn't converged yet.\n",
            "  % self.max_iter, ConvergenceWarning)\n"
          ],
          "name": "stderr"
        },
        {
          "output_type": "stream",
          "text": [
            "Acurácia: 0.8298884960565679\n",
            "Loss: 0.39146263079677457\n",
            "Score treino: 0.8372535690006798\n",
            "Score teste: 0.8298884960565679\n",
            "Test AUC:  0.8245749629738679\n",
            "Train AUC:  0.8373064329762371\n",
            "Taxa aprendizado = 0.01 | Neurônios = 12 | Iteracoes = 1000\n",
            "Acurácia: 0.8402230078868643\n",
            "Loss: 0.37202036574704456\n",
            "Score treino: 0.8432358939496941\n",
            "Score teste: 0.8402230078868643\n",
            "Test AUC:  0.8360914529614305\n",
            "Train AUC:  0.8426990006143417\n",
            "Taxa aprendizado = 0.01 | Neurônios = 16 | Iteracoes = 1000\n",
            "Acurácia: 0.844302420451455\n",
            "Loss: 0.34979427442410016\n",
            "Score treino: 0.8625424881033311\n",
            "Score teste: 0.844302420451455\n",
            "Test AUC:  0.8386604426818173\n",
            "Train AUC:  0.8615062925849679\n",
            "Taxa aprendizado = 0.01 | Neurônios = 20 | Iteracoes = 1000\n",
            "Acurácia: 0.8415828120750611\n",
            "Loss: 0.36421175644265996\n",
            "Score treino: 0.8508497620666213\n",
            "Score teste: 0.8415828120750611\n",
            "Test AUC:  0.8378112971261427\n",
            "Train AUC:  0.8514332116084304\n",
            "Taxa aprendizado = 0.01 | Neurônios = 12 | Iteracoes = 10000\n",
            "Acurácia: 0.8402230078868643\n",
            "Loss: 0.37202036574704456\n",
            "Score treino: 0.8432358939496941\n",
            "Score teste: 0.8402230078868643\n",
            "Test AUC:  0.8360914529614305\n",
            "Train AUC:  0.8426990006143417\n",
            "Taxa aprendizado = 0.01 | Neurônios = 16 | Iteracoes = 10000\n",
            "Acurácia: 0.844302420451455\n",
            "Loss: 0.34979427442410016\n",
            "Score treino: 0.8625424881033311\n",
            "Score teste: 0.844302420451455\n",
            "Test AUC:  0.8386604426818173\n",
            "Train AUC:  0.8615062925849679\n",
            "Taxa aprendizado = 0.01 | Neurônios = 20 | Iteracoes = 10000\n",
            "Acurácia: 0.8415828120750611\n",
            "Loss: 0.36421175644265996\n",
            "Score treino: 0.8508497620666213\n",
            "Score teste: 0.8415828120750611\n",
            "Test AUC:  0.8378112971261427\n",
            "Train AUC:  0.8514332116084304\n",
            "Taxa aprendizado = 0.001 | Neurônios = 12 | Iteracoes = 100\n"
          ],
          "name": "stdout"
        },
        {
          "output_type": "stream",
          "text": [
            "/usr/local/lib/python3.7/dist-packages/sklearn/neural_network/_multilayer_perceptron.py:571: ConvergenceWarning: Stochastic Optimizer: Maximum iterations (100) reached and the optimization hasn't converged yet.\n",
            "  % self.max_iter, ConvergenceWarning)\n"
          ],
          "name": "stderr"
        },
        {
          "output_type": "stream",
          "text": [
            "Acurácia: 0.7318466140875713\n",
            "Loss: 0.5457982555929266\n",
            "Score treino: 0.7400407885791979\n",
            "Score teste: 0.7318466140875713\n",
            "Test AUC:  0.7161398734992381\n",
            "Train AUC:  0.7319547323544554\n",
            "Taxa aprendizado = 0.001 | Neurônios = 16 | Iteracoes = 100\n"
          ],
          "name": "stdout"
        },
        {
          "output_type": "stream",
          "text": [
            "/usr/local/lib/python3.7/dist-packages/sklearn/neural_network/_multilayer_perceptron.py:571: ConvergenceWarning: Stochastic Optimizer: Maximum iterations (100) reached and the optimization hasn't converged yet.\n",
            "  % self.max_iter, ConvergenceWarning)\n"
          ],
          "name": "stderr"
        },
        {
          "output_type": "stream",
          "text": [
            "Acurácia: 0.7606744628773456\n",
            "Loss: 0.5026405169776976\n",
            "Score treino: 0.7828687967369137\n",
            "Score teste: 0.7606744628773456\n",
            "Test AUC:  0.7471006482099444\n",
            "Train AUC:  0.7780599512595491\n",
            "Taxa aprendizado = 0.001 | Neurônios = 20 | Iteracoes = 100\n"
          ],
          "name": "stdout"
        },
        {
          "output_type": "stream",
          "text": [
            "/usr/local/lib/python3.7/dist-packages/sklearn/neural_network/_multilayer_perceptron.py:571: ConvergenceWarning: Stochastic Optimizer: Maximum iterations (100) reached and the optimization hasn't converged yet.\n",
            "  % self.max_iter, ConvergenceWarning)\n"
          ],
          "name": "stderr"
        },
        {
          "output_type": "stream",
          "text": [
            "Acurácia: 0.7474843622518358\n",
            "Loss: 0.5010389768031385\n",
            "Score treino: 0.7718558803535011\n",
            "Score teste: 0.7474843622518358\n",
            "Test AUC:  0.7354821727536145\n",
            "Train AUC:  0.7687660834058382\n",
            "Taxa aprendizado = 0.001 | Neurônios = 12 | Iteracoes = 1000\n",
            "Acurácia: 0.7945335871634485\n",
            "Loss: 0.45159669942897757\n",
            "Score treino: 0.7997280761386811\n",
            "Score teste: 0.7945335871634485\n",
            "Test AUC:  0.7893493685067231\n",
            "Train AUC:  0.798852456557634\n",
            "Taxa aprendizado = 0.001 | Neurônios = 16 | Iteracoes = 1000\n",
            "Acurácia: 0.7882784878977427\n",
            "Loss: 0.4597030274137738\n",
            "Score treino: 0.7968728755948334\n",
            "Score teste: 0.7882784878977427\n",
            "Test AUC:  0.7805513226303405\n",
            "Train AUC:  0.7957483378840954\n",
            "Taxa aprendizado = 0.001 | Neurônios = 20 | Iteracoes = 1000\n",
            "Acurácia: 0.8001087843350557\n",
            "Loss: 0.43587437471305657\n",
            "Score treino: 0.8087015635622026\n",
            "Score teste: 0.8001087843350557\n",
            "Test AUC:  0.7945350406036406\n",
            "Train AUC:  0.8082144113553282\n",
            "Taxa aprendizado = 0.001 | Neurônios = 12 | Iteracoes = 10000\n",
            "Acurácia: 0.7945335871634485\n",
            "Loss: 0.45159669942897757\n",
            "Score treino: 0.7997280761386811\n",
            "Score teste: 0.7945335871634485\n",
            "Test AUC:  0.7893493685067231\n",
            "Train AUC:  0.798852456557634\n",
            "Taxa aprendizado = 0.001 | Neurônios = 16 | Iteracoes = 10000\n",
            "Acurácia: 0.7882784878977427\n",
            "Loss: 0.4597030274137738\n",
            "Score treino: 0.7968728755948334\n",
            "Score teste: 0.7882784878977427\n",
            "Test AUC:  0.7805513226303405\n",
            "Train AUC:  0.7957483378840954\n",
            "Taxa aprendizado = 0.001 | Neurônios = 20 | Iteracoes = 10000\n",
            "Acurácia: 0.8001087843350557\n",
            "Loss: 0.43587437471305657\n",
            "Score treino: 0.8087015635622026\n",
            "Score teste: 0.8001087843350557\n",
            "Test AUC:  0.7945350406036406\n",
            "Train AUC:  0.8082144113553282\n"
          ],
          "name": "stdout"
        }
      ]
    },
    {
      "cell_type": "markdown",
      "metadata": {
        "id": "2md5IuIdGuGJ"
      },
      "source": [
        "Melhor resultado\n",
        "Taxa aprendizado = 0,1 | Neurônios = 16 | Iteracoes = 100\n",
        "\n",
        "Acurácia = 0,8553168343758499"
      ]
    },
    {
      "cell_type": "code",
      "metadata": {
        "colab": {
          "base_uri": "https://localhost:8080/"
        },
        "id": "bn_B7vPeGuGS",
        "outputId": "1d213f18-c77b-4274-f57c-5b70de4db965"
      },
      "source": [
        "#Para o melhor resultado (Taxa aprendizado = 0.1 | Neurônios = 16 | Iteracoes = 100), aplica-se para 10-fold cross validation\n",
        "\n",
        "X = BaseReduzida2.iloc[:,:-1].values\n",
        "y = BaseReduzida2.iloc[:,-1].values\n",
        "\n",
        "rkf = RepeatedKFold(n_splits=10, n_repeats=10, random_state=990)\n",
        "for train, test in rkf.split(X, y):\n",
        "    X_train = X[train]\n",
        "    X_test = X[test]\n",
        "    y_train = y[train]\n",
        "    y_test = y[test]\n",
        "\n",
        "minmax = MinMaxScaler()\n",
        "X_train = minmax.fit_transform(X_train)\n",
        "X_test = minmax.fit_transform(X_test)\n",
        "\n",
        "mlp = MLPClassifier(solver='sgd', momentum=0.8, \n",
        "                    hidden_layer_sizes=16, \n",
        "                    learning_rate='constant', \n",
        "                    learning_rate_init=0.1,\n",
        "                    max_iter=100, \n",
        "                    random_state=1)\n",
        "\n",
        "mlp.fit(X_train, y_train)\n",
        "y_pred = mlp.predict(X_test)\n",
        "\n",
        "#Acurácia\n",
        "acc = str(accuracy_score(y_test, y_pred))\n",
        "print(\"Acurácia:\", acc)\n",
        "\n",
        "#Matriz de Confusão\n",
        "cm = confusion_matrix(y_test, y_pred)\n",
        "print(\"Matriz de confusão\")\n",
        "print(cm)\n",
        "\n",
        "#Análise do MLP\n",
        "print(\"Loss:\", mlp.loss_)\n",
        "print (\"Score treino:\", mlp.score(X_train,y_train))\n",
        "print (\"Score teste:\",mlp.score(X_test,y_test))\n",
        "\n",
        "#Análise AUC\n",
        "test_AUC = roc_auc_score(y_test, y_pred)\n",
        "print(\"Test AUC: \", test_AUC)\n",
        "\n",
        "y_pred = mlp.predict(X_train)\n",
        "train_AUC = roc_auc_score(y_train, y_pred) \n",
        "print(\"Train AUC: \", train_AUC)"
      ],
      "execution_count": null,
      "outputs": [
        {
          "output_type": "stream",
          "text": [
            "Acurácia: 0.8591836734693877\n",
            "Matriz de confusão\n",
            "[[546 126]\n",
            " [ 81 717]]\n",
            "Loss: 0.3443178476311262\n",
            "Score treino: 0.8595815393911926\n",
            "Score teste: 0.8591836734693877\n",
            "Test AUC:  0.8554981203007519\n",
            "Train AUC:  0.8563454586459427\n"
          ],
          "name": "stdout"
        },
        {
          "output_type": "stream",
          "text": [
            "/usr/local/lib/python3.7/dist-packages/sklearn/neural_network/_multilayer_perceptron.py:571: ConvergenceWarning: Stochastic Optimizer: Maximum iterations (100) reached and the optimization hasn't converged yet.\n",
            "  % self.max_iter, ConvergenceWarning)\n"
          ],
          "name": "stderr"
        }
      ]
    },
    {
      "cell_type": "markdown",
      "metadata": {
        "id": "XXIJbbEI1g4Q"
      },
      "source": [
        "####Base Reduzida 3"
      ]
    },
    {
      "cell_type": "code",
      "metadata": {
        "colab": {
          "base_uri": "https://localhost:8080/"
        },
        "id": "GeCdR5Ba1g42",
        "outputId": "72e48c31-5668-4a88-97e5-791a95f9aa18"
      },
      "source": [
        "for taxa_aprendizado in [0.1, 0.01, 0.001]:\n",
        "  for iteracoes in [100, 1000, 10000]:  \n",
        "    for neuronios in [12,16,20]:    \n",
        "\n",
        "      print(\"Taxa aprendizado =\", taxa_aprendizado, \"| Neurônios =\", neuronios, \"| Iteracoes =\", iteracoes)\n",
        "\n",
        "      X = BaseReduzida3.iloc[:,:-1].values\n",
        "      y = BaseReduzida3.iloc[:,-1].values\n",
        "\n",
        "      rkf = RepeatedKFold(n_splits=2, n_repeats=10, random_state=990)\n",
        "      for train, test in rkf.split(X, y):\n",
        "          X_train = X[train]\n",
        "          X_test = X[test]\n",
        "          y_train = y[train]\n",
        "          y_test = y[test]\n",
        "\n",
        "      minmax = MinMaxScaler()\n",
        "      X_train = minmax.fit_transform(X_train)\n",
        "      X_test = minmax.fit_transform(X_test)\n",
        "\n",
        "      mlp = MLPClassifier(solver='sgd', momentum=0.8, \n",
        "                          hidden_layer_sizes=neuronios, \n",
        "                          learning_rate='constant', \n",
        "                          learning_rate_init=taxa_aprendizado,\n",
        "                          max_iter=iteracoes, \n",
        "                          random_state=1)\n",
        "\n",
        "      mlp.fit(X_train, y_train)\n",
        "      y_pred = mlp.predict(X_test)\n",
        "\n",
        "      acc = str(accuracy_score(y_test, y_pred))\n",
        "      print(\"Acurácia:\", acc)\n",
        "\n",
        "      # cm = confusion_matrix(y_test, y_pred)\n",
        "      # print(\"Matriz de confusão\")\n",
        "      # print(cm)\n",
        "\n",
        "      #Análise do MLP\n",
        "      print(\"Loss:\", mlp.loss_)\n",
        "      print (\"Score treino:\", mlp.score(X_train,y_train))\n",
        "      print (\"Score teste:\",mlp.score(X_test,y_test))\n",
        "\n",
        "      #Análise AUC\n",
        "      test_AUC = roc_auc_score(y_test, y_pred)\n",
        "      print(\"Test AUC: \", test_AUC)\n",
        "\n",
        "      y_pred = mlp.predict(X_train)\n",
        "      train_AUC = roc_auc_score(y_train, y_pred) \n",
        "      print(\"Train AUC: \", train_AUC) "
      ],
      "execution_count": null,
      "outputs": [
        {
          "output_type": "stream",
          "text": [
            "Taxa aprendizado = 0.1 | Neurônios = 12 | Iteracoes = 100\n",
            "Acurácia: 0.5257057138960862\n",
            "Loss: 0.6890318081040679\n",
            "Score treino: 0.5357970816855312\n",
            "Score teste: 0.5257057138960862\n",
            "Test AUC:  0.5067516222284074\n",
            "Train AUC:  0.5191872348161057\n",
            "Taxa aprendizado = 0.1 | Neurônios = 16 | Iteracoes = 100\n",
            "Acurácia: 0.5273421519159962\n",
            "Loss: 0.6892366530299601\n",
            "Score treino: 0.5383881085503887\n",
            "Score teste: 0.5273421519159962\n",
            "Test AUC:  0.5082111144435246\n",
            "Train AUC:  0.5217812942782917\n",
            "Taxa aprendizado = 0.1 | Neurônios = 20 | Iteracoes = 100\n",
            "Acurácia: 0.5371607800354562\n",
            "Loss: 0.6890500585034786\n",
            "Score treino: 0.5357970816855312\n",
            "Score teste: 0.5371607800354562\n",
            "Test AUC:  0.49954233022039946\n",
            "Train AUC:  0.5049389122149558\n",
            "Taxa aprendizado = 0.1 | Neurônios = 12 | Iteracoes = 1000\n",
            "Acurácia: 0.5257057138960862\n",
            "Loss: 0.6890318081040679\n",
            "Score treino: 0.5357970816855312\n",
            "Score teste: 0.5257057138960862\n",
            "Test AUC:  0.5067516222284074\n",
            "Train AUC:  0.5191872348161057\n",
            "Taxa aprendizado = 0.1 | Neurônios = 16 | Iteracoes = 1000\n",
            "Acurácia: 0.5273421519159962\n",
            "Loss: 0.6892366530299601\n",
            "Score treino: 0.5383881085503887\n",
            "Score teste: 0.5273421519159962\n",
            "Test AUC:  0.5082111144435246\n",
            "Train AUC:  0.5217812942782917\n",
            "Taxa aprendizado = 0.1 | Neurônios = 20 | Iteracoes = 1000\n",
            "Acurácia: 0.5371607800354562\n",
            "Loss: 0.6890500585034786\n",
            "Score treino: 0.5357970816855312\n",
            "Score teste: 0.5371607800354562\n",
            "Test AUC:  0.49954233022039946\n",
            "Train AUC:  0.5049389122149558\n",
            "Taxa aprendizado = 0.1 | Neurônios = 12 | Iteracoes = 10000\n",
            "Acurácia: 0.5257057138960862\n",
            "Loss: 0.6890318081040679\n",
            "Score treino: 0.5357970816855312\n",
            "Score teste: 0.5257057138960862\n",
            "Test AUC:  0.5067516222284074\n",
            "Train AUC:  0.5191872348161057\n",
            "Taxa aprendizado = 0.1 | Neurônios = 16 | Iteracoes = 10000\n",
            "Acurácia: 0.5273421519159962\n",
            "Loss: 0.6892366530299601\n",
            "Score treino: 0.5383881085503887\n",
            "Score teste: 0.5273421519159962\n",
            "Test AUC:  0.5082111144435246\n",
            "Train AUC:  0.5217812942782917\n",
            "Taxa aprendizado = 0.1 | Neurônios = 20 | Iteracoes = 10000\n",
            "Acurácia: 0.5371607800354562\n",
            "Loss: 0.6890500585034786\n",
            "Score treino: 0.5357970816855312\n",
            "Score teste: 0.5371607800354562\n",
            "Test AUC:  0.49954233022039946\n",
            "Train AUC:  0.5049389122149558\n",
            "Taxa aprendizado = 0.01 | Neurônios = 12 | Iteracoes = 100\n",
            "Acurácia: 0.5430246829401336\n",
            "Loss: 0.6902017345372538\n",
            "Score treino: 0.5347061230055912\n",
            "Score teste: 0.5430246829401336\n",
            "Test AUC:  0.5\n",
            "Train AUC:  0.5\n",
            "Taxa aprendizado = 0.01 | Neurônios = 16 | Iteracoes = 100\n",
            "Acurácia: 0.5401609164052912\n",
            "Loss: 0.6896326267987192\n",
            "Score treino: 0.5336151643256511\n",
            "Score teste: 0.5401609164052912\n",
            "Test AUC:  0.49856898568176305\n",
            "Train AUC:  0.49966468467353325\n",
            "Taxa aprendizado = 0.01 | Neurônios = 20 | Iteracoes = 100\n",
            "Acurácia: 0.5430246829401336\n",
            "Loss: 0.6896036720855097\n",
            "Score treino: 0.5332060548206736\n",
            "Score teste: 0.5430246829401336\n",
            "Test AUC:  0.5008511893493865\n",
            "Train AUC:  0.49893971290549904\n",
            "Taxa aprendizado = 0.01 | Neurônios = 12 | Iteracoes = 1000\n",
            "Acurácia: 0.5430246829401336\n",
            "Loss: 0.6902017345372538\n",
            "Score treino: 0.5347061230055912\n",
            "Score teste: 0.5430246829401336\n",
            "Test AUC:  0.5\n",
            "Train AUC:  0.5\n",
            "Taxa aprendizado = 0.01 | Neurônios = 16 | Iteracoes = 1000\n",
            "Acurácia: 0.5401609164052912\n",
            "Loss: 0.6896326267987192\n",
            "Score treino: 0.5336151643256511\n",
            "Score teste: 0.5401609164052912\n",
            "Test AUC:  0.49856898568176305\n",
            "Train AUC:  0.49966468467353325\n",
            "Taxa aprendizado = 0.01 | Neurônios = 20 | Iteracoes = 1000\n",
            "Acurácia: 0.5430246829401336\n",
            "Loss: 0.6896036720855097\n",
            "Score treino: 0.5332060548206736\n",
            "Score teste: 0.5430246829401336\n",
            "Test AUC:  0.5008511893493865\n",
            "Train AUC:  0.49893971290549904\n",
            "Taxa aprendizado = 0.01 | Neurônios = 12 | Iteracoes = 10000\n",
            "Acurácia: 0.5430246829401336\n",
            "Loss: 0.6902017345372538\n",
            "Score treino: 0.5347061230055912\n",
            "Score teste: 0.5430246829401336\n",
            "Test AUC:  0.5\n",
            "Train AUC:  0.5\n",
            "Taxa aprendizado = 0.01 | Neurônios = 16 | Iteracoes = 10000\n",
            "Acurácia: 0.5401609164052912\n",
            "Loss: 0.6896326267987192\n",
            "Score treino: 0.5336151643256511\n",
            "Score teste: 0.5401609164052912\n",
            "Test AUC:  0.49856898568176305\n",
            "Train AUC:  0.49966468467353325\n",
            "Taxa aprendizado = 0.01 | Neurônios = 20 | Iteracoes = 10000\n",
            "Acurácia: 0.5430246829401336\n",
            "Loss: 0.6896036720855097\n",
            "Score treino: 0.5332060548206736\n",
            "Score teste: 0.5430246829401336\n",
            "Test AUC:  0.5008511893493865\n",
            "Train AUC:  0.49893971290549904\n",
            "Taxa aprendizado = 0.001 | Neurônios = 12 | Iteracoes = 100\n",
            "Acurácia: 0.5430246829401336\n",
            "Loss: 0.6914412740061505\n",
            "Score treino: 0.5347061230055912\n",
            "Score teste: 0.5430246829401336\n",
            "Test AUC:  0.5\n",
            "Train AUC:  0.5\n",
            "Taxa aprendizado = 0.001 | Neurônios = 16 | Iteracoes = 100\n",
            "Acurácia: 0.5379789990454111\n",
            "Loss: 0.6904038879640929\n",
            "Score treino: 0.5349788626755762\n",
            "Score teste: 0.5379789990454111\n",
            "Test AUC:  0.4969382513761944\n",
            "Train AUC:  0.5016247021703258\n",
            "Taxa aprendizado = 0.001 | Neurônios = 20 | Iteracoes = 100\n",
            "Acurácia: 0.5407063957452611\n",
            "Loss: 0.6904932963803037\n",
            "Score treino: 0.5352516023455611\n",
            "Score teste: 0.5407063957452611\n",
            "Test AUC:  0.5007736245513045\n",
            "Train AUC:  0.5012900221938981\n",
            "Taxa aprendizado = 0.001 | Neurônios = 12 | Iteracoes = 1000\n",
            "Acurácia: 0.5430246829401336\n",
            "Loss: 0.6914412740061505\n",
            "Score treino: 0.5347061230055912\n",
            "Score teste: 0.5430246829401336\n",
            "Test AUC:  0.5\n",
            "Train AUC:  0.5\n",
            "Taxa aprendizado = 0.001 | Neurônios = 16 | Iteracoes = 1000\n",
            "Acurácia: 0.5379789990454111\n",
            "Loss: 0.6904038879640929\n",
            "Score treino: 0.5349788626755762\n",
            "Score teste: 0.5379789990454111\n",
            "Test AUC:  0.4969382513761944\n",
            "Train AUC:  0.5016247021703258\n",
            "Taxa aprendizado = 0.001 | Neurônios = 20 | Iteracoes = 1000\n",
            "Acurácia: 0.5407063957452611\n",
            "Loss: 0.6904932963803037\n",
            "Score treino: 0.5352516023455611\n",
            "Score teste: 0.5407063957452611\n",
            "Test AUC:  0.5007736245513045\n",
            "Train AUC:  0.5012900221938981\n",
            "Taxa aprendizado = 0.001 | Neurônios = 12 | Iteracoes = 10000\n",
            "Acurácia: 0.5430246829401336\n",
            "Loss: 0.6914412740061505\n",
            "Score treino: 0.5347061230055912\n",
            "Score teste: 0.5430246829401336\n",
            "Test AUC:  0.5\n",
            "Train AUC:  0.5\n",
            "Taxa aprendizado = 0.001 | Neurônios = 16 | Iteracoes = 10000\n",
            "Acurácia: 0.5379789990454111\n",
            "Loss: 0.6904038879640929\n",
            "Score treino: 0.5349788626755762\n",
            "Score teste: 0.5379789990454111\n",
            "Test AUC:  0.4969382513761944\n",
            "Train AUC:  0.5016247021703258\n",
            "Taxa aprendizado = 0.001 | Neurônios = 20 | Iteracoes = 10000\n",
            "Acurácia: 0.5407063957452611\n",
            "Loss: 0.6904932963803037\n",
            "Score treino: 0.5352516023455611\n",
            "Score teste: 0.5407063957452611\n",
            "Test AUC:  0.5007736245513045\n",
            "Train AUC:  0.5012900221938981\n"
          ],
          "name": "stdout"
        }
      ]
    },
    {
      "cell_type": "markdown",
      "metadata": {
        "id": "1V3O3QW6Hejs"
      },
      "source": [
        "Taxa aprendizado = 0,01 | Neurônios = 12 | Iteracoes = 100\n",
        "\n",
        "Acurácia = 0,5430246829401336"
      ]
    },
    {
      "cell_type": "code",
      "metadata": {
        "colab": {
          "base_uri": "https://localhost:8080/"
        },
        "id": "kjzgOKd2Hejx",
        "outputId": "da1784e6-c8c1-4ddd-ff08-31424522e1a0"
      },
      "source": [
        "#Para o melhor resultado (Taxa aprendizado = 0.01 | Neurônios = 12 | Iteracoes = 100), aplica-se para 10-fold cross validation\n",
        "\n",
        "X = BaseReduzida3.iloc[:,:-1].values\n",
        "y = BaseReduzida3.iloc[:,-1].values\n",
        "\n",
        "rkf = RepeatedKFold(n_splits=10, n_repeats=10, random_state=990)\n",
        "for train, test in rkf.split(X, y):\n",
        "    X_train = X[train]\n",
        "    X_test = X[test]\n",
        "    y_train = y[train]\n",
        "    y_test = y[test]\n",
        "\n",
        "minmax = MinMaxScaler()\n",
        "X_train = minmax.fit_transform(X_train)\n",
        "X_test = minmax.fit_transform(X_test)\n",
        "\n",
        "mlp = MLPClassifier(solver='sgd', momentum=0.8, \n",
        "                    hidden_layer_sizes=12, \n",
        "                    learning_rate='constant', \n",
        "                    learning_rate_init=0.01,\n",
        "                    max_iter=100, \n",
        "                    random_state=1)\n",
        "\n",
        "mlp.fit(X_train, y_train)\n",
        "y_pred = mlp.predict(X_test)\n",
        "\n",
        "#Acurácia\n",
        "acc = str(accuracy_score(y_test, y_pred))\n",
        "print(\"Acurácia:\", acc)\n",
        "\n",
        "#Matriz de Confusão\n",
        "cm = confusion_matrix(y_test, y_pred)\n",
        "print(\"Matriz de confusão\")\n",
        "print(cm)\n",
        "\n",
        "#Análise do MLP\n",
        "print(\"Loss:\", mlp.loss_)\n",
        "print (\"Score treino:\", mlp.score(X_train,y_train))\n",
        "print (\"Score teste:\",mlp.score(X_test,y_test))\n",
        "\n",
        "#Análise AUC\n",
        "test_AUC = roc_auc_score(y_test, y_pred)\n",
        "print(\"Test AUC: \", test_AUC)\n",
        "\n",
        "y_pred = mlp.predict(X_train)\n",
        "train_AUC = roc_auc_score(y_train, y_pred) \n",
        "print(\"Train AUC: \", train_AUC)"
      ],
      "execution_count": null,
      "outputs": [
        {
          "output_type": "stream",
          "text": [
            "Acurácia: 0.5409276944065484\n",
            "Matriz de confusão\n",
            "[[  0 673]\n",
            " [  0 793]]\n",
            "Loss: 0.6898867058464092\n",
            "Score treino: 0.5386363636363637\n",
            "Score teste: 0.5409276944065484\n",
            "Test AUC:  0.5\n",
            "Train AUC:  0.5\n"
          ],
          "name": "stdout"
        }
      ]
    },
    {
      "cell_type": "markdown",
      "metadata": {
        "id": "g8dfKVRSHavN"
      },
      "source": [
        ""
      ]
    }
  ]
}